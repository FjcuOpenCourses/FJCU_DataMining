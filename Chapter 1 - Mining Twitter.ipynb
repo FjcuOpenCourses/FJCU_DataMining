{
 "cells": [
  {
   "cell_type": "markdown",
   "metadata": {},
   "source": [
    "# Mining Twitter\n",
    "\n",
    "Twitter implements OAuth 1.0A as its standard authentication mechanism, and in order to use it to make requests to Twitter's API, you'll need to go to https://developer.twitter.com/en/apps and create a sample application. It is possible that Twitter no longer supports sandboxed applications and you may need to submit a request for permission to develop an app on Twitter.\n",
    "\n",
    "There are four primary identifiers you'll need to note for an OAuth 1.0A workflow: consumer key, consumer secret, access token, and access token secret. Note that you will need an ordinary Twitter account in order to login, create an app, and get these credentials.\n",
    "\n",
    "<img src=\"resources/ch01-twitter/images/Twitter-AppCredentials.png\" width=\"600px\">"
   ]
  },
  {
   "cell_type": "markdown",
   "metadata": {},
   "source": [
    "If you are running this code on Binder or from the Docker container, you should just be able to execute the code in this notebook without any worries whatsoever about installing dependencies. If you are running the code from your own development envioronment, however, be advised that these examples in this chapter take advantage of a Python package called [twitter](https://github.com/sixohsix/twitter) to make API calls. You can install this package in a terminal with [pip](https://pypi.python.org/pypi/pip) with the command `pip install twitter`, preferably from within a [Python virtual environment](https://pypi.python.org/pypi/virtualenv). "
   ]
  },
  {
   "cell_type": "markdown",
   "metadata": {},
   "source": [
    "Once installed, you should be able to open up a Python interpreter (or better yet, your [IPython](http://ipython.org/) interpreter) and get rolling."
   ]
  },
  {
   "cell_type": "markdown",
   "metadata": {},
   "source": [
    "## Authorizing an application to access Twitter account data"
   ]
  },
  {
   "cell_type": "code",
   "execution_count": 1,
   "metadata": {},
   "outputs": [
    {
     "name": "stdout",
     "output_type": "stream",
     "text": [
      "<twitter.api.Twitter object at 0x00000132F060BA10>\n"
     ]
    }
   ],
   "source": [
    "import twitter\n",
    "import tweepy\n",
    "\n",
    "# Go to https://developer.twitter.com/en/apps to create an app and get values\n",
    "# for these credentials, which you'll need to provide in place of these\n",
    "# empty string values that are defined as placeholders.\n",
    "# See https://developer.twitter.com/en/docs/basics/authentication/overview/oauth\n",
    "# for more information on Twitter's OAuth implementation.\n",
    "\n",
    "CONSUMER_KEY = 'ODk5gryR06dBKI8vacj6Da8ye'\n",
    "CONSUMER_SECRET = '78veWVBkzuKXgSLXE5tZkd9Zsp6wcATeHddqrj4BN9AQKwbdG4'\n",
    "OAUTH_TOKEN = '33583902-pDEIAsHgWplGZR0o3yb0AhcaodBYyrVnUPRhw0QDn'\n",
    "OAUTH_TOKEN_SECRET = '3OZRanRZRBUgiEALdHxqwUcoG6w8Az8A7Fj22t7OGjF7G'\n",
    "\n",
    "auth = twitter.oauth.OAuth(OAUTH_TOKEN, OAUTH_TOKEN_SECRET,\n",
    "                           CONSUMER_KEY, CONSUMER_SECRET)\n",
    "\n",
    "auth2 = tweepy.OAuthHandler(CONSUMER_KEY, CONSUMER_SECRET)\n",
    "auth2.set_access_token(OAUTH_TOKEN, OAUTH_TOKEN_SECRET)\n",
    "\n",
    "twitter_api = twitter.Twitter(auth=auth)\n",
    "api = tweepy.API(auth2)\n",
    "\n",
    "# Nothing to see by displaying twitter_api except that it's now a\n",
    "# defined variable\n",
    "\n",
    "print(twitter_api)"
   ]
  },
  {
   "cell_type": "markdown",
   "metadata": {},
   "source": [
    "## Retrieving trends"
   ]
  },
  {
   "cell_type": "code",
   "execution_count": 2,
   "metadata": {},
   "outputs": [
    {
     "name": "stdout",
     "output_type": "stream",
     "text": [
      "[{'trends': [{'name': 'タモリ倶楽部', 'url': 'http://twitter.com/search?q=%E3%82%BF%E3%83%A2%E3%83%AA%E5%80%B6%E6%A5%BD%E9%83%A8', 'promoted_content': None, 'query': '%E3%82%BF%E3%83%A2%E3%83%AA%E5%80%B6%E6%A5%BD%E9%83%A8', 'tweet_volume': 34557}, {'name': '#猫の日', 'url': 'http://twitter.com/search?q=%23%E7%8C%AB%E3%81%AE%E6%97%A5', 'promoted_content': None, 'query': '%23%E7%8C%AB%E3%81%AE%E6%97%A5', 'tweet_volume': 866204}, {'name': '空耳アワー', 'url': 'http://twitter.com/search?q=%E7%A9%BA%E8%80%B3%E3%82%A2%E3%83%AF%E3%83%BC', 'promoted_content': None, 'query': '%E7%A9%BA%E8%80%B3%E3%82%A2%E3%83%AF%E3%83%BC', 'tweet_volume': None}, {'name': '#ねこの日', 'url': 'http://twitter.com/search?q=%23%E3%81%AD%E3%81%93%E3%81%AE%E6%97%A5', 'promoted_content': None, 'query': '%23%E3%81%AD%E3%81%93%E3%81%AE%E6%97%A5', 'tweet_volume': 167676}, {'name': '#あなたの猫度診断', 'url': 'http://twitter.com/search?q=%23%E3%81%82%E3%81%AA%E3%81%9F%E3%81%AE%E7%8C%AB%E5%BA%A6%E8%A8%BA%E6%96%AD', 'promoted_content': None, 'query': '%23%E3%81%82%E3%81%AA%E3%81%9F%E3%81%AE%E7%8C%AB%E5%BA%A6%E8%A8%BA%E6%96%AD', 'tweet_volume': None}, {'name': '#乃木坂11thバスラ全体ライブ', 'url': 'http://twitter.com/search?q=%23%E4%B9%83%E6%9C%A8%E5%9D%8211th%E3%83%90%E3%82%B9%E3%83%A9%E5%85%A8%E4%BD%93%E3%83%A9%E3%82%A4%E3%83%96', 'promoted_content': None, 'query': '%23%E4%B9%83%E6%9C%A8%E5%9D%8211th%E3%83%90%E3%82%B9%E3%83%A9%E5%85%A8%E4%BD%93%E3%83%A9%E3%82%A4%E3%83%96', 'tweet_volume': None}, {'name': '放送40年', 'url': 'http://twitter.com/search?q=%E6%94%BE%E9%80%8140%E5%B9%B4', 'promoted_content': None, 'query': '%E6%94%BE%E9%80%8140%E5%B9%B4', 'tweet_volume': 18535}, {'name': 'マニアック企画', 'url': 'http://twitter.com/search?q=%E3%83%9E%E3%83%8B%E3%82%A2%E3%83%83%E3%82%AF%E4%BC%81%E7%94%BB', 'promoted_content': None, 'query': '%E3%83%9E%E3%83%8B%E3%82%A2%E3%83%83%E3%82%AF%E4%BC%81%E7%94%BB', 'tweet_volume': None}, {'name': '#يوم_التاسيس', 'url': 'http://twitter.com/search?q=%23%D9%8A%D9%88%D9%85_%D8%A7%D9%84%D8%AA%D8%A7%D8%B3%D9%8A%D8%B3', 'promoted_content': None, 'query': '%23%D9%8A%D9%88%D9%85_%D8%A7%D9%84%D8%AA%D8%A7%D8%B3%D9%8A%D8%B3', 'tweet_volume': 782743}, {'name': '笑瓶さん', 'url': 'http://twitter.com/search?q=%E7%AC%91%E7%93%B6%E3%81%95%E3%82%93', 'promoted_content': None, 'query': '%E7%AC%91%E7%93%B6%E3%81%95%E3%82%93', 'tweet_volume': 87152}, {'name': 'TXT NEW OST', 'url': 'http://twitter.com/search?q=%22TXT+NEW+OST%22', 'promoted_content': None, 'query': '%22TXT+NEW+OST%22', 'tweet_volume': None}, {'name': 'みくにゃん', 'url': 'http://twitter.com/search?q=%E3%81%BF%E3%81%8F%E3%81%AB%E3%82%83%E3%82%93', 'promoted_content': None, 'query': '%E3%81%BF%E3%81%8F%E3%81%AB%E3%82%83%E3%82%93', 'tweet_volume': 13768}, {'name': 'ジェッカス', 'url': 'http://twitter.com/search?q=%E3%82%B8%E3%82%A7%E3%83%83%E3%82%AB%E3%82%B9', 'promoted_content': None, 'query': '%E3%82%B8%E3%82%A7%E3%83%83%E3%82%AB%E3%82%B9', 'tweet_volume': None}, {'name': '急性大動脈解離', 'url': 'http://twitter.com/search?q=%E6%80%A5%E6%80%A7%E5%A4%A7%E5%8B%95%E8%84%88%E8%A7%A3%E9%9B%A2', 'promoted_content': None, 'query': '%E6%80%A5%E6%80%A7%E5%A4%A7%E5%8B%95%E8%84%88%E8%A7%A3%E9%9B%A2', 'tweet_volume': 16456}, {'name': 'ダンプラ', 'url': 'http://twitter.com/search?q=%E3%83%80%E3%83%B3%E3%83%97%E3%83%A9', 'promoted_content': None, 'query': '%E3%83%80%E3%83%B3%E3%83%97%E3%83%A9', 'tweet_volume': None}, {'name': '生粋の猫', 'url': 'http://twitter.com/search?q=%E7%94%9F%E7%B2%8B%E3%81%AE%E7%8C%AB', 'promoted_content': None, 'query': '%E7%94%9F%E7%B2%8B%E3%81%AE%E7%8C%AB', 'tweet_volume': None}, {'name': '猫っぷり', 'url': 'http://twitter.com/search?q=%E7%8C%AB%E3%81%A3%E3%81%B7%E3%82%8A', 'promoted_content': None, 'query': '%E7%8C%AB%E3%81%A3%E3%81%B7%E3%82%8A', 'tweet_volume': None}, {'name': '猫度80', 'url': 'http://twitter.com/search?q=%E7%8C%AB%E5%BA%A680', 'promoted_content': None, 'query': '%E7%8C%AB%E5%BA%A680', 'tweet_volume': None}, {'name': '本物のネコちゃん', 'url': 'http://twitter.com/search?q=%E6%9C%AC%E7%89%A9%E3%81%AE%E3%83%8D%E3%82%B3%E3%81%A1%E3%82%83%E3%82%93', 'promoted_content': None, 'query': '%E6%9C%AC%E7%89%A9%E3%81%AE%E3%83%8D%E3%82%B3%E3%81%A1%E3%82%83%E3%82%93', 'tweet_volume': None}, {'name': '猫度100', 'url': 'http://twitter.com/search?q=%E7%8C%AB%E5%BA%A6100', 'promoted_content': None, 'query': '%E7%8C%AB%E5%BA%A6100', 'tweet_volume': None}, {'name': '恋ダンス', 'url': 'http://twitter.com/search?q=%E6%81%8B%E3%83%80%E3%83%B3%E3%82%B9', 'promoted_content': None, 'query': '%E6%81%8B%E3%83%80%E3%83%B3%E3%82%B9', 'tweet_volume': 12891}, {'name': '星野源P', 'url': 'http://twitter.com/search?q=%E6%98%9F%E9%87%8E%E6%BA%90P', 'promoted_content': None, 'query': '%E6%98%9F%E9%87%8E%E6%BA%90P', 'tweet_volume': 15440}, {'name': 'タモさん', 'url': 'http://twitter.com/search?q=%E3%82%BF%E3%83%A2%E3%81%95%E3%82%93', 'promoted_content': None, 'query': '%E3%82%BF%E3%83%A2%E3%81%95%E3%82%93', 'tweet_volume': None}, {'name': 'ショウヘイヘーイ', 'url': 'http://twitter.com/search?q=%E3%82%B7%E3%83%A7%E3%82%A6%E3%83%98%E3%82%A4%E3%83%98%E3%83%BC%E3%82%A4', 'promoted_content': None, 'query': '%E3%82%B7%E3%83%A7%E3%82%A6%E3%83%98%E3%82%A4%E3%83%98%E3%83%BC%E3%82%A4', 'tweet_volume': None}, {'name': 'スポニチアネックス', 'url': 'http://twitter.com/search?q=%E3%82%B9%E3%83%9D%E3%83%8B%E3%83%81%E3%82%A2%E3%83%8D%E3%83%83%E3%82%AF%E3%82%B9', 'promoted_content': None, 'query': '%E3%82%B9%E3%83%9D%E3%83%8B%E3%83%81%E3%82%A2%E3%83%8D%E3%83%83%E3%82%AF%E3%82%B9', 'tweet_volume': None}, {'name': '猫系女子', 'url': 'http://twitter.com/search?q=%E7%8C%AB%E7%B3%BB%E5%A5%B3%E5%AD%90', 'promoted_content': None, 'query': '%E7%8C%AB%E7%B3%BB%E5%A5%B3%E5%AD%90', 'tweet_volume': None}, {'name': '猫ちゃん', 'url': 'http://twitter.com/search?q=%E7%8C%AB%E3%81%A1%E3%82%83%E3%82%93', 'promoted_content': None, 'query': '%E7%8C%AB%E3%81%A1%E3%82%83%E3%82%93', 'tweet_volume': 155433}, {'name': '猫系男子', 'url': 'http://twitter.com/search?q=%E7%8C%AB%E7%B3%BB%E7%94%B7%E5%AD%90', 'promoted_content': None, 'query': '%E7%8C%AB%E7%B3%BB%E7%94%B7%E5%AD%90', 'tweet_volume': None}, {'name': '猫度50', 'url': 'http://twitter.com/search?q=%E7%8C%AB%E5%BA%A650', 'promoted_content': None, 'query': '%E7%8C%AB%E5%BA%A650', 'tweet_volume': None}, {'name': 'Prabowo Pilihan Terbaik', 'url': 'http://twitter.com/search?q=%22Prabowo+Pilihan+Terbaik%22', 'promoted_content': None, 'query': '%22Prabowo+Pilihan+Terbaik%22', 'tweet_volume': None}, {'name': 'Iya Mending Prabowo', 'url': 'http://twitter.com/search?q=%22Iya+Mending+Prabowo%22', 'promoted_content': None, 'query': '%22Iya+Mending+Prabowo%22', 'tweet_volume': None}, {'name': 'Di Dekade 08 Infonya', 'url': 'http://twitter.com/search?q=%22Di+Dekade+08+Infonya%22', 'promoted_content': None, 'query': '%22Di+Dekade+08+Infonya%22', 'tweet_volume': None}, {'name': 'モバイルICOCA', 'url': 'http://twitter.com/search?q=%E3%83%A2%E3%83%90%E3%82%A4%E3%83%ABICOCA', 'promoted_content': None, 'query': '%E3%83%A2%E3%83%90%E3%82%A4%E3%83%ABICOCA', 'tweet_volume': None}, {'name': 'ネコの日', 'url': 'http://twitter.com/search?q=%E3%83%8D%E3%82%B3%E3%81%AE%E6%97%A5', 'promoted_content': None, 'query': '%E3%83%8D%E3%82%B3%E3%81%AE%E6%97%A5', 'tweet_volume': 64160}, {'name': 'ヨントン', 'url': 'http://twitter.com/search?q=%E3%83%A8%E3%83%B3%E3%83%88%E3%83%B3', 'promoted_content': None, 'query': '%E3%83%A8%E3%83%B3%E3%83%88%E3%83%B3', 'tweet_volume': 15691}, {'name': '猫の風上', 'url': 'http://twitter.com/search?q=%E7%8C%AB%E3%81%AE%E9%A2%A8%E4%B8%8A', 'promoted_content': None, 'query': '%E7%8C%AB%E3%81%AE%E9%A2%A8%E4%B8%8A', 'tweet_volume': None}, {'name': 'ファッション猫', 'url': 'http://twitter.com/search?q=%E3%83%95%E3%82%A1%E3%83%83%E3%82%B7%E3%83%A7%E3%83%B3%E7%8C%AB', 'promoted_content': None, 'query': '%E3%83%95%E3%82%A1%E3%83%83%E3%82%B7%E3%83%A7%E3%83%B3%E7%8C%AB', 'tweet_volume': None}, {'name': '猫度20', 'url': 'http://twitter.com/search?q=%E7%8C%AB%E5%BA%A620', 'promoted_content': None, 'query': '%E7%8C%AB%E5%BA%A620', 'tweet_volume': None}, {'name': 'シャプマ', 'url': 'http://twitter.com/search?q=%E3%82%B7%E3%83%A3%E3%83%97%E3%83%9E', 'promoted_content': None, 'query': '%E3%82%B7%E3%83%A3%E3%83%97%E3%83%9E', 'tweet_volume': None}, {'name': 'Ash Wednesday', 'url': 'http://twitter.com/search?q=%22Ash+Wednesday%22', 'promoted_content': None, 'query': '%22Ash+Wednesday%22', 'tweet_volume': 25221}, {'name': '俺の嫁コール', 'url': 'http://twitter.com/search?q=%E4%BF%BA%E3%81%AE%E5%AB%81%E3%82%B3%E3%83%BC%E3%83%AB', 'promoted_content': None, 'query': '%E4%BF%BA%E3%81%AE%E5%AB%81%E3%82%B3%E3%83%BC%E3%83%AB', 'tweet_volume': None}, {'name': 'テレビ朝日', 'url': 'http://twitter.com/search?q=%E3%83%86%E3%83%AC%E3%83%93%E6%9C%9D%E6%97%A5', 'promoted_content': None, 'query': '%E3%83%86%E3%83%AC%E3%83%93%E6%9C%9D%E6%97%A5', 'tweet_volume': 15933}, {'name': 'スポーツ報知', 'url': 'http://twitter.com/search?q=%E3%82%B9%E3%83%9D%E3%83%BC%E3%83%84%E5%A0%B1%E7%9F%A5', 'promoted_content': None, 'query': '%E3%82%B9%E3%83%9D%E3%83%BC%E3%83%84%E5%A0%B1%E7%9F%A5', 'tweet_volume': 15886}, {'name': 'デレステ', 'url': 'http://twitter.com/search?q=%E3%83%87%E3%83%AC%E3%82%B9%E3%83%86', 'promoted_content': None, 'query': '%E3%83%87%E3%83%AC%E3%82%B9%E3%83%86', 'tweet_volume': 46661}, {'name': 'レイちゃん', 'url': 'http://twitter.com/search?q=%E3%83%AC%E3%82%A4%E3%81%A1%E3%82%83%E3%82%93', 'promoted_content': None, 'query': '%E3%83%AC%E3%82%A4%E3%81%A1%E3%82%83%E3%82%93', 'tweet_volume': None}, {'name': 'レール破断', 'url': 'http://twitter.com/search?q=%E3%83%AC%E3%83%BC%E3%83%AB%E7%A0%B4%E6%96%AD', 'promoted_content': None, 'query': '%E3%83%AC%E3%83%BC%E3%83%AB%E7%A0%B4%E6%96%AD', 'tweet_volume': None}, {'name': 'チャンミ', 'url': 'http://twitter.com/search?q=%E3%83%81%E3%83%A3%E3%83%B3%E3%83%9F', 'promoted_content': None, 'query': '%E3%83%81%E3%83%A3%E3%83%B3%E3%83%9F', 'tweet_volume': None}, {'name': 'Wordle 613 X', 'url': 'http://twitter.com/search?q=%22Wordle+613+X%22', 'promoted_content': None, 'query': '%22Wordle+613+X%22', 'tweet_volume': None}, {'name': 'プリンセスデー', 'url': 'http://twitter.com/search?q=%E3%83%97%E3%83%AA%E3%83%B3%E3%82%BB%E3%82%B9%E3%83%87%E3%83%BC', 'promoted_content': None, 'query': '%E3%83%97%E3%83%AA%E3%83%B3%E3%82%BB%E3%82%B9%E3%83%87%E3%83%BC', 'tweet_volume': None}, {'name': 'しょうへい', 'url': 'http://twitter.com/search?q=%E3%81%97%E3%82%87%E3%81%86%E3%81%B8%E3%81%84', 'promoted_content': None, 'query': '%E3%81%97%E3%82%87%E3%81%86%E3%81%B8%E3%81%84', 'tweet_volume': None}], 'as_of': '2023-02-22T09:12:27Z', 'created_at': '2023-02-20T10:53:20Z', 'locations': [{'name': 'Worldwide', 'woeid': 1}]}]\n",
      "\n",
      "[{'trends': [{'name': '#ThePayoff', 'url': 'http://twitter.com/search?q=%23ThePayoff', 'promoted_content': None, 'query': '%23ThePayoff', 'tweet_volume': None}, {'name': 'Wordle 613 X', 'url': 'http://twitter.com/search?q=%22Wordle+613+X%22', 'promoted_content': None, 'query': '%22Wordle+613+X%22', 'tweet_volume': None}, {'name': '#twug', 'url': 'http://twitter.com/search?q=%23twug', 'promoted_content': None, 'query': '%23twug', 'tweet_volume': None}, {'name': 'Tommie', 'url': 'http://twitter.com/search?q=Tommie', 'promoted_content': None, 'query': 'Tommie', 'tweet_volume': 19073}, {'name': '#JJK214', 'url': 'http://twitter.com/search?q=%23JJK214', 'promoted_content': None, 'query': '%23JJK214', 'tweet_volume': 11688}, {'name': 'Adin Ross', 'url': 'http://twitter.com/search?q=%22Adin+Ross%22', 'promoted_content': None, 'query': '%22Adin+Ross%22', 'tweet_volume': None}, {'name': 'Daily Quordle 394', 'url': 'http://twitter.com/search?q=%22Daily+Quordle+394%22', 'promoted_content': None, 'query': '%22Daily+Quordle+394%22', 'tweet_volume': None}, {'name': 'Yuji', 'url': 'http://twitter.com/search?q=Yuji', 'promoted_content': None, 'query': 'Yuji', 'tweet_volume': 14069}, {'name': '#RHONJ', 'url': 'http://twitter.com/search?q=%23RHONJ', 'promoted_content': None, 'query': '%23RHONJ', 'tweet_volume': 11067}, {'name': '#JJKSpoilers', 'url': 'http://twitter.com/search?q=%23JJKSpoilers', 'promoted_content': None, 'query': '%23JJKSpoilers', 'tweet_volume': None}, {'name': 'Natalie', 'url': 'http://twitter.com/search?q=Natalie', 'promoted_content': None, 'query': 'Natalie', 'tweet_volume': 42082}, {'name': 'Toy Story', 'url': 'http://twitter.com/search?q=%22Toy+Story%22', 'promoted_content': None, 'query': '%22Toy+Story%22', 'tweet_volume': 10520}, {'name': 'Vivek', 'url': 'http://twitter.com/search?q=Vivek', 'promoted_content': None, 'query': 'Vivek', 'tweet_volume': 18550}, {'name': 'Mulan', 'url': 'http://twitter.com/search?q=Mulan', 'promoted_content': None, 'query': 'Mulan', 'tweet_volume': None}, {'name': 'Francesca', 'url': 'http://twitter.com/search?q=Francesca', 'promoted_content': None, 'query': 'Francesca', 'tweet_volume': 12897}, {'name': 'Marquette', 'url': 'http://twitter.com/search?q=Marquette', 'promoted_content': None, 'query': 'Marquette', 'tweet_volume': None}, {'name': 'Fresno', 'url': 'http://twitter.com/search?q=Fresno', 'promoted_content': None, 'query': 'Fresno', 'tweet_volume': None}, {'name': 'Ash Wednesday', 'url': 'http://twitter.com/search?q=%22Ash+Wednesday%22', 'promoted_content': None, 'query': '%22Ash+Wednesday%22', 'tweet_volume': 25221}, {'name': 'Creighton', 'url': 'http://twitter.com/search?q=Creighton', 'promoted_content': None, 'query': 'Creighton', 'tweet_volume': None}, {'name': 'Megumi', 'url': 'http://twitter.com/search?q=Megumi', 'promoted_content': None, 'query': 'Megumi', 'tweet_volume': 13364}, {'name': 'Grand Jury', 'url': 'http://twitter.com/search?q=%22Grand+Jury%22', 'promoted_content': None, 'query': '%22Grand+Jury%22', 'tweet_volume': 48367}, {'name': 'Ratatouille', 'url': 'http://twitter.com/search?q=Ratatouille', 'promoted_content': None, 'query': 'Ratatouille', 'tweet_volume': None}, {'name': 'Hannah Montana', 'url': 'http://twitter.com/search?q=%22Hannah+Montana%22', 'promoted_content': None, 'query': '%22Hannah+Montana%22', 'tweet_volume': None}, {'name': 'GHOST IN THE MACHINE', 'url': 'http://twitter.com/search?q=%22GHOST+IN+THE+MACHINE%22', 'promoted_content': None, 'query': '%22GHOST+IN+THE+MACHINE%22', 'tweet_volume': None}, {'name': 'THEY THREW BEANS ON HIM', 'url': 'http://twitter.com/search?q=%22THEY+THREW+BEANS+ON+HIM%22', 'promoted_content': None, 'query': '%22THEY+THREW+BEANS+ON+HIM%22', 'tweet_volume': None}, {'name': 'Finding Nemo', 'url': 'http://twitter.com/search?q=%22Finding+Nemo%22', 'promoted_content': None, 'query': '%22Finding+Nemo%22', 'tweet_volume': None}, {'name': 'Ines', 'url': 'http://twitter.com/search?q=Ines', 'promoted_content': None, 'query': 'Ines', 'tweet_volume': 12334}, {'name': 'Gege', 'url': 'http://twitter.com/search?q=Gege', 'promoted_content': None, 'query': 'Gege', 'tweet_volume': None}, {'name': 'Melissa', 'url': 'http://twitter.com/search?q=Melissa', 'promoted_content': None, 'query': 'Melissa', 'tweet_volume': 26144}, {'name': 'Jeff Anderson', 'url': 'http://twitter.com/search?q=%22Jeff+Anderson%22', 'promoted_content': None, 'query': '%22Jeff+Anderson%22', 'tweet_volume': None}, {'name': 'Teresa', 'url': 'http://twitter.com/search?q=Teresa', 'promoted_content': None, 'query': 'Teresa', 'tweet_volume': 23255}, {'name': 'Dorow', 'url': 'http://twitter.com/search?q=Dorow', 'promoted_content': None, 'query': 'Dorow', 'tweet_volume': None}, {'name': 'Tokoyami', 'url': 'http://twitter.com/search?q=Tokoyami', 'promoted_content': None, 'query': 'Tokoyami', 'tweet_volume': None}, {'name': 'South Side', 'url': 'http://twitter.com/search?q=%22South+Side%22', 'promoted_content': None, 'query': '%22South+Side%22', 'tweet_volume': None}, {'name': 'Emily Kohrs', 'url': 'http://twitter.com/search?q=%22Emily+Kohrs%22', 'promoted_content': None, 'query': '%22Emily+Kohrs%22', 'tweet_volume': None}, {'name': 'Saginaw', 'url': 'http://twitter.com/search?q=Saginaw', 'promoted_content': None, 'query': 'Saginaw', 'tweet_volume': None}, {'name': 'Angela Davis', 'url': 'http://twitter.com/search?q=%22Angela+Davis%22', 'promoted_content': None, 'query': '%22Angela+Davis%22', 'tweet_volume': None}, {'name': 'Tyler Kolek', 'url': 'http://twitter.com/search?q=%22Tyler+Kolek%22', 'promoted_content': None, 'query': '%22Tyler+Kolek%22', 'tweet_volume': None}, {'name': 'Weverse', 'url': 'http://twitter.com/search?q=Weverse', 'promoted_content': None, 'query': 'Weverse', 'tweet_volume': 616006}, {'name': 'García Luna', 'url': 'http://twitter.com/search?q=%22Garc%C3%ADa+Luna%22', 'promoted_content': None, 'query': '%22Garc%C3%ADa+Luna%22', 'tweet_volume': 455563}, {'name': 'The Parkers', 'url': 'http://twitter.com/search?q=%22The+Parkers%22', 'promoted_content': None, 'query': '%22The+Parkers%22', 'tweet_volume': None}, {'name': 'Dan Kelly', 'url': 'http://twitter.com/search?q=%22Dan+Kelly%22', 'promoted_content': None, 'query': '%22Dan+Kelly%22', 'tweet_volume': None}, {'name': 'Princess and the Frog', 'url': 'http://twitter.com/search?q=%22Princess+and+the+Frog%22', 'promoted_content': None, 'query': '%22Princess+and+the+Frog%22', 'tweet_volume': None}, {'name': 'Kariselle', 'url': 'http://twitter.com/search?q=Kariselle', 'promoted_content': None, 'query': 'Kariselle', 'tweet_volume': None}, {'name': 'Tom Izzo', 'url': 'http://twitter.com/search?q=%22Tom+Izzo%22', 'promoted_content': None, 'query': '%22Tom+Izzo%22', 'tweet_volume': None}, {'name': 'Physical 100', 'url': 'http://twitter.com/search?q=%22Physical+100%22', 'promoted_content': None, 'query': '%22Physical+100%22', 'tweet_volume': None}, {'name': 'The Whale', 'url': 'http://twitter.com/search?q=%22The+Whale%22', 'promoted_content': None, 'query': '%22The+Whale%22', 'tweet_volume': 21685}, {'name': 'Shaka Smart', 'url': 'http://twitter.com/search?q=%22Shaka+Smart%22', 'promoted_content': None, 'query': '%22Shaka+Smart%22', 'tweet_volume': None}, {'name': 'Janet Protasiewicz', 'url': 'http://twitter.com/search?q=%22Janet+Protasiewicz%22', 'promoted_content': None, 'query': '%22Janet+Protasiewicz%22', 'tweet_volume': None}, {'name': 'Patrick Kane', 'url': 'http://twitter.com/search?q=%22Patrick+Kane%22', 'promoted_content': None, 'query': '%22Patrick+Kane%22', 'tweet_volume': None}], 'as_of': '2023-02-22T09:12:27Z', 'created_at': '2023-02-20T10:53:20Z', 'locations': [{'name': 'United States', 'woeid': 23424977}]}]\n"
     ]
    }
   ],
   "source": [
    "# The Yahoo! Where On Earth ID for the entire world is 1.\n",
    "# See https://dev.twitter.com/docs/api/1.1/get/trends/place and\n",
    "# http://developer.yahoo.com/geo/geoplanet/\n",
    "\n",
    "WORLD_WOE_ID = 1\n",
    "US_WOE_ID = 23424977\n",
    "\n",
    "# Prefix ID with the underscore for query string parameterization.\n",
    "# Without the underscore, the twitter package appends the ID value\n",
    "# to the URL itself as a special case keyword argument.\n",
    "\n",
    "world_trends = twitter_api.trends.place(_id=WORLD_WOE_ID)\n",
    "us_trends = twitter_api.trends.place(_id=US_WOE_ID)\n",
    "\n",
    "print(world_trends)\n",
    "print()\n",
    "print(us_trends)"
   ]
  },
  {
   "cell_type": "code",
   "execution_count": 3,
   "metadata": {},
   "outputs": [
    {
     "name": "stdout",
     "output_type": "stream",
     "text": [
      "タモリ倶楽部\n",
      "#猫の日\n",
      "空耳アワー\n",
      "#ねこの日\n",
      "#あなたの猫度診断\n",
      "#乃木坂11thバスラ全体ライブ\n",
      "放送40年\n",
      "マニアック企画\n",
      "#يوم_التاسيس\n",
      "笑瓶さん\n",
      "TXT NEW OST\n",
      "みくにゃん\n",
      "ジェッカス\n",
      "急性大動脈解離\n",
      "ダンプラ\n",
      "生粋の猫\n",
      "猫っぷり\n",
      "猫度80\n",
      "本物のネコちゃん\n",
      "猫度100\n",
      "恋ダンス\n",
      "星野源P\n",
      "タモさん\n",
      "ショウヘイヘーイ\n",
      "スポニチアネックス\n",
      "猫系女子\n",
      "猫ちゃん\n",
      "猫系男子\n",
      "猫度50\n",
      "Prabowo Pilihan Terbaik\n",
      "Iya Mending Prabowo\n",
      "Di Dekade 08 Infonya\n",
      "モバイルICOCA\n",
      "ネコの日\n",
      "ヨントン\n",
      "猫の風上\n",
      "ファッション猫\n",
      "猫度20\n",
      "シャプマ\n",
      "Ash Wednesday\n",
      "俺の嫁コール\n",
      "テレビ朝日\n",
      "スポーツ報知\n",
      "デレステ\n",
      "レイちゃん\n",
      "レール破断\n",
      "チャンミ\n",
      "Wordle 613 X\n",
      "プリンセスデー\n",
      "しょうへい\n"
     ]
    }
   ],
   "source": [
    "for trend in world_trends[0]['trends']:\n",
    "    print(trend['name'])"
   ]
  },
  {
   "cell_type": "code",
   "execution_count": 4,
   "metadata": {},
   "outputs": [
    {
     "name": "stdout",
     "output_type": "stream",
     "text": [
      "#ThePayoff\n",
      "Wordle 613 X\n",
      "#twug\n",
      "Tommie\n",
      "#JJK214\n",
      "Adin Ross\n",
      "Daily Quordle 394\n",
      "Yuji\n",
      "#RHONJ\n",
      "#JJKSpoilers\n",
      "Natalie\n",
      "Toy Story\n",
      "Vivek\n",
      "Mulan\n",
      "Francesca\n",
      "Marquette\n",
      "Fresno\n",
      "Ash Wednesday\n",
      "Creighton\n",
      "Megumi\n",
      "Grand Jury\n",
      "Ratatouille\n",
      "Hannah Montana\n",
      "GHOST IN THE MACHINE\n",
      "THEY THREW BEANS ON HIM\n",
      "Finding Nemo\n",
      "Ines\n",
      "Gege\n",
      "Melissa\n",
      "Jeff Anderson\n",
      "Teresa\n",
      "Dorow\n",
      "Tokoyami\n",
      "South Side\n",
      "Emily Kohrs\n",
      "Saginaw\n",
      "Angela Davis\n",
      "Tyler Kolek\n",
      "Weverse\n",
      "García Luna\n",
      "The Parkers\n",
      "Dan Kelly\n",
      "Princess and the Frog\n",
      "Kariselle\n",
      "Tom Izzo\n",
      "Physical 100\n",
      "The Whale\n",
      "Shaka Smart\n",
      "Janet Protasiewicz\n",
      "Patrick Kane\n"
     ]
    }
   ],
   "source": [
    "for trend in us_trends[0]['trends']:\n",
    "    print(trend['name'])"
   ]
  },
  {
   "cell_type": "code",
   "execution_count": 5,
   "metadata": {},
   "outputs": [
    {
     "name": "stdout",
     "output_type": "stream",
     "text": [
      "{'Ash Wednesday', 'Wordle 613 X'}\n"
     ]
    }
   ],
   "source": [
    "world_trends_set = set([trend['name'] \n",
    "                        for trend in world_trends[0]['trends']])\n",
    "\n",
    "us_trends_set = set([trend['name'] \n",
    "                     for trend in us_trends[0]['trends']]) \n",
    "\n",
    "common_trends = world_trends_set.intersection(us_trends_set)\n",
    "\n",
    "print(common_trends)"
   ]
  },
  {
   "cell_type": "markdown",
   "metadata": {},
   "source": [
    "## Anatomy of a Tweet"
   ]
  },
  {
   "cell_type": "code",
   "execution_count": 6,
   "metadata": {},
   "outputs": [
    {
     "name": "stdout",
     "output_type": "stream",
     "text": [
      "Length of statuses 100\n",
      "Length of statuses 200\n",
      "Length of statuses 300\n",
      "Length of statuses 400\n",
      "Length of statuses 500\n",
      "{\n",
      " \"created_at\": \"Wed Feb 22 09:12:19 +0000 2023\",\n",
      " \"id\": 1628321776966017024,\n",
      " \"id_str\": \"1628321776966017024\",\n",
      " \"text\": \"Spring Ornament, Papa Gift, Love Nana, Nana, https://t.co/WCebS3CB58 #nana #personalized #present #scrabble\\u2026 https://t.co/VgKEIcmUpX\",\n",
      " \"truncated\": true,\n",
      " \"entities\": {\n",
      "  \"hashtags\": [\n",
      "   {\n",
      "    \"text\": \"nana\",\n",
      "    \"indices\": [\n",
      "     69,\n",
      "     74\n",
      "    ]\n",
      "   },\n",
      "   {\n",
      "    \"text\": \"personalized\",\n",
      "    \"indices\": [\n",
      "     75,\n",
      "     88\n",
      "    ]\n",
      "   },\n",
      "   {\n",
      "    \"text\": \"present\",\n",
      "    \"indices\": [\n",
      "     89,\n",
      "     97\n",
      "    ]\n",
      "   },\n",
      "   {\n",
      "    \"text\": \"scrabble\",\n",
      "    \"indices\": [\n",
      "     98,\n",
      "     107\n",
      "    ]\n",
      "   }\n",
      "  ],\n",
      "  \"symbols\": [],\n",
      "  \"user_mentions\": [],\n",
      "  \"urls\": [\n",
      "   {\n",
      "    \"url\": \"https://t.co/WCebS3CB58\",\n",
      "    \"expanded_url\": \"https://etsy.me/36IH431\",\n",
      "    \"display_url\": \"etsy.me/36IH431\",\n",
      "    \"indices\": [\n",
      "     45,\n",
      "     68\n",
      "    ]\n",
      "   },\n",
      "   {\n",
      "    \"url\": \"https://t.co/VgKEIcmUpX\",\n",
      "    \"expanded_url\": \"https://twitter.com/i/web/status/1628321776966017024\",\n",
      "    \"display_url\": \"twitter.com/i/web/status/1\\u2026\",\n",
      "    \"indices\": [\n",
      "     109,\n",
      "     132\n",
      "    ]\n",
      "   }\n",
      "  ]\n",
      " },\n",
      " \"metadata\": {\n",
      "  \"iso_language_code\": \"tl\",\n",
      "  \"result_type\": \"recent\"\n",
      " },\n",
      " \"source\": \"<a href=\\\"https://etsymarketingtool.com\\\" rel=\\\"nofollow\\\">EtsyMarketingTool</a>\",\n",
      " \"in_reply_to_status_id\": null,\n",
      " \"in_reply_to_status_id_str\": null,\n",
      " \"in_reply_to_user_id\": null,\n",
      " \"in_reply_to_user_id_str\": null,\n",
      " \"in_reply_to_screen_name\": null,\n",
      " \"user\": {\n",
      "  \"id\": 2936563830,\n",
      "  \"id_str\": \"2936563830\",\n",
      "  \"name\": \"Hiding Place Boutique\",\n",
      "  \"screen_name\": \"hidingplacebout\",\n",
      "  \"location\": \"Texas\",\n",
      "  \"description\": \"Check out my Etsy shop for custom Scrabble Christmas Ornaments, Photo Holders, & more!\",\n",
      "  \"url\": \"http://t.co/TpfpbpPRjv\",\n",
      "  \"entities\": {\n",
      "   \"url\": {\n",
      "    \"urls\": [\n",
      "     {\n",
      "      \"url\": \"http://t.co/TpfpbpPRjv\",\n",
      "      \"expanded_url\": \"http://www.HidingPlaceBoutique.etsy.com\",\n",
      "      \"display_url\": \"HidingPlaceBoutique.etsy.com\",\n",
      "      \"indices\": [\n",
      "       0,\n",
      "       22\n",
      "      ]\n",
      "     }\n",
      "    ]\n",
      "   },\n",
      "   \"description\": {\n",
      "    \"urls\": []\n",
      "   }\n",
      "  },\n",
      "  \"protected\": false,\n",
      "  \"followers_count\": 175,\n",
      "  \"friends_count\": 104,\n",
      "  \"listed_count\": 5,\n",
      "  \"created_at\": \"Sat Dec 20 03:09:09 +0000 2014\",\n",
      "  \"favourites_count\": 7,\n",
      "  \"utc_offset\": null,\n",
      "  \"time_zone\": null,\n",
      "  \"geo_enabled\": false,\n",
      "  \"verified\": false,\n",
      "  \"statuses_count\": 6202,\n",
      "  \"lang\": null,\n",
      "  \"contributors_enabled\": false,\n",
      "  \"is_translator\": false,\n",
      "  \"is_translation_enabled\": false,\n",
      "  \"profile_background_color\": \"000000\",\n",
      "  \"profile_background_image_url\": \"http://abs.twimg.com/images/themes/theme1/bg.png\",\n",
      "  \"profile_background_image_url_https\": \"https://abs.twimg.com/images/themes/theme1/bg.png\",\n",
      "  \"profile_background_tile\": false,\n",
      "  \"profile_image_url\": \"http://pbs.twimg.com/profile_images/1058224366532485123/uE96vijf_normal.jpg\",\n",
      "  \"profile_image_url_https\": \"https://pbs.twimg.com/profile_images/1058224366532485123/uE96vijf_normal.jpg\",\n",
      "  \"profile_banner_url\": \"https://pbs.twimg.com/profile_banners/2936563830/1541135224\",\n",
      "  \"profile_link_color\": \"3B94D9\",\n",
      "  \"profile_sidebar_border_color\": \"000000\",\n",
      "  \"profile_sidebar_fill_color\": \"000000\",\n",
      "  \"profile_text_color\": \"000000\",\n",
      "  \"profile_use_background_image\": false,\n",
      "  \"has_extended_profile\": false,\n",
      "  \"default_profile\": false,\n",
      "  \"default_profile_image\": false,\n",
      "  \"following\": false,\n",
      "  \"follow_request_sent\": false,\n",
      "  \"notifications\": false,\n",
      "  \"translator_type\": \"none\",\n",
      "  \"withheld_in_countries\": []\n",
      " },\n",
      " \"geo\": null,\n",
      " \"coordinates\": null,\n",
      " \"place\": null,\n",
      " \"contributors\": null,\n",
      " \"is_quote_status\": false,\n",
      " \"retweet_count\": 0,\n",
      " \"favorite_count\": 0,\n",
      " \"favorited\": false,\n",
      " \"retweeted\": false,\n",
      " \"possibly_sensitive\": false,\n",
      " \"lang\": \"tl\"\n",
      "}\n"
     ]
    }
   ],
   "source": [
    "import json\n",
    "\n",
    "# Set this variable to a trending topic, \n",
    "# or anything else for that matter. The example query below\n",
    "# was a trending topic when this content was being developed\n",
    "# and is used throughout the remainder of this chapter.\n",
    "\n",
    "q = '#MothersDay' \n",
    "\n",
    "count = 100\n",
    "\n",
    "# Import unquote to prevent url encoding errors in next_results\n",
    "from urllib.parse import unquote\n",
    "\n",
    "# See https://dev.twitter.com/rest/reference/get/search/tweets\n",
    "\n",
    "search_results = twitter_api.search.tweets(q=q, count=count)\n",
    "\n",
    "statuses = search_results['statuses']\n",
    "\n",
    "\n",
    "# Iterate through 5 more batches of results by following the cursor\n",
    "for _ in range(5):\n",
    "    print('Length of statuses', len(statuses))\n",
    "    try:\n",
    "        next_results = search_results['search_metadata']['next_results']\n",
    "    except KeyError as e: # No more results when next_results doesn't exist\n",
    "        break\n",
    "        \n",
    "    # Create a dictionary from next_results, which has the following form:\n",
    "    # ?max_id=847960489447628799&q=%23RIPSelena&count=100&include_entities=1\n",
    "    kwargs = dict([ kv.split('=') for kv in unquote(next_results[1:]).split(\"&\") ])\n",
    "    \n",
    "    search_results = twitter_api.search.tweets(**kwargs)\n",
    "    statuses += search_results['statuses']\n",
    "\n",
    "# Show one sample search result by slicing the list...\n",
    "print(json.dumps(statuses[0], indent=1))"
   ]
  },
  {
   "cell_type": "code",
   "execution_count": 7,
   "metadata": {},
   "outputs": [
    {
     "name": "stdout",
     "output_type": "stream",
     "text": [
      "\n",
      "Spring Ornament, Papa Gift, Love Nana, Nana, https://t.co/WCebS3CB58 #nana #personalized #present #scrabble… https://t.co/VgKEIcmUpX\n",
      "Favorites:  0\n",
      "Retweets:  0\n",
      "\n",
      "RT @ruthbeckart: Mother’s Day is Sunday 19th March.\n",
      "\n",
      "I have #MothersDay2023 cards on my @Etsy shop with a stunning @Arsenal Theme.\n",
      "\n",
      "£4.50 e…\n",
      "Favorites:  0\n",
      "Retweets:  7\n",
      "\n",
      "RT @PlanetRandomUK: Tiger Eye Tree of Life Gemstone Necklace https://t.co/VkRUChJeL3 #tigereye #gemstones #silverplated #jewellery #necklac…\n",
      "Favorites:  0\n",
      "Retweets:  1\n",
      "\n",
      "RT @DaisyFordDesign: A Pink Flower and Two Blue Butterflies: 6\" x 9\" Notebook https://t.co/0CDmvqYAmp via @amazon #Notebook #journal #diary…\n",
      "Favorites:  0\n",
      "Retweets:  4\n",
      "\n",
      "RT @DaisyFordDesign: Breathtaking Pink Roses: 6\" x 9\" Lined Notebook https://t.co/szgmoCPbxX via @amazon #Notebook #journal #diary #writing…\n",
      "Favorites:  0\n",
      "Retweets:  4\n",
      "\n",
      "Get Mum Pretty In Pink!#gin #manchester #ginlovers #Mothersday #ginmeup #ginforever #ginliqueurs #manchesterbars https://t.co/vgWuxz3U4g\n",
      "Favorites:  0\n",
      "Retweets:  0\n",
      "\n",
      "RT @DaisyFordDesign: Big Pink Flower: 6\" x 9\" Lined Notebook https://t.co/0qdpKCikUN via @amazon #Notebook #journal #diary #writing #gift #…\n",
      "Favorites:  0\n",
      "Retweets:  4\n",
      "\n",
      "Get Mum Pretty In Pink!#gin #manchester #ginlovers #Mothersday #ginmeup #ginforever #ginliqueurs #manchesterbars https://t.co/f0jcQVcXPG\n",
      "Favorites:  0\n",
      "Retweets:  0\n",
      "\n",
      "Get Mum Pretty In Pink!#gin #manchester #ginlovers #Mothersday #ginmeup #ginforever #ginliqueurs #manchesterbars https://t.co/Cv9NnCjOy0\n",
      "Favorites:  0\n",
      "Retweets:  0\n",
      "\n",
      "RT @DaisyFordDesign: Purple Butterfly and Small Flowers: 6\" x 9\" Lined Notebook https://t.co/QdrpZQfCIU via @amazon #Notebook #journal #dia…\n",
      "Favorites:  0\n",
      "Retweets:  4\n"
     ]
    }
   ],
   "source": [
    "for i in range(10):\n",
    "    print()\n",
    "    print(statuses[i]['text'])\n",
    "    print('Favorites: ', statuses[i]['favorite_count'])\n",
    "    print('Retweets: ', statuses[i]['retweet_count'])"
   ]
  },
  {
   "cell_type": "markdown",
   "metadata": {},
   "source": [
    "## Extracting text, screen names, and hashtags from tweets"
   ]
  },
  {
   "cell_type": "code",
   "execution_count": 8,
   "metadata": {},
   "outputs": [
    {
     "name": "stdout",
     "output_type": "stream",
     "text": [
      "[\n",
      " \"Spring Ornament, Papa Gift, Love Nana, Nana, https://t.co/WCebS3CB58 #nana #personalized #present #scrabble\\u2026 https://t.co/VgKEIcmUpX\",\n",
      " \"RT @ruthbeckart: Mother\\u2019s Day is Sunday 19th March.\\n\\nI have #MothersDay2023 cards on my @Etsy shop with a stunning @Arsenal Theme.\\n\\n\\u00a34.50 e\\u2026\",\n",
      " \"RT @PlanetRandomUK: Tiger Eye Tree of Life Gemstone Necklace https://t.co/VkRUChJeL3 #tigereye #gemstones #silverplated #jewellery #necklac\\u2026\",\n",
      " \"RT @DaisyFordDesign: A Pink Flower and Two Blue Butterflies: 6\\\" x 9\\\" Notebook https://t.co/0CDmvqYAmp via @amazon #Notebook #journal #diary\\u2026\",\n",
      " \"RT @DaisyFordDesign: Breathtaking Pink Roses: 6\\\" x 9\\\" Lined Notebook https://t.co/szgmoCPbxX via @amazon #Notebook #journal #diary #writing\\u2026\"\n",
      "]\n",
      "[\n",
      " \"ruthbeckart\",\n",
      " \"Etsy\",\n",
      " \"Arsenal\",\n",
      " \"PlanetRandomUK\",\n",
      " \"DaisyFordDesign\"\n",
      "]\n",
      "[\n",
      " \"nana\",\n",
      " \"personalized\",\n",
      " \"present\",\n",
      " \"scrabble\",\n",
      " \"MothersDay2023\"\n",
      "]\n",
      "[\n",
      " \"Spring\",\n",
      " \"Ornament,\",\n",
      " \"Papa\",\n",
      " \"Gift,\",\n",
      " \"Love\"\n",
      "]\n"
     ]
    }
   ],
   "source": [
    "status_texts = [ status['text'] \n",
    "                 for status in statuses ]\n",
    "\n",
    "screen_names = [ user_mention['screen_name'] \n",
    "                 for status in statuses\n",
    "                     for user_mention in status['entities']['user_mentions'] ]\n",
    "\n",
    "hashtags = [ hashtag['text'] \n",
    "             for status in statuses\n",
    "                 for hashtag in status['entities']['hashtags'] ]\n",
    "\n",
    "# Compute a collection of all words from all tweets\n",
    "words = [ w \n",
    "          for t in status_texts \n",
    "              for w in t.split() ]\n",
    "\n",
    "# Explore the first 5 items for each...\n",
    "\n",
    "print(json.dumps(status_texts[0:5], indent=1))\n",
    "print(json.dumps(screen_names[0:5], indent=1) )\n",
    "print(json.dumps(hashtags[0:5], indent=1))\n",
    "print(json.dumps(words[0:5], indent=1))"
   ]
  },
  {
   "cell_type": "markdown",
   "metadata": {},
   "source": [
    "## Creating a basic frequency distribution from the words in tweets"
   ]
  },
  {
   "cell_type": "code",
   "execution_count": 9,
   "metadata": {},
   "outputs": [
    {
     "name": "stdout",
     "output_type": "stream",
     "text": [
      "[('RT', 443), ('a', 157), ('to', 151), ('#earlybiz', 149), ('my', 148), ('and', 141), ('in', 129), ('the', 129), ('of', 127), ('#MothersDay', 126)]\n",
      "\n",
      "[('pstampartistry', 88), ('TheWiganRunner', 42), ('FoxgloveAcrylic', 27), ('GlassCrafty', 26), ('DaisyFordDesign', 25), ('amazon', 25), ('MillerandCarter', 21), ('kblacey', 21), ('EcoOctopus', 17), ('TheWeeOwl', 14)]\n",
      "\n",
      "[('earlybiz', 149), ('MothersDay', 129), ('mhhsbd', 117), ('craftbizparty', 111), ('postagestamps', 111), ('postagestampstamp', 111), ('postagestampart', 111), ('stampart', 88), ('gifts', 62), ('EarlyBiz', 52)]\n",
      "\n"
     ]
    }
   ],
   "source": [
    "from collections import Counter\n",
    "\n",
    "for item in [words, screen_names, hashtags]:\n",
    "    c = Counter(item)\n",
    "    print(c.most_common()[:10]) # top 10\n",
    "    print()"
   ]
  },
  {
   "cell_type": "markdown",
   "metadata": {},
   "source": [
    "## Using prettytable to display tuples in a nice tabular format"
   ]
  },
  {
   "cell_type": "code",
   "execution_count": 10,
   "metadata": {},
   "outputs": [
    {
     "name": "stdout",
     "output_type": "stream",
     "text": [
      "+-------------+-------+\n",
      "| Word        | Count |\n",
      "+-------------+-------+\n",
      "| RT          |   443 |\n",
      "| a           |   157 |\n",
      "| to          |   151 |\n",
      "| #earlybiz   |   149 |\n",
      "| my          |   148 |\n",
      "| and         |   141 |\n",
      "| in          |   129 |\n",
      "| the         |   129 |\n",
      "| of          |   127 |\n",
      "| #MothersDay |   126 |\n",
      "+-------------+-------+\n",
      "+-----------------+-------+\n",
      "| Screen Name     | Count |\n",
      "+-----------------+-------+\n",
      "| pstampartistry  |    88 |\n",
      "| TheWiganRunner  |    42 |\n",
      "| FoxgloveAcrylic |    27 |\n",
      "| GlassCrafty     |    26 |\n",
      "| DaisyFordDesign |    25 |\n",
      "| amazon          |    25 |\n",
      "| MillerandCarter |    21 |\n",
      "| kblacey         |    21 |\n",
      "| EcoOctopus      |    17 |\n",
      "| TheWeeOwl       |    14 |\n",
      "+-----------------+-------+\n",
      "+-------------------+-------+\n",
      "| Hashtag           | Count |\n",
      "+-------------------+-------+\n",
      "| earlybiz          |   149 |\n",
      "| MothersDay        |   129 |\n",
      "| mhhsbd            |   117 |\n",
      "| craftbizparty     |   111 |\n",
      "| postagestamps     |   111 |\n",
      "| postagestampstamp |   111 |\n",
      "| postagestampart   |   111 |\n",
      "| stampart          |    88 |\n",
      "| gifts             |    62 |\n",
      "| EarlyBiz          |    52 |\n",
      "+-------------------+-------+\n"
     ]
    }
   ],
   "source": [
    "from prettytable import PrettyTable\n",
    "\n",
    "for label, data in (('Word', words), \n",
    "                    ('Screen Name', screen_names), \n",
    "                    ('Hashtag', hashtags)):\n",
    "    pt = PrettyTable(field_names=[label, 'Count']) \n",
    "    c = Counter(data)\n",
    "    [ pt.add_row(kv) for kv in c.most_common()[:10] ]\n",
    "    pt.align[label], pt.align['Count'] = 'l', 'r' # Set column alignment\n",
    "    print(pt)"
   ]
  },
  {
   "cell_type": "markdown",
   "metadata": {},
   "source": [
    "## Calculating lexical diversity for tweets"
   ]
  },
  {
   "cell_type": "code",
   "execution_count": 11,
   "metadata": {},
   "outputs": [
    {
     "name": "stdout",
     "output_type": "stream",
     "text": [
      "0.17677102052397617\n",
      "0.17272727272727273\n",
      "0.11857142857142858\n",
      "17.621666666666666\n"
     ]
    }
   ],
   "source": [
    "# A function for computing lexical diversity\n",
    "def lexical_diversity(tokens):\n",
    "    return len(set(tokens))/len(tokens) \n",
    "\n",
    "# A function for computing the average number of words per tweet\n",
    "def average_words(statuses):\n",
    "    total_words = sum([ len(s.split()) for s in statuses ]) \n",
    "    return total_words/len(statuses)\n",
    "\n",
    "print(lexical_diversity(words))\n",
    "print(lexical_diversity(screen_names))\n",
    "print(lexical_diversity(hashtags))\n",
    "print(average_words(status_texts))"
   ]
  },
  {
   "cell_type": "markdown",
   "metadata": {},
   "source": [
    "## Finding the most popular retweets"
   ]
  },
  {
   "cell_type": "code",
   "execution_count": 12,
   "metadata": {},
   "outputs": [
    {
     "name": "stdout",
     "output_type": "stream",
     "text": [
      "+-------+----------------+---------------------+----------------------------------------------------+\n",
      "| Count | Screen Name    | Tweet ID            | Text                                               |\n",
      "+-------+----------------+---------------------+----------------------------------------------------+\n",
      "| 1275  | GreenSwelfares | 1523168644708311042 | RT @GreenSwelfares: Your love prospers every       |\n",
      "|       |                |                     | moment for each of Your children, MSG Ma Saint Dr. |\n",
      "|       |                |                     | @Gurmeetramrahim Singh Ji Insan! We are gra…       |\n",
      "| 239   | hiduplagi_id   | 1605905995531800580 | RT @hiduplagi_id: Meskipun udah gede gini, ada     |\n",
      "|       |                |                     | banyak hal yang kita nggak tau dan cuma bisa dapet |\n",
      "|       |                |                     | dari Ibu.                                          |\n",
      "|       |                |                     |                                                    |\n",
      "|       |                |                     | Di spesial Hari Ibu, apa hal…                      |\n",
      "| 217   | TheWiganRunner | 1627999068965175296 | RT @TheWiganRunner: 💷 A £20 @MillerandCarter      |\n",
      "|       |                |                     | GIFTCARD 💷                                        |\n",
      "|       |                |                     |                                                    |\n",
      "|       |                |                     | 💷  LIKE                                           |\n",
      "|       |                |                     | 💷  RETWEET                                        |\n",
      "|       |                |                     | 💷  FOLLOW @TheWiganRunner 🙋🏻‍♂️                   |\n",
      "|       |                |                     |                                                    |\n",
      "|       |                |                     | This is also potentially a goo…                    |\n",
      "| 217   | TheWiganRunner | 1627999068965175296 | RT @TheWiganRunner: 💷 A £20 @MillerandCarter      |\n",
      "|       |                |                     | GIFTCARD 💷                                        |\n",
      "|       |                |                     |                                                    |\n",
      "|       |                |                     | 💷  LIKE                                           |\n",
      "|       |                |                     | 💷  RETWEET                                        |\n",
      "|       |                |                     | 💷  FOLLOW @TheWiganRunner 🙋🏻‍♂️                   |\n",
      "|       |                |                     |                                                    |\n",
      "|       |                |                     | This is also potentially a goo…                    |\n",
      "| 217   | TheWiganRunner | 1627999068965175296 | RT @TheWiganRunner: 💷 A £20 @MillerandCarter      |\n",
      "|       |                |                     | GIFTCARD 💷                                        |\n",
      "|       |                |                     |                                                    |\n",
      "|       |                |                     | 💷  LIKE                                           |\n",
      "|       |                |                     | 💷  RETWEET                                        |\n",
      "|       |                |                     | 💷  FOLLOW @TheWiganRunner 🙋🏻‍♂️                   |\n",
      "|       |                |                     |                                                    |\n",
      "|       |                |                     | This is also potentially a goo…                    |\n",
      "+-------+----------------+---------------------+----------------------------------------------------+\n"
     ]
    }
   ],
   "source": [
    "retweets = [\n",
    "            # Store out a tuple of these three values ...\n",
    "            (status['retweet_count'], \n",
    "             status['retweeted_status']['user']['screen_name'],\n",
    "             status['retweeted_status']['id'],\n",
    "             status['text']) \n",
    "            \n",
    "            # ... for each status ...\n",
    "            for status in statuses \n",
    "            \n",
    "            # ... so long as the status meets this condition.\n",
    "                if 'retweeted_status' in status.keys()\n",
    "           ]\n",
    "\n",
    "# Slice off the first 5 from the sorted results and display each item in the tuple\n",
    "\n",
    "pt = PrettyTable(field_names=['Count', 'Screen Name', 'Tweet ID', 'Text'])\n",
    "[ pt.add_row(row) for row in sorted(retweets, reverse=True)[:5] ]\n",
    "pt.max_width['Text'] = 50\n",
    "pt.align= 'l'\n",
    "print(pt)"
   ]
  },
  {
   "cell_type": "markdown",
   "metadata": {},
   "source": [
    "## Looking up users who have retweeted a status"
   ]
  },
  {
   "cell_type": "code",
   "execution_count": 13,
   "metadata": {},
   "outputs": [
    {
     "name": "stdout",
     "output_type": "stream",
     "text": [
      "['vijoumolce1988', 'driftourare1988', 'ShinobiSasha', 'livingmybestie', 'Rockawaytheday']\n"
     ]
    }
   ],
   "source": [
    "# Get the original tweet id for a tweet from its retweeted_status node \n",
    "# and insert it here\n",
    "\n",
    "_retweets = twitter_api.statuses.retweets(id=862359093398261760)\n",
    "print([r['user']['screen_name'] for r in _retweets])"
   ]
  },
  {
   "cell_type": "markdown",
   "metadata": {},
   "source": [
    "## Plotting frequencies of words"
   ]
  },
  {
   "cell_type": "code",
   "execution_count": 14,
   "metadata": {},
   "outputs": [
    {
     "data": {
      "text/plain": [
       "Text(0.5, 0, 'Word Rank')"
      ]
     },
     "execution_count": 14,
     "metadata": {},
     "output_type": "execute_result"
    },
    {
     "data": {
      "image/png": "[encoded data removed]",
      "text/plain": [
       "<Figure size 640x480 with 1 Axes>"
      ]
     },
     "metadata": {},
     "output_type": "display_data"
    }
   ],
   "source": [
    "import matplotlib.pyplot as plt\n",
    "%matplotlib inline\n",
    "word_counts = sorted(Counter(words).values(), reverse=True)\n",
    "\n",
    "plt.loglog(word_counts)\n",
    "plt.ylabel(\"Freq\")\n",
    "plt.xlabel(\"Word Rank\")"
   ]
  },
  {
   "cell_type": "markdown",
   "metadata": {},
   "source": [
    "## Generating histograms of words, screen names, and hashtags"
   ]
  },
  {
   "cell_type": "code",
   "execution_count": 15,
   "metadata": {},
   "outputs": [
    {
     "data": {
      "image/png": "[encoded data removed]",
      "text/plain": [
       "<Figure size 640x480 with 1 Axes>"
      ]
     },
     "metadata": {},
     "output_type": "display_data"
    },
    {
     "data": {
      "image/png": "[encoded data removed]",
      "text/plain": [
       "<Figure size 640x480 with 1 Axes>"
      ]
     },
     "metadata": {},
     "output_type": "display_data"
    },
    {
     "data": {
      "image/png": "[encoded data removed]",
      "text/plain": [
       "<Figure size 640x480 with 1 Axes>"
      ]
     },
     "metadata": {},
     "output_type": "display_data"
    },
    {
     "data": {
      "text/plain": [
       "<Figure size 640x480 with 0 Axes>"
      ]
     },
     "metadata": {},
     "output_type": "display_data"
    }
   ],
   "source": [
    "for label, data in (('Words', words), \n",
    "                    ('Screen Names', screen_names), \n",
    "                    ('Hashtags', hashtags)):\n",
    "\n",
    "    # Build a frequency map for each set of data\n",
    "    # and plot the values\n",
    "    c = Counter(data)\n",
    "    plt.hist(list(c.values()))\n",
    "    \n",
    "    # Add a title and y-label ...\n",
    "    plt.title(label)\n",
    "    plt.ylabel(\"Number of items in bin\")\n",
    "    plt.xlabel(\"Bins (number of times an item appeared)\")\n",
    "    \n",
    "    # ... and display as a new figure\n",
    "    plt.figure()"
   ]
  },
  {
   "cell_type": "markdown",
   "metadata": {},
   "source": [
    "## Generating a histogram of retweet counts"
   ]
  },
  {
   "cell_type": "code",
   "execution_count": 16,
   "metadata": {},
   "outputs": [
    {
     "data": {
      "text/plain": [
       "Text(0, 0.5, 'Number of tweets in bin')"
      ]
     },
     "execution_count": 16,
     "metadata": {},
     "output_type": "execute_result"
    },
    {
     "data": {
      "image/png": "[encoded data removed]",
      "text/plain": [
       "<Figure size 640x480 with 1 Axes>"
      ]
     },
     "metadata": {},
     "output_type": "display_data"
    }
   ],
   "source": [
    "# Using underscores while unpacking values in\n",
    "# a tuple is idiomatic for discarding them\n",
    "\n",
    "counts = [count for count, _, _, _ in retweets]\n",
    "\n",
    "plt.hist(counts)\n",
    "plt.title('Retweets')\n",
    "plt.xlabel('Bins (number of times retweeted)')\n",
    "plt.ylabel('Number of tweets in bin')"
   ]
  },
  {
   "cell_type": "markdown",
   "metadata": {
    "collapsed": true
   },
   "source": [
    "## Sentiment Analysis"
   ]
  },
  {
   "cell_type": "code",
   "execution_count": 17,
   "metadata": {},
   "outputs": [
    {
     "name": "stderr",
     "output_type": "stream",
     "text": [
      "[nltk_data] Downloading package vader_lexicon to\n",
      "[nltk_data]     C:\\Users\\SF624\\AppData\\Roaming\\nltk_data...\n",
      "[nltk_data]   Package vader_lexicon is already up-to-date!\n"
     ]
    }
   ],
   "source": [
    "# pip install nltk\n",
    "import nltk\n",
    "nltk.download('vader_lexicon')\n",
    "\n",
    "import numpy as np\n",
    "from nltk.sentiment.vader import SentimentIntensityAnalyzer"
   ]
  },
  {
   "cell_type": "code",
   "execution_count": 18,
   "metadata": {},
   "outputs": [],
   "source": [
    "tweets = tweepy.Cursor(api.search_tweets, q=\"Taiwan\",lang='en').items(10)\n",
    "#twitter_stream = twitter.TwitterStream(auth=auth)\n",
    "#iterator = twitter_stream.statuses.sample()\n",
    "\n",
    "#for tweet in tweets:    \n",
    "#    print(tweet.text)"
   ]
  },
  {
   "cell_type": "code",
   "execution_count": 19,
   "metadata": {},
   "outputs": [
    {
     "name": "stdout",
     "output_type": "stream",
     "text": [
      "10\n"
     ]
    }
   ],
   "source": [
    "tweet_list = []\n",
    "for tweet in tweets:\n",
    "    tweet_list.append(tweet.text)\n",
    "    \n",
    "print(len(tweet_list))"
   ]
  },
  {
   "cell_type": "code",
   "execution_count": 20,
   "metadata": {},
   "outputs": [],
   "source": [
    "analyzer = SentimentIntensityAnalyzer()"
   ]
  },
  {
   "cell_type": "code",
   "execution_count": 21,
   "metadata": {},
   "outputs": [
    {
     "data": {
      "text/plain": [
       "{'neg': 0.0, 'neu': 1.0, 'pos': 0.0, 'compound': 0.0}"
      ]
     },
     "execution_count": 21,
     "metadata": {},
     "output_type": "execute_result"
    }
   ],
   "source": [
    "analyzer.polarity_scores('Hello')"
   ]
  },
  {
   "cell_type": "code",
   "execution_count": 22,
   "metadata": {},
   "outputs": [
    {
     "data": {
      "text/plain": [
       "{'neg': 0.0, 'neu': 0.534, 'pos': 0.466, 'compound': 0.5413}"
      ]
     },
     "execution_count": 22,
     "metadata": {},
     "output_type": "execute_result"
    }
   ],
   "source": [
    "analyzer.polarity_scores('I really enjoy this video series.')"
   ]
  },
  {
   "cell_type": "code",
   "execution_count": 23,
   "metadata": {},
   "outputs": [
    {
     "data": {
      "text/plain": [
       "{'neg': 0.0, 'neu': 0.486, 'pos': 0.514, 'compound': 0.64}"
      ]
     },
     "execution_count": 23,
     "metadata": {},
     "output_type": "execute_result"
    }
   ],
   "source": [
    "analyzer.polarity_scores('I REALLY enjoy this video series.')"
   ]
  },
  {
   "cell_type": "code",
   "execution_count": 24,
   "metadata": {},
   "outputs": [
    {
     "data": {
      "text/plain": [
       "{'neg': 0.0, 'neu': 0.439, 'pos': 0.561, 'compound': 0.7271}"
      ]
     },
     "execution_count": 24,
     "metadata": {},
     "output_type": "execute_result"
    }
   ],
   "source": [
    "analyzer.polarity_scores('I REALLY enjoy this video series!!!')"
   ]
  },
  {
   "cell_type": "code",
   "execution_count": 25,
   "metadata": {},
   "outputs": [
    {
     "data": {
      "text/plain": [
       "{'neg': 0.425, 'neu': 0.575, 'pos': 0.0, 'compound': -0.6627}"
      ]
     },
     "execution_count": 25,
     "metadata": {},
     "output_type": "execute_result"
    }
   ],
   "source": [
    "analyzer.polarity_scores('I REALLY did not enjoy this video series!!!')"
   ]
  },
  {
   "cell_type": "code",
   "execution_count": 26,
   "metadata": {},
   "outputs": [
    {
     "name": "stdout",
     "output_type": "stream",
     "text": [
      "RT @GordonGChang: Cannot wait to talk with @cherylcasone, anchoring for @MariaBartiromo, on @FoxBusiness’s @MorningsMaria at 6:45 ET. We’re…\n",
      "{'neg': 0.0, 'neu': 1.0, 'pos': 0.0, 'compound': 0.0}\n",
      "RT @stussyjimin: Park Jimin on the covers of W Korea, DA MAN, Esquire Taiwan and Elle Hong Kong magazines in 2023. https://t.co/xEEVNmAaAz\n",
      "{'neg': 0.0, 'neu': 1.0, 'pos': 0.0, 'compound': 0.0}\n",
      "RT @PJM_data: Jimin x Dior 2023 magazines covers:\n",
      "\n",
      "▪︎W Korea 🇰🇷 \n",
      "▪︎DAMAN Indonesia 🇮🇩 \n",
      "▪︎Esquire Taiwan 🇹🇼\n",
      "▪︎ELLE Hong Kong 🇭🇰\n",
      "\n",
      "... what's…\n",
      "{'neg': 0.0, 'neu': 1.0, 'pos': 0.0, 'compound': 0.0}\n",
      "RT @NFSC_HAGnews: U.S. Defense Department Official Visits Taiwan.\n",
      "\n",
      "The Pentagon declined to provide an explanation to the Chinese Communist…\n",
      "{'neg': 0.0, 'neu': 0.923, 'pos': 0.077, 'compound': 0.128}\n",
      "RT @PJM_data: Jimin x Dior 2023 magazines covers:\n",
      "\n",
      "▪︎W Korea 🇰🇷 \n",
      "▪︎DAMAN Indonesia 🇮🇩 \n",
      "▪︎Esquire Taiwan 🇹🇼\n",
      "▪︎ELLE Hong Kong 🇭🇰\n",
      "\n",
      "... what's…\n",
      "{'neg': 0.0, 'neu': 1.0, 'pos': 0.0, 'compound': 0.0}\n",
      "RT @by_verivery: [#계현]\n",
      "\n",
      "Thank you Taiwan💜🤍\n",
      "\n",
      "#GYEHYEON \n",
      "#VERIVERY https://t.co/IaSSfxSObi\n",
      "{'neg': 0.0, 'neu': 0.762, 'pos': 0.238, 'compound': 0.3612}\n",
      "RT @PJM_data: Jimin x Dior 2023 magazines covers:\n",
      "\n",
      "▪︎W Korea 🇰🇷 \n",
      "▪︎DAMAN Indonesia 🇮🇩 \n",
      "▪︎Esquire Taiwan 🇹🇼\n",
      "▪︎ELLE Hong Kong 🇭🇰\n",
      "\n",
      "... what's…\n",
      "{'neg': 0.0, 'neu': 1.0, 'pos': 0.0, 'compound': 0.0}\n",
      "RT @by_verivery: [#계현]\n",
      "\n",
      "Thank you Taiwan💜🤍\n",
      "\n",
      "#GYEHYEON \n",
      "#VERIVERY https://t.co/IaSSfxSObi\n",
      "{'neg': 0.0, 'neu': 0.762, 'pos': 0.238, 'compound': 0.3612}\n",
      "RT @PJM_data: Jimin x Dior 2023 magazines covers:\n",
      "\n",
      "▪︎W Korea 🇰🇷 \n",
      "▪︎DAMAN Indonesia 🇮🇩 \n",
      "▪︎Esquire Taiwan 🇹🇼\n",
      "▪︎ELLE Hong Kong 🇭🇰\n",
      "\n",
      "... what's…\n",
      "{'neg': 0.0, 'neu': 1.0, 'pos': 0.0, 'compound': 0.0}\n",
      "RT @Sakura04980792: @Himmendoerfer @Ukraine66251776 @VeraVanHorne The Kissinger Doctrine is implemented by Zionist imperialism.  Because of…\n",
      "{'neg': 0.0, 'neu': 1.0, 'pos': 0.0, 'compound': 0.0}\n"
     ]
    }
   ],
   "source": [
    "scores = np.zeros(len(tweet_list))\n",
    "\n",
    "for i, t in enumerate(tweet_list):\n",
    "    # Extract the text portion of the tweet\n",
    "    text = t\n",
    "    #print (text)\n",
    "    # Measure the polarity of the tweet\n",
    "    polarity = analyzer.polarity_scores(text)\n",
    "    #print (polarity)\n",
    "    # Store the normalized, weighted composite score\n",
    "    scores[i] = polarity['compound']"
   ]
  },
  {
   "cell_type": "code",
   "execution_count": 27,
   "metadata": {},
   "outputs": [],
   "source": [
    "most_positive = np.argmax(scores)\n",
    "most_negative = np.argmin(scores)"
   ]
  },
  {
   "cell_type": "code",
   "execution_count": 28,
   "metadata": {},
   "outputs": [
    {
     "name": "stdout",
     "output_type": "stream",
     "text": [
      " 0.361 : \"RT @by_verivery: [#계현]\n",
      "\n",
      "Thank you Taiwan💜🤍\n",
      "\n",
      "#GYEHYEON \n",
      "#VERIVERY https://t.co/IaSSfxSObi\"\n"
     ]
    }
   ],
   "source": [
    "print('{0:6.3f} : \"{1}\"'.format(scores[most_positive], tweet_list[most_positive]))"
   ]
  },
  {
   "cell_type": "code",
   "execution_count": 29,
   "metadata": {},
   "outputs": [
    {
     "name": "stdout",
     "output_type": "stream",
     "text": [
      " 0.000 : \"RT @GordonGChang: Cannot wait to talk with @cherylcasone, anchoring for @MariaBartiromo, on @FoxBusiness’s @MorningsMaria at 6:45 ET. We’re…\"\n"
     ]
    }
   ],
   "source": [
    "print('{0:6.3f} : \"{1}\"'.format(scores[most_negative], tweet_list[most_negative]))"
   ]
  },
  {
   "cell_type": "code",
   "execution_count": null,
   "metadata": {},
   "outputs": [],
   "source": []
  }
 ],
 "metadata": {
  "kernelspec": {
   "display_name": "Python 3 (ipykernel)",
   "language": "python",
   "name": "python3"
  },
  "language_info": {
   "codemirror_mode": {
    "name": "ipython",
    "version": 3
   },
   "file_extension": ".py",
   "mimetype": "text/x-python",
   "name": "python",
   "nbconvert_exporter": "python",
   "pygments_lexer": "ipython3",
   "version": "3.11.2"
  }
 },
 "nbformat": 4,
 "nbformat_minor": 1
}
