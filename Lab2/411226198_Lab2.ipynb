{
 "cells": [
  {
   "cell_type": "markdown",
   "metadata": {},
   "source": [
    "# Lab 2\n",
    "In this lab session we will focus on the use of Neural Word Embeddings "
   ]
  },
  {
   "cell_type": "markdown",
   "metadata": {},
   "source": [
    "## Table of Contents\n",
    "1. Data preparation\n",
    "2. Feature engineering\n",
    "3. Model\n",
    "4. Results evaluation\n",
    "5. Other things you could try\n",
    "6. Deep Learning\n",
    "7. Word to Vector\n",
    "8. Clustering\n",
    "9. High-dimension Visualization"
   ]
  },
  {
   "cell_type": "markdown",
   "metadata": {},
   "source": [
    "### Necessary Library Requirements:\n",
    "\n",
    "#### Same as Text Mining Notebook:\n",
    "- [Jupyter](http://jupyter.org/) (Strongly recommended but not required)\n",
    "    - Install via `pip3 install jupyter` and use `jupyter notebook` in terminal to run\n",
    "- [Scikit Learn](http://scikit-learn.org/stable/index.html)\n",
    "    - Install via `pip3 sklearn` from a terminal\n",
    "- [Pandas](http://pandas.pydata.org/)\n",
    "    - Install via `pip3 install pandas` from a terminal\n",
    "- [Numpy](http://www.numpy.org/)\n",
    "    - Install via `pip3 install numpy` from a terminal\n",
    "- [Matplotlib](https://matplotlib.org/)\n",
    "    - Install via `pip3 maplotlib` from a terminal\n",
    "- [Plotly](https://plot.ly/)\n",
    "    - Install via `pip3 install plotly` from a terminal\n",
    "- [Seaborn](https://seaborn.pydata.org/)\n",
    "    - Install and signup for `seaborn`\n",
    "- [NLTK](http://www.nltk.org/)\n",
    "    - Install via `pip3 install nltk` from a terminal\n",
    "    \n",
    "#### New Libraries to intsall:\n",
    "- [Gensim](https://pypi.org/project/gensim/)\n",
    "    - Install via `pip3 install gensim`\n",
    "\n",
    "- [Keras](https://keras.io/)\n",
    "    - Install via `pip3 install keras`\n",
    "    \n",
    "                                                                                            \n",
    "                                                                                           "
   ]
  },
  {
   "cell_type": "markdown",
   "metadata": {},
   "source": [
    "---\n",
    "## Introduction"
   ]
  },
  {
   "cell_type": "markdown",
   "metadata": {},
   "source": [
    "**Dataset:** [SemEval 2017 Task](https://competitions.codalab.org/competitions/16380)\n",
    "\n",
    "**Task:** Classify text data into 4 different emotions using word embedding and other deep information retrieval approaches.\n",
    "\n",
    "![pic0](pics/pic0.png)"
   ]
  },
  {
   "cell_type": "markdown",
   "metadata": {},
   "source": [
    "---\n",
    "## 1. Data Preparation"
   ]
  },
  {
   "cell_type": "markdown",
   "metadata": {},
   "source": [
    "Before beggining the lab, please make sure to download the [Google News Dataset](https://drive.google.com/file/d/0B7XkCwpI5KDYNlNUTTlSS21pQmM/edit) and place it in a folder named \"GoogleNews\" in the same directory as this file."
   ]
  },
  {
   "cell_type": "markdown",
   "metadata": {},
   "source": [
    "## 1.1 Load data\n",
    "\n",
    "We start by loading the csv files into a single pandas dataframe for training and one for testing."
   ]
  },
  {
   "cell_type": "code",
   "execution_count": null,
   "metadata": {
    "pycharm": {
     "is_executing": true
    }
   },
   "outputs": [],
   "source": [
    "import pandas as pd\n",
    "\n",
    "### training data\n",
    "anger_train = pd.read_csv(\"data/semeval/train/anger-ratings-0to1.train.txt\",\n",
    "                         sep=\"\\t\", header=None,names=[\"id\", \"text\", \"emotion\", \"intensity\"])\n",
    "sadness_train = pd.read_csv(\"data/semeval/train/sadness-ratings-0to1.train.txt\",\n",
    "                         sep=\"\\t\", header=None, names=[\"id\", \"text\", \"emotion\", \"intensity\"])\n",
    "fear_train = pd.read_csv(\"data/semeval/train/fear-ratings-0to1.train.txt\",\n",
    "                         sep=\"\\t\", header=None, names=[\"id\", \"text\", \"emotion\", \"intensity\"])\n",
    "joy_train = pd.read_csv(\"data/semeval/train/joy-ratings-0to1.train.txt\",\n",
    "                         sep=\"\\t\", header=None, names=[\"id\", \"text\", \"emotion\", \"intensity\"])"
   ]
  },
  {
   "cell_type": "code",
   "execution_count": 2,
   "metadata": {},
   "outputs": [],
   "source": [
    "# combine 4 sub-dataset\n",
    "train_df = pd.concat([anger_train, fear_train, joy_train, sadness_train], ignore_index=True)"
   ]
  },
  {
   "cell_type": "code",
   "execution_count": 3,
   "metadata": {},
   "outputs": [
    {
     "data": {
      "text/html": [
       "<div>\n",
       "<style scoped>\n",
       "    .dataframe tbody tr th:only-of-type {\n",
       "        vertical-align: middle;\n",
       "    }\n",
       "\n",
       "    .dataframe tbody tr th {\n",
       "        vertical-align: top;\n",
       "    }\n",
       "\n",
       "    .dataframe thead th {\n",
       "        text-align: right;\n",
       "    }\n",
       "</style>\n",
       "<table border=\"1\" class=\"dataframe\">\n",
       "  <thead>\n",
       "    <tr style=\"text-align: right;\">\n",
       "      <th></th>\n",
       "      <th>id</th>\n",
       "      <th>text</th>\n",
       "      <th>emotion</th>\n",
       "      <th>intensity</th>\n",
       "    </tr>\n",
       "  </thead>\n",
       "  <tbody>\n",
       "    <tr>\n",
       "      <th>0</th>\n",
       "      <td>10000.0</td>\n",
       "      <td>How the fu*k! Who the heck! moved my fridge!.....</td>\n",
       "      <td>anger</td>\n",
       "      <td>0.938</td>\n",
       "    </tr>\n",
       "    <tr>\n",
       "      <th>1</th>\n",
       "      <td>10001.0</td>\n",
       "      <td>So my Indian Uber driver just called someone t...</td>\n",
       "      <td>anger</td>\n",
       "      <td>0.896</td>\n",
       "    </tr>\n",
       "    <tr>\n",
       "      <th>2</th>\n",
       "      <td>10002.0</td>\n",
       "      <td>@DPD_UK I asked for my parcel to be delivered ...</td>\n",
       "      <td>anger</td>\n",
       "      <td>0.896</td>\n",
       "    </tr>\n",
       "    <tr>\n",
       "      <th>3</th>\n",
       "      <td>10003.0</td>\n",
       "      <td>so ef whichever butt wipe pulled the fire alar...</td>\n",
       "      <td>anger</td>\n",
       "      <td>0.896</td>\n",
       "    </tr>\n",
       "    <tr>\n",
       "      <th>4</th>\n",
       "      <td>10004.0</td>\n",
       "      <td>Don't join @BTCare they put the phone down on ...</td>\n",
       "      <td>anger</td>\n",
       "      <td>0.896</td>\n",
       "    </tr>\n",
       "  </tbody>\n",
       "</table>\n",
       "</div>"
      ],
      "text/plain": [
       "        id                                               text emotion  \\\n",
       "0  10000.0  How the fu*k! Who the heck! moved my fridge!.....   anger   \n",
       "1  10001.0  So my Indian Uber driver just called someone t...   anger   \n",
       "2  10002.0  @DPD_UK I asked for my parcel to be delivered ...   anger   \n",
       "3  10003.0  so ef whichever butt wipe pulled the fire alar...   anger   \n",
       "4  10004.0  Don't join @BTCare they put the phone down on ...   anger   \n",
       "\n",
       "   intensity  \n",
       "0      0.938  \n",
       "1      0.896  \n",
       "2      0.896  \n",
       "3      0.896  \n",
       "4      0.896  "
      ]
     },
     "execution_count": 3,
     "metadata": {},
     "output_type": "execute_result"
    }
   ],
   "source": [
    "### testing data\n",
    "anger_test = pd.read_csv(\"data/semeval/dev/anger-ratings-0to1.dev.gold.txt\",\n",
    "                         sep=\"\\t\", header=None, names=[\"id\", \"text\", \"emotion\", \"intensity\"])\n",
    "sadness_test = pd.read_csv(\"data/semeval/dev/sadness-ratings-0to1.dev.gold.txt\",\n",
    "                         sep=\"\\t\", header=None, names=[\"id\", \"text\", \"emotion\", \"intensity\"])\n",
    "fear_test = pd.read_csv(\"data/semeval/dev/fear-ratings-0to1.dev.gold.txt\",\n",
    "                         sep=\"\\t\", header=None, names=[\"id\", \"text\", \"emotion\", \"intensity\"])\n",
    "joy_test = pd.read_csv(\"data/semeval/dev/joy-ratings-0to1.dev.gold.txt\",\n",
    "                         sep=\"\\t\", header=None, names=[\"id\", \"text\", \"emotion\", \"intensity\"])\n",
    "\n",
    "# combine 4 sub-dataset\n",
    "test_df = pd.concat([anger_test, fear_test, joy_test, sadness_test], ignore_index=True)\n",
    "train_df.head()"
   ]
  },
  {
   "cell_type": "code",
   "execution_count": 4,
   "metadata": {},
   "outputs": [],
   "source": [
    "# shuffle dataset\n",
    "train_df = train_df.sample(frac=1)\n",
    "test_df = test_df.sample(frac=1)"
   ]
  },
  {
   "cell_type": "code",
   "execution_count": 5,
   "metadata": {
    "scrolled": true
   },
   "outputs": [
    {
     "name": "stdout",
     "output_type": "stream",
     "text": [
      "Shape of Training df:  (3613, 4)\n",
      "Shape of Testing df:  (347, 4)\n"
     ]
    }
   ],
   "source": [
    "print(\"Shape of Training df: \", train_df.shape)\n",
    "print(\"Shape of Testing df: \", test_df.shape)"
   ]
  },
  {
   "cell_type": "markdown",
   "metadata": {},
   "source": [
    "---\n",
    "### ** >>> Exercise 1 (Take home): **  \n",
    "Plot word frequency for Top 30 words in both train and test dataset. (Hint: refer to Text Mining notebook)\n"
   ]
  },
  {
   "cell_type": "code",
   "execution_count": 6,
   "metadata": {},
   "outputs": [],
   "source": [
    "# Answer here\n",
    "# Answer here\n",
    "import matplotlib.pyplot as plt\n",
    "from collections import Counter\n",
    "\n",
    "# Function to plot word frequency\n",
    "def plot_word_frequency(data, title):\n",
    "    # Combine all texts into a single string\n",
    "    text = ' '.join(data)\n",
    "\n",
    "    # Tokenize the text into words\n",
    "    words = text.split()\n",
    "\n",
    "    # Count the frequency of each word\n",
    "    word_counts = Counter(words)\n",
    "\n",
    "    # Get the top 30 most common words\n",
    "    top_words = word_counts.most_common(30)\n",
    "\n",
    "    # Extract the words and their frequencies\n",
    "    words = [word[0] for word in top_words]\n",
    "    frequencies = [word[1] for word in top_words]\n",
    "\n",
    "    # Plot the word frequencies\n",
    "    plt.figure(figsize=(12, 6))\n",
    "    plt.bar(words, frequencies)\n",
    "    plt.title(title)\n",
    "    plt.xlabel('Words')\n",
    "    plt.ylabel('Frequency')\n",
    "    plt.xticks(rotation=90)\n",
    "    plt.show()\n",
    "\n",
    "# Get the text from the train and test datasets\n",
    "train_text = train_df['text'].tolist()\n",
    "test_text = test_df['text'].tolist()\n",
    "\n",
    "# Plot word frequency for train dataset\n",
    "plot_word_frequency(train_text, 'Word Frequency in Train Dataset')\n",
    "\n",
    "# Plot word frequency for test dataset\n",
    "plot_word_frequency(test_text, 'Word Frequency in Test Dataset')"
   ]
  },
  {
   "cell_type": "markdown",
   "metadata": {},
   "source": [
    "---\n",
    "### 1.2 Save data"
   ]
  },
  {
   "cell_type": "markdown",
   "metadata": {},
   "source": [
    "We will save our data in Pickle format. The pickle module implements binary protocols for serializing and de-serializing a Python object structure.   \n",
    "  \n",
    "Some advantages for using pickle structure:  \n",
    "* Because it stores the attribute type, it's more convenient for cross-platform use.  \n",
    "* When your data is huge, it could use less space to store also consume less loading time.   "
   ]
  },
  {
   "cell_type": "code",
   "execution_count": 7,
   "metadata": {},
   "outputs": [],
   "source": [
    "## save to pickle file\n",
    "train_df.to_pickle(\"train_df.pkl\") \n",
    "test_df.to_pickle(\"test_df.pkl\")"
   ]
  },
  {
   "cell_type": "code",
   "execution_count": 8,
   "metadata": {},
   "outputs": [],
   "source": [
    "import pandas as pd\n",
    "\n",
    "## load a pickle file\n",
    "train_df = pd.read_pickle(\"train_df.pkl\")\n",
    "test_df = pd.read_pickle(\"test_df.pkl\")"
   ]
  },
  {
   "cell_type": "markdown",
   "metadata": {},
   "source": [
    "For more information: https://reurl.cc/0Dzqx"
   ]
  },
  {
   "cell_type": "markdown",
   "metadata": {},
   "source": [
    "---\n",
    "### 1.3 Exploratory data analysis (EDA)\n",
    "\n",
    "Again, before getting our hands dirty, we need to explore a little bit and understand the data we're dealing with."
   ]
  },
  {
   "cell_type": "code",
   "execution_count": 9,
   "metadata": {},
   "outputs": [
    {
     "data": {
      "text/plain": [
       "emotion\n",
       "anger       857\n",
       "fear       1147\n",
       "joy         823\n",
       "sadness     786\n",
       "Name: text, dtype: int64"
      ]
     },
     "execution_count": 9,
     "metadata": {},
     "output_type": "execute_result"
    }
   ],
   "source": [
    "#group to find distribution\n",
    "train_df.groupby(['emotion']).count()['text']"
   ]
  },
  {
   "cell_type": "code",
   "execution_count": 10,
   "metadata": {},
   "outputs": [
    {
     "data": {
      "image/png": "[encoded data removed]",
      "text/plain": [
       "<Figure size 500x300 with 1 Axes>"
      ]
     },
     "metadata": {},
     "output_type": "display_data"
    }
   ],
   "source": [
    "%matplotlib inline\n",
    "import numpy as np\n",
    "import matplotlib.pyplot as plt\n",
    "\n",
    "# the histogram of the data\n",
    "labels = train_df['emotion'].unique()\n",
    "post_total = len(train_df)\n",
    "df1 = train_df.groupby(['emotion']).count()['text']\n",
    "df1 = df1.apply(lambda x: round(x*100/post_total,3))\n",
    "\n",
    "#plot\n",
    "fig, ax = plt.subplots(figsize=(5,3))\n",
    "plt.bar(df1.index,df1.values)\n",
    "\n",
    "#arrange\n",
    "plt.ylabel('% of instances')\n",
    "plt.xlabel('Emotion')\n",
    "plt.title('Emotion distribution')\n",
    "plt.grid(True)\n",
    "plt.show()"
   ]
  },
  {
   "cell_type": "markdown",
   "metadata": {},
   "source": [
    "---"
   ]
  },
  {
   "cell_type": "markdown",
   "metadata": {},
   "source": [
    "## 2. Feature engineering\n",
    "### Using Bag of Words\n",
    "Using scikit-learn ```CountVectorizer``` perform word frequency and use these as features to train a model.  \n",
    "http://scikit-learn.org/stable/modules/generated/sklearn.feature_extraction.text.CountVectorizer.html"
   ]
  },
  {
   "cell_type": "code",
   "execution_count": 11,
   "metadata": {},
   "outputs": [],
   "source": [
    "from sklearn.feature_extraction.text import CountVectorizer"
   ]
  },
  {
   "cell_type": "code",
   "execution_count": 12,
   "metadata": {},
   "outputs": [],
   "source": [
    "# build analyzers (bag-of-words)\n",
    "BOW_vectorizer = CountVectorizer() "
   ]
  },
  {
   "cell_type": "code",
   "execution_count": 13,
   "metadata": {},
   "outputs": [],
   "source": [
    "# 1. Learn a vocabulary dictionary of all tokens in the raw documents.\n",
    "BOW_vectorizer.fit(train_df['text'])\n",
    "\n",
    "# 2. Transform documents to document-term matrix.\n",
    "train_data_BOW_features = BOW_vectorizer.transform(train_df['text'])\n",
    "test_data_BOW_features = BOW_vectorizer.transform(test_df['text'])"
   ]
  },
  {
   "cell_type": "code",
   "execution_count": 14,
   "metadata": {},
   "outputs": [
    {
     "data": {
      "text/plain": [
       "<3613x10115 sparse matrix of type '<class 'numpy.int64'>'\n",
       "\twith 51467 stored elements in Compressed Sparse Row format>"
      ]
     },
     "execution_count": 14,
     "metadata": {},
     "output_type": "execute_result"
    }
   ],
   "source": [
    "# check the result\n",
    "train_data_BOW_features"
   ]
  },
  {
   "cell_type": "code",
   "execution_count": 15,
   "metadata": {},
   "outputs": [
    {
     "data": {
      "text/plain": [
       "scipy.sparse._csr.csr_matrix"
      ]
     },
     "execution_count": 15,
     "metadata": {},
     "output_type": "execute_result"
    }
   ],
   "source": [
    "type(train_data_BOW_features)"
   ]
  },
  {
   "cell_type": "code",
   "execution_count": 16,
   "metadata": {
    "scrolled": true
   },
   "outputs": [
    {
     "data": {
      "text/plain": [
       "array([[0, 0, 0, ..., 0, 0, 0],\n",
       "       [0, 0, 0, ..., 0, 0, 0],\n",
       "       [0, 0, 0, ..., 0, 0, 0],\n",
       "       ...,\n",
       "       [0, 0, 0, ..., 0, 0, 0],\n",
       "       [0, 0, 0, ..., 0, 0, 0],\n",
       "       [0, 0, 0, ..., 0, 0, 0]])"
      ]
     },
     "execution_count": 16,
     "metadata": {},
     "output_type": "execute_result"
    }
   ],
   "source": [
    "# add .toarray() to show\n",
    "train_data_BOW_features.toarray()"
   ]
  },
  {
   "cell_type": "code",
   "execution_count": 17,
   "metadata": {
    "scrolled": false
   },
   "outputs": [
    {
     "data": {
      "text/plain": [
       "(3613, 10115)"
      ]
     },
     "execution_count": 17,
     "metadata": {},
     "output_type": "execute_result"
    }
   ],
   "source": [
    "# check the dimension\n",
    "train_data_BOW_features.shape"
   ]
  },
  {
   "cell_type": "code",
   "execution_count": 18,
   "metadata": {},
   "outputs": [
    {
     "data": {
      "text/plain": [
       "array(['2k17', '2much', '2nd', '30', '300', '301', '30am', '30pm', '30s',\n",
       "       '31'], dtype=object)"
      ]
     },
     "execution_count": 18,
     "metadata": {},
     "output_type": "execute_result"
    }
   ],
   "source": [
    "# observe some feature names\n",
    "feature_names = BOW_vectorizer.get_feature_names_out()\n",
    "feature_names[100:110]"
   ]
  },
  {
   "cell_type": "markdown",
   "metadata": {},
   "source": [
    " "
   ]
  },
  {
   "cell_type": "markdown",
   "metadata": {},
   "source": [
    "The embedding is done. We can technically feed this into our model. However, depending on the embedding technique you use and your model, your accuracy might not be as high, because:\n",
    "\n",
    "* curse of dimensionality  (we have 10,115 dimension now)\n",
    "* some important features are ignored (for example, some models using emoticons yeld better performance than counterparts)"
   ]
  },
  {
   "cell_type": "code",
   "execution_count": 19,
   "metadata": {},
   "outputs": [
    {
     "data": {
      "text/plain": [
       "False"
      ]
     },
     "execution_count": 19,
     "metadata": {},
     "output_type": "execute_result"
    }
   ],
   "source": [
    "\"😂\" in feature_names"
   ]
  },
  {
   "cell_type": "markdown",
   "metadata": {
    "pycharm": {
     "name": "#%% md\n"
    }
   },
   "source": [
    "Let's try using another tokenizer below."
   ]
  },
  {
   "cell_type": "code",
   "execution_count": 20,
   "metadata": {},
   "outputs": [
    {
     "name": "stderr",
     "output_type": "stream",
     "text": [
      "[nltk_data] Downloading package punkt to /home/danieldu/nltk_data...\n",
      "[nltk_data]   Package punkt is already up-to-date!\n",
      "/home/danieldu/.local/lib/python3.10/site-packages/sklearn/feature_extraction/text.py:528: UserWarning: The parameter 'token_pattern' will not be used since 'tokenizer' is not None'\n",
      "  warnings.warn(\n"
     ]
    },
    {
     "data": {
      "text/plain": [
       "(3613, 500)"
      ]
     },
     "execution_count": 20,
     "metadata": {},
     "output_type": "execute_result"
    }
   ],
   "source": [
    "import nltk\n",
    "nltk.download('punkt')\n",
    "# build analyzers (bag-of-words)\n",
    "BOW_500 = CountVectorizer(max_features=500, tokenizer=nltk.word_tokenize) \n",
    "\n",
    "# apply analyzer to training data\n",
    "BOW_500.fit(train_df['text'])\n",
    "\n",
    "train_data_BOW_features_500 = BOW_500.transform(train_df['text'])\n",
    "\n",
    "## check dimension\n",
    "train_data_BOW_features_500.shape"
   ]
  },
  {
   "cell_type": "code",
   "execution_count": 21,
   "metadata": {
    "pycharm": {
     "name": "#%%\n"
    }
   },
   "outputs": [
    {
     "data": {
      "text/plain": [
       "array([[0, 0, 0, ..., 0, 0, 0],\n",
       "       [0, 0, 0, ..., 0, 0, 0],\n",
       "       [0, 4, 0, ..., 0, 0, 0],\n",
       "       ...,\n",
       "       [0, 0, 0, ..., 0, 0, 0],\n",
       "       [0, 0, 0, ..., 0, 0, 0],\n",
       "       [0, 0, 0, ..., 0, 0, 0]])"
      ]
     },
     "execution_count": 21,
     "metadata": {},
     "output_type": "execute_result"
    }
   ],
   "source": [
    "train_data_BOW_features_500.toarray()"
   ]
  },
  {
   "cell_type": "code",
   "execution_count": 22,
   "metadata": {},
   "outputs": [
    {
     "data": {
      "text/plain": [
       "array(['change', 'cheer', 'cheerful', 'cheerfully', 'cheering', 'cheery',\n",
       "       'come', 'comes', 'could', 'country'], dtype=object)"
      ]
     },
     "execution_count": 22,
     "metadata": {},
     "output_type": "execute_result"
    }
   ],
   "source": [
    "# observe some feature names\n",
    "feature_names_500 = BOW_500.get_feature_names_out()\n",
    "feature_names_500[100:110]"
   ]
  },
  {
   "cell_type": "code",
   "execution_count": 23,
   "metadata": {},
   "outputs": [
    {
     "data": {
      "text/plain": [
       "True"
      ]
     },
     "execution_count": 23,
     "metadata": {},
     "output_type": "execute_result"
    }
   ],
   "source": [
    "\"😂\" in feature_names_500"
   ]
  },
  {
   "cell_type": "markdown",
   "metadata": {
    "pycharm": {
     "name": "#%% md\n"
    }
   },
   "source": [
    "---\n",
    "### ** >>> Exercise 2 (Take home): **  \n",
    "Generate an embedding using the TF-IDF vectorizer instead of th BOW one with 1000 features and show the feature names for features [100:110]."
   ]
  },
  {
   "cell_type": "code",
   "execution_count": 24,
   "metadata": {},
   "outputs": [
    {
     "data": {
      "text/plain": [
       "array(['bitter', 'black', 'blacks', 'blame', 'blessed', 'blood', 'bloody',\n",
       "       'blues', 'body', 'boiling'], dtype=object)"
      ]
     },
     "execution_count": 24,
     "metadata": {},
     "output_type": "execute_result"
    }
   ],
   "source": [
    "# Answer here\n",
    "from sklearn.feature_extraction.text import TfidfVectorizer\n",
    "\n",
    "# tf idf vectorizer\n",
    "tfidf_vectorizer = TfidfVectorizer(max_features=1000)\n",
    "tfidf_vectorizer.fit(train_df['text'])\n",
    "\n",
    "train_data_tfidf_features = tfidf_vectorizer.transform(train_df['text'])\n",
    "test_data_tfidf_features = tfidf_vectorizer.transform(test_df['text'])\n",
    "\n",
    "# feature names\n",
    "feature_names_tfidf = tfidf_vectorizer.get_feature_names_out()\n",
    "feature_names_tfidf[100:110]"
   ]
  },
  {
   "cell_type": "markdown",
   "metadata": {},
   "source": [
    "---\n",
    "## 3. Model\n",
    "### 3.1 Decision Trees\n",
    "Using scikit-learn ```DecisionTreeClassifier``` performs word frequency and uses these as features to train a model.  \n",
    "http://scikit-learn.org/stable/modules/generated/sklearn.tree.DecisionTreeClassifier.html#sklearn.tree.DecisionTreeClassifier"
   ]
  },
  {
   "cell_type": "code",
   "execution_count": 25,
   "metadata": {},
   "outputs": [
    {
     "name": "stdout",
     "output_type": "stream",
     "text": [
      "X_train.shape:  (3613, 500)\n",
      "y_train.shape:  (3613,)\n",
      "X_test.shape:  (347, 500)\n",
      "y_test.shape:  (347,)\n"
     ]
    }
   ],
   "source": [
    "from sklearn.tree import DecisionTreeClassifier\n",
    "\n",
    "# for a classificaiton problem, you need to provide both training & testing data\n",
    "X_train = BOW_500.transform(train_df['text'])\n",
    "y_train = train_df['emotion']\n",
    "\n",
    "X_test = BOW_500.transform(test_df['text'])\n",
    "y_test = test_df['emotion']\n",
    "\n",
    "## take a look at data dimension is a good habbit  :)\n",
    "print('X_train.shape: ', X_train.shape)\n",
    "print('y_train.shape: ', y_train.shape)\n",
    "print('X_test.shape: ', X_test.shape)\n",
    "print('y_test.shape: ', y_test.shape)"
   ]
  },
  {
   "cell_type": "code",
   "execution_count": 26,
   "metadata": {
    "pycharm": {
     "name": "#%%\n"
    }
   },
   "outputs": [
    {
     "data": {
      "text/plain": [
       "array(['anger', 'anger', 'joy', 'fear', 'anger', 'sadness', 'fear',\n",
       "       'fear', 'fear', 'sadness'], dtype=object)"
      ]
     },
     "execution_count": 26,
     "metadata": {},
     "output_type": "execute_result"
    }
   ],
   "source": [
    "## build DecisionTree model\n",
    "DT_model = DecisionTreeClassifier(random_state=0)\n",
    "\n",
    "## training!\n",
    "DT_model = DT_model.fit(X_train, y_train)\n",
    "\n",
    "## predict!\n",
    "y_train_pred = DT_model.predict(X_train)\n",
    "y_test_pred = DT_model.predict(X_test)\n",
    "\n",
    "## so we get the pred result\n",
    "y_test_pred[:10]"
   ]
  },
  {
   "cell_type": "markdown",
   "metadata": {
    "pycharm": {
     "name": "#%% md\n"
    }
   },
   "source": [
    "---\n",
    "## 4. Results Evaluation"
   ]
  },
  {
   "cell_type": "markdown",
   "metadata": {
    "pycharm": {
     "name": "#%% md\n"
    }
   },
   "source": [
    "Now we will check the results of our model's performance"
   ]
  },
  {
   "cell_type": "code",
   "execution_count": 27,
   "metadata": {
    "pycharm": {
     "name": "#%%\n"
    }
   },
   "outputs": [
    {
     "name": "stdout",
     "output_type": "stream",
     "text": [
      "training accuracy: 0.99\n",
      "testing accuracy: 0.66\n"
     ]
    }
   ],
   "source": [
    "## accuracy\n",
    "from sklearn.metrics import accuracy_score\n",
    "\n",
    "acc_train = accuracy_score(y_true=y_train, y_pred=y_train_pred)\n",
    "acc_test = accuracy_score(y_true=y_test, y_pred=y_test_pred)\n",
    "\n",
    "print('training accuracy: {}'.format(round(acc_train, 2)))\n",
    "print('testing accuracy: {}'.format(round(acc_test, 2)))\n"
   ]
  },
  {
   "cell_type": "code",
   "execution_count": 28,
   "metadata": {
    "pycharm": {
     "name": "#%%\n"
    }
   },
   "outputs": [
    {
     "name": "stdout",
     "output_type": "stream",
     "text": [
      "              precision    recall  f1-score   support\n",
      "\n",
      "       anger       0.63      0.65      0.64        84\n",
      "        fear       0.66      0.69      0.68       110\n",
      "         joy       0.70      0.68      0.69        79\n",
      "     sadness       0.65      0.59      0.62        74\n",
      "\n",
      "    accuracy                           0.66       347\n",
      "   macro avg       0.66      0.66      0.66       347\n",
      "weighted avg       0.66      0.66      0.66       347\n",
      "\n"
     ]
    }
   ],
   "source": [
    "## precision, recall, f1-score,\n",
    "from sklearn.metrics import classification_report\n",
    "\n",
    "print(classification_report(y_true=y_test, y_pred=y_test_pred))"
   ]
  },
  {
   "cell_type": "code",
   "execution_count": 29,
   "metadata": {
    "pycharm": {
     "name": "#%%\n"
    }
   },
   "outputs": [
    {
     "name": "stdout",
     "output_type": "stream",
     "text": [
      "[[55 20  5  4]\n",
      " [16 76  8 10]\n",
      " [ 7  8 54 10]\n",
      " [ 9 11 10 44]]\n"
     ]
    }
   ],
   "source": [
    "## check by confusion matrix\n",
    "from sklearn.metrics import confusion_matrix\n",
    "\n",
    "cm = confusion_matrix(y_true=y_test, y_pred=y_test_pred) \n",
    "print(cm)"
   ]
  },
  {
   "cell_type": "code",
   "execution_count": 30,
   "metadata": {},
   "outputs": [],
   "source": [
    "# Funciton for visualizing confusion_matrix\n",
    "import matplotlib.pyplot as plt\n",
    "import seaborn as sns\n",
    "import numpy as np\n",
    "import itertools\n",
    "\n",
    "def plot_confusion_matrix(cm, classes, title='Confusion matrix',\n",
    "                          cmap=sns.cubehelix_palette(as_cmap=True)):\n",
    "    \"\"\"\n",
    "    This function is modified from: \n",
    "    http://scikit-learn.org/stable/auto_examples/model_selection/plot_confusion_matrix.html\n",
    "    \"\"\"\n",
    "    classes.sort()\n",
    "    tick_marks = np.arange(len(classes))    \n",
    "    \n",
    "    fig, ax = plt.subplots(figsize=(5,5))\n",
    "    im = ax.imshow(cm, interpolation='nearest', cmap=cmap)\n",
    "    ax.figure.colorbar(im, ax=ax)\n",
    "    ax.set(xticks=np.arange(cm.shape[1]),\n",
    "           yticks=np.arange(cm.shape[0]),\n",
    "           xticklabels = classes,\n",
    "           yticklabels = classes,\n",
    "           title = title,\n",
    "           xlabel = 'True label',\n",
    "           ylabel = 'Predicted label')\n",
    "\n",
    "    fmt = 'd'\n",
    "    thresh = cm.max() / 2.\n",
    "    for i, j in itertools.product(range(cm.shape[0]), range(cm.shape[1])):\n",
    "        plt.text(j, i, format(cm[i, j], fmt), horizontalalignment=\"center\", color=\"white\" if cm[i, j] > thresh else \"black\")\n",
    "    ylim_top = len(classes) - 0.5\n",
    "    plt.ylim([ylim_top, -.5])\n",
    "    plt.tight_layout()\n",
    "    plt.show()"
   ]
  },
  {
   "cell_type": "code",
   "execution_count": 31,
   "metadata": {},
   "outputs": [
    {
     "data": {
      "image/png": "[encoded data removed]",
      "text/plain": [
       "<Figure size 500x500 with 2 Axes>"
      ]
     },
     "metadata": {},
     "output_type": "display_data"
    }
   ],
   "source": [
    "# plot your confusion matrix\n",
    "my_tags = ['anger', 'fear', 'joy', 'sadness']\n",
    "plot_confusion_matrix(cm, classes=my_tags, title='Confusion matrix')"
   ]
  },
  {
   "cell_type": "markdown",
   "metadata": {
    "pycharm": {
     "name": "#%% md\n"
    }
   },
   "source": [
    "---\n",
    "### ** >>> Exercise 3 (Take home): **  \n",
    "Can you interpret the results above? What do they mean?"
   ]
  },
  {
   "cell_type": "code",
   "execution_count": 32,
   "metadata": {},
   "outputs": [],
   "source": [
    "# # Answer here\n",
    "\n",
    "# 1. The code uses a Decision Tree model for classification. Decision trees are a type of supervised learning algorithm used for both regression and classification tasks.\n",
    "\n",
    "# 2. The accuracy of the model is calculated on both the training and testing data. The training accuracy represents how well the model fits the training data, while the testing accuracy reflects the model's performance on unseen data. It is important to note that a high training accuracy with a significantly lower testing accuracy may indicate overfitting, where the model memorizes the training data instead of learning general patterns.\n",
    "\n",
    "# 3. The confusion matrix plot is used to visualize the model's performance. The confusion matrix is a square matrix where each cell represents the count of instances predicted for a particular class compared to the actual class. The diagonal cells (from top left to bottom right) correspond to correct predictions, while off-diagonal cells indicate incorrect predictions. The intensity of the color in each cell corresponds to the count of instances, with higher values on the diagonal indicating accurate predictions. This plot helps in understanding the distribution of predicted classes and identifying any patterns of misclassifications."
   ]
  },
  {
   "cell_type": "markdown",
   "metadata": {
    "pycharm": {
     "name": "#%% md\n"
    }
   },
   "source": [
    "---\n",
    "### ** >>> Exercise 4 (Take home): **  \n",
    "Build a model using a ```Naive Bayes``` model and train it. What are the testing results? \n",
    "\n",
    "*Reference*: https://scikit-learn.org/stable/modules/generated/sklearn.naive_bayes.MultinomialNB.html"
   ]
  },
  {
   "cell_type": "code",
   "execution_count": 33,
   "metadata": {
    "pycharm": {
     "name": "#%%\n"
    }
   },
   "outputs": [
    {
     "name": "stdout",
     "output_type": "stream",
     "text": [
      "training accuracy: 0.8\n",
      "testing accuracy: 0.71\n"
     ]
    }
   ],
   "source": [
    "# Answer here\n",
    "from sklearn.naive_bayes import MultinomialNB\n",
    "\n",
    "NB_model = MultinomialNB(alpha=0.1)\n",
    "# train\n",
    "NB_model = NB_model.fit(X_train, y_train)\n",
    "\n",
    "#predict\n",
    "y_train_pred = NB_model.predict(X_train)\n",
    "y_test_pred = NB_model.predict(X_test)\n",
    "\n",
    "acc_train = accuracy_score(y_true = y_train, y_pred = y_train_pred)\n",
    "acc_test = accuracy_score(y_true = y_test, y_pred = y_test_pred)\n",
    "\n",
    "print('training accuracy: {}'.format(round(acc_train, 2)))\n",
    "print('testing accuracy: {}'.format(round(acc_test, 2)))"
   ]
  },
  {
   "cell_type": "code",
   "execution_count": 63,
   "metadata": {
    "pycharm": {
     "name": "#%%\n"
    }
   },
   "outputs": [
    {
     "name": "stdout",
     "output_type": "stream",
     "text": [
      "# packages in environment at /home/danieldu/anaconda3/envs/fjcu_datamining:\r\n",
      "#\r\n",
      "# Name                    Version                   Build  Channel\r\n",
      "_libgcc_mutex             0.1                        main  \r\n",
      "_openmp_mutex             5.1                       1_gnu  \r\n",
      "_tflow_select             2.3.0                       mkl  \r\n",
      "abseil-cpp                20211102.0           hd4dd3e8_0  \r\n",
      "absl-py                   1.3.0                    pypi_0    pypi\r\n",
      "aiohttp                   3.8.3                    pypi_0    pypi\r\n",
      "aiosignal                 1.2.0              pyhd3eb1b0_0  \r\n",
      "anyio                     3.5.0                    pypi_0    pypi\r\n",
      "appdirs                   1.4.4              pyhd3eb1b0_0  \r\n",
      "argon2-cffi               21.3.0             pyhd3eb1b0_0  \r\n",
      "argon2-cffi-bindings      21.2.0                   pypi_0    pypi\r\n",
      "asttokens                 2.0.5              pyhd3eb1b0_0  \r\n",
      "astunparse                1.6.3                      py_0  \r\n",
      "async-timeout             4.0.2                    pypi_0    pypi\r\n",
      "attrs                     22.1.0                   pypi_0    pypi\r\n",
      "babel                     2.11.0                   pypi_0    pypi\r\n",
      "backcall                  0.2.0              pyhd3eb1b0_0  \r\n",
      "beautifulsoup4            4.12.0                   pypi_0    pypi\r\n",
      "blas                      1.0                         mkl  \r\n",
      "bleach                    4.1.0              pyhd3eb1b0_0  \r\n",
      "blinker                   1.4                      pypi_0    pypi\r\n",
      "bottleneck                1.3.5                    pypi_0    pypi\r\n",
      "brotli                    1.0.9                h5eee18b_7  \r\n",
      "brotli-bin                1.0.9                h5eee18b_7  \r\n",
      "brotlipy                  0.7.0                    pypi_0    pypi\r\n",
      "bzip2                     1.0.8                h7b6447c_0  \r\n",
      "c-ares                    1.19.0               h5eee18b_0  \r\n",
      "ca-certificates           2023.01.10           h06a4308_0  \r\n",
      "cachetools                4.2.2              pyhd3eb1b0_0  \r\n",
      "certifi                   2022.12.7                pypi_0    pypi\r\n",
      "cffi                      1.15.1                   pypi_0    pypi\r\n",
      "charset-normalizer        2.0.4              pyhd3eb1b0_0  \r\n",
      "click                     8.0.4                    pypi_0    pypi\r\n",
      "comm                      0.1.2                    pypi_0    pypi\r\n",
      "contextlib2               21.6.0                   pypi_0    pypi\r\n",
      "contourpy                 1.0.5                    pypi_0    pypi\r\n",
      "cryptography              39.0.1                   pypi_0    pypi\r\n",
      "cycler                    0.11.0             pyhd3eb1b0_0  \r\n",
      "dbus                      1.13.18              hb2f20db_0  \r\n",
      "debugpy                   1.5.1                    pypi_0    pypi\r\n",
      "decorator                 5.1.1              pyhd3eb1b0_0  \r\n",
      "defusedxml                0.7.1              pyhd3eb1b0_0  \r\n",
      "entrypoints               0.4                      pypi_0    pypi\r\n",
      "execnet                   1.9.0              pyhd3eb1b0_0  \r\n",
      "executing                 0.8.3              pyhd3eb1b0_0  \r\n",
      "expat                     2.4.9                h6a678d5_0  \r\n",
      "fastjsonschema            2.16.2                   pypi_0    pypi\r\n",
      "filelock                  3.9.0                    pypi_0    pypi\r\n",
      "flatbuffers               2.0.0                h2531618_0  \r\n",
      "flit-core                 3.8.0                    pypi_0    pypi\r\n",
      "fontconfig                2.14.1               h4c34cd2_2  \r\n",
      "fonttools                 4.25.0             pyhd3eb1b0_0  \r\n",
      "freetype                  2.12.1               h4a9f257_0  \r\n",
      "frozenlist                1.3.3                    pypi_0    pypi\r\n",
      "gast                      0.4.0              pyh9f0ad1d_0    conda-forge\r\n",
      "gdown                     4.7.1              pyhd8ed1ab_0    conda-forge\r\n",
      "gensim                    4.3.0                    pypi_0    pypi\r\n",
      "giflib                    5.2.1                h5eee18b_3  \r\n",
      "glib                      2.69.1               he621ea3_2  \r\n",
      "google-auth               2.6.0              pyhd3eb1b0_0  \r\n",
      "google-auth-oauthlib      0.4.4              pyhd3eb1b0_0  \r\n",
      "google-pasta              0.2.0              pyhd3eb1b0_0  \r\n",
      "grpc-cpp                  1.46.1               h33aed49_1  \r\n",
      "grpcio                    1.42.0                   pypi_0    pypi\r\n",
      "gst-plugins-base          1.14.1               h6a678d5_1  \r\n",
      "gstreamer                 1.14.1               h5eee18b_1  \r\n",
      "gzip                      1.12                 h166bdaf_0    conda-forge\r\n",
      "h5py                      3.7.0                    pypi_0    pypi\r\n",
      "hdf5                      1.10.6               h3ffc7dd_1  \r\n",
      "icu                       58.2                 he6710b0_3  \r\n",
      "idna                      3.4                      pypi_0    pypi\r\n",
      "iniconfig                 1.1.1              pyhd3eb1b0_0  \r\n",
      "intel-openmp              2021.4.0          h06a4308_3561  \r\n",
      "ipykernel                 6.19.2                   pypi_0    pypi\r\n",
      "ipython                   8.12.0                   pypi_0    pypi\r\n",
      "ipython_genutils          0.2.0              pyhd3eb1b0_1  \r\n",
      "ipywidgets                8.0.4                    pypi_0    pypi\r\n",
      "jedi                      0.18.1                   pypi_0    pypi\r\n",
      "jinja2                    3.1.2                    pypi_0    pypi\r\n",
      "joblib                    1.1.1                    pypi_0    pypi\r\n",
      "jpeg                      9e                   h5eee18b_1  \r\n",
      "json5                     0.9.6              pyhd3eb1b0_0  \r\n",
      "jsonschema                4.17.3                   pypi_0    pypi\r\n",
      "jupyter                   1.0.0                    pypi_0    pypi\r\n",
      "jupyter-client            8.1.0                    pypi_0    pypi\r\n",
      "jupyter-console           6.6.3                    pypi_0    pypi\r\n",
      "jupyter-core              5.3.0                    pypi_0    pypi\r\n",
      "jupyter-server            1.23.4                   pypi_0    pypi\r\n",
      "jupyter_client            8.1.0           py310h06a4308_0  \r\n",
      "jupyter_console           6.6.3           py310h06a4308_0  \r\n",
      "jupyter_core              5.3.0           py310h06a4308_0  \r\n",
      "jupyter_server            1.23.4          py310h06a4308_0  \r\n",
      "jupyterlab                3.5.3                    pypi_0    pypi\r\n",
      "jupyterlab-server         2.22.0                   pypi_0    pypi\r\n",
      "jupyterlab-widgets        3.0.5                    pypi_0    pypi\r\n",
      "jupyterlab_pygments       0.1.2                      py_0  \r\n",
      "jupyterlab_server         2.22.0          py310h06a4308_0  \r\n",
      "jupyterlab_widgets        3.0.5           py310h06a4308_0  \r\n",
      "keras                     2.11.0                   pypi_0    pypi\r\n",
      "keras-preprocessing       1.1.2              pyhd3eb1b0_0  \r\n",
      "kiwisolver                1.4.4                    pypi_0    pypi\r\n",
      "krb5                      1.19.4               h568e23c_0  \r\n",
      "lcms2                     2.12                 h3be6417_0  \r\n",
      "ld_impl_linux-64          2.38                 h1181459_1  \r\n",
      "lerc                      3.0                  h295c915_0  \r\n",
      "libbrotlicommon           1.0.9                h5eee18b_7  \r\n",
      "libbrotlidec              1.0.9                h5eee18b_7  \r\n",
      "libbrotlienc              1.0.9                h5eee18b_7  \r\n",
      "libclang                  14.0.6          default_hc6dbbc7_1  \r\n",
      "libclang13                14.0.6          default_he11475f_1  \r\n",
      "libcurl                   7.88.1               h91b91d3_0  \r\n",
      "libdeflate                1.17                 h5eee18b_0  \r\n",
      "libedit                   3.1.20221030         h5eee18b_0  \r\n",
      "libev                     4.33                 h7f8727e_1  \r\n",
      "libevent                  2.1.12               h8f2d780_0  \r\n",
      "libffi                    3.4.2                h6a678d5_6  \r\n",
      "libgcc-ng                 11.2.0               h1234567_1  \r\n",
      "libgfortran-ng            11.2.0               h00389a5_1  \r\n",
      "libgfortran5              11.2.0               h1234567_1  \r\n",
      "libgomp                   11.2.0               h1234567_1  \r\n",
      "libllvm14                 14.0.6               hdb19cb5_2  \r\n",
      "libnghttp2                1.46.0               hce63b2e_0  \r\n",
      "libpng                    1.6.39               h5eee18b_0  \r\n",
      "libpq                     12.9                 h16c4e8d_3  \r\n",
      "libprotobuf               3.20.3               he621ea3_0  \r\n",
      "libsodium                 1.0.18               h7b6447c_0  \r\n",
      "libssh2                   1.10.0               h8f2d780_0  \r\n",
      "libstdcxx-ng              11.2.0               h1234567_1  \r\n",
      "libtiff                   4.5.0                h6a678d5_2  \r\n",
      "libuuid                   1.41.5               h5eee18b_0  \r\n",
      "libwebp                   1.2.4                h11a3e52_1  \r\n",
      "libwebp-base              1.2.4                h5eee18b_1  \r\n",
      "libxcb                    1.15                 h7f8727e_0  \r\n",
      "libxkbcommon              1.0.1                h5eee18b_1  \r\n",
      "libxml2                   2.10.3               hcbfbd50_0  \r\n",
      "libxslt                   1.1.37               h2085143_0  \r\n",
      "lxml                      4.9.2                    pypi_0    pypi\r\n",
      "lz4-c                     1.9.4                h6a678d5_0  \r\n",
      "markdown                  3.4.1                    pypi_0    pypi\r\n",
      "markupsafe                2.1.1                    pypi_0    pypi\r\n",
      "matplotlib                3.7.1                    pypi_0    pypi\r\n",
      "matplotlib-base           3.7.1           py310h1128e8f_1  \r\n",
      "matplotlib-inline         0.1.6                    pypi_0    pypi\r\n",
      "mistune                   0.8.4                    pypi_0    pypi\r\n",
      "mkl                       2021.4.0           h06a4308_640  \r\n",
      "mkl-fft                   1.3.1                    pypi_0    pypi\r\n",
      "mkl-random                1.2.2                    pypi_0    pypi\r\n",
      "mkl-service               2.4.0                    pypi_0    pypi\r\n",
      "mkl_fft                   1.3.1           py310hd6ae3a3_0  \r\n",
      "mkl_random                1.2.2           py310h00e6091_0  \r\n",
      "mock                      4.0.3              pyhd3eb1b0_0  \r\n",
      "multidict                 6.0.2                    pypi_0    pypi\r\n",
      "munkres                   1.1.4                      py_0  \r\n",
      "nbclassic                 0.5.4                    pypi_0    pypi\r\n",
      "nbclient                  0.5.13                   pypi_0    pypi\r\n",
      "nbconvert                 6.5.4                    pypi_0    pypi\r\n",
      "nbformat                  5.7.0                    pypi_0    pypi\r\n",
      "ncurses                   6.4                  h6a678d5_0  \r\n",
      "nest-asyncio              1.5.6                    pypi_0    pypi\r\n",
      "nltk                      3.7                pyhd3eb1b0_0  \r\n",
      "notebook                  6.5.3                    pypi_0    pypi\r\n",
      "notebook-shim             0.2.2                    pypi_0    pypi\r\n",
      "nspr                      4.33                 h295c915_0  \r\n",
      "nss                       3.74                 h0370c37_0  \r\n",
      "numexpr                   2.8.4                    pypi_0    pypi\r\n",
      "numpy                     1.23.5                   pypi_0    pypi\r\n",
      "numpy-base                1.23.5          py310h8e6c178_0  \r\n",
      "oauthlib                  3.2.2                    pypi_0    pypi\r\n",
      "openssl                   1.1.1t               h7f8727e_0  \r\n",
      "opt_einsum                3.3.0              pyhd3eb1b0_1  \r\n",
      "packaging                 23.0                     pypi_0    pypi\r\n",
      "pandas                    1.5.3                    pypi_0    pypi\r\n",
      "pandocfilters             1.5.0              pyhd3eb1b0_0  \r\n",
      "parso                     0.8.3              pyhd3eb1b0_0  \r\n",
      "path                      16.2.0             pyhd3eb1b0_0  \r\n",
      "path.py                   12.5.0               hd3eb1b0_0  \r\n",
      "pcre                      8.45                 h295c915_0  \r\n",
      "pexpect                   4.8.0              pyhd3eb1b0_3  \r\n",
      "pickleshare               0.7.5           pyhd3eb1b0_1003  \r\n",
      "pillow                    9.4.0                    pypi_0    pypi\r\n",
      "pip                       23.0.1                   pypi_0    pypi\r\n",
      "platformdirs              2.5.2                    pypi_0    pypi\r\n",
      "plotly                    5.9.0                    pypi_0    pypi\r\n",
      "pluggy                    1.0.0                    pypi_0    pypi\r\n",
      "ply                       3.11                     pypi_0    pypi\r\n",
      "pooch                     1.4.0              pyhd3eb1b0_0  \r\n",
      "prettytable               3.5.0                    pypi_0    pypi\r\n",
      "prometheus-client         0.14.1                   pypi_0    pypi\r\n",
      "prometheus_client         0.14.1          py310h06a4308_0  \r\n",
      "prompt-toolkit            3.0.36                   pypi_0    pypi\r\n",
      "prompt_toolkit            3.0.36               hd3eb1b0_0  \r\n",
      "protobuf                  3.20.3                   pypi_0    pypi\r\n",
      "psutil                    5.9.0                    pypi_0    pypi\r\n",
      "ptyprocess                0.7.0              pyhd3eb1b0_2  \r\n",
      "pure_eval                 0.2.2              pyhd3eb1b0_0  \r\n",
      "py                        1.11.0             pyhd3eb1b0_0  \r\n",
      "pyasn1                    0.4.8              pyhd3eb1b0_0  \r\n",
      "pyasn1-modules            0.2.8                      py_0  \r\n",
      "pycparser                 2.21               pyhd3eb1b0_0  \r\n",
      "pygments                  2.11.2             pyhd3eb1b0_0  \r\n",
      "pyjwt                     2.4.0                    pypi_0    pypi\r\n",
      "pyopenssl                 23.0.0                   pypi_0    pypi\r\n",
      "pyparsing                 3.0.9                    pypi_0    pypi\r\n",
      "pyqt                      5.15.7          py310h6a678d5_1  \r\n",
      "pyqt5-sip                 12.11.0                  pypi_0    pypi\r\n",
      "pyrsistent                0.18.0                   pypi_0    pypi\r\n",
      "pysocks                   1.7.1                    pypi_0    pypi\r\n",
      "pytest                    7.1.2                    pypi_0    pypi\r\n",
      "pytest-shutil             1.7.0              pyhd8ed1ab_1    conda-forge\r\n",
      "python                    3.10.10              h7a1cb2a_2  \r\n",
      "python-dateutil           2.8.2              pyhd3eb1b0_0  \r\n",
      "python-fastjsonschema     2.16.2          py310h06a4308_0  \r\n",
      "python-flatbuffers        2.0                pyhd3eb1b0_0  \r\n",
      "pytz                      2022.7                   pypi_0    pypi\r\n",
      "pyzmq                     23.2.0                   pypi_0    pypi\r\n",
      "qt-main                   5.15.2               h8373d8f_8  \r\n",
      "qt-webengine              5.15.9               hbbf29b9_6  \r\n",
      "qtconsole                 5.4.2                    pypi_0    pypi\r\n",
      "qtpy                      2.2.0                    pypi_0    pypi\r\n",
      "qtwebkit                  5.212                h3fafdc1_5  \r\n",
      "re2                       2022.04.01           h295c915_0  \r\n",
      "readline                  8.2                  h5eee18b_0  \r\n",
      "regex                     2022.7.9                 pypi_0    pypi\r\n",
      "requests                  2.28.1                   pypi_0    pypi\r\n",
      "requests-oauthlib         1.3.0                      py_0  \r\n",
      "rsa                       4.7.2              pyhd3eb1b0_1  \r\n",
      "scikit-learn              1.2.2                    pypi_0    pypi\r\n",
      "scipy                     1.10.1                   pypi_0    pypi\r\n",
      "seaborn                   0.12.2                   pypi_0    pypi\r\n",
      "send2trash                1.8.0              pyhd3eb1b0_1  \r\n",
      "setuptools                65.6.3                   pypi_0    pypi\r\n",
      "sip                       6.6.2                    pypi_0    pypi\r\n",
      "six                       1.16.0             pyhd3eb1b0_1  \r\n",
      "smart-open                5.2.1                    pypi_0    pypi\r\n",
      "smart_open                5.2.1           py310h06a4308_0  \r\n",
      "snappy                    1.1.9                h295c915_0  \r\n",
      "sniffio                   1.2.0                    pypi_0    pypi\r\n",
      "soupsieve                 2.4                      pypi_0    pypi\r\n",
      "sqlite                    3.41.2               h5eee18b_0  \r\n",
      "stack_data                0.2.0              pyhd3eb1b0_0  \r\n",
      "tenacity                  8.0.1                    pypi_0    pypi\r\n",
      "tensorboard               2.11.0                   pypi_0    pypi\r\n",
      "tensorboard-data-server   0.6.1                    pypi_0    pypi\r\n",
      "tensorboard-plugin-wit    1.8.1                    pypi_0    pypi\r\n",
      "tensorflow                2.11.0                   pypi_0    pypi\r\n",
      "tensorflow-base           2.11.0          mkl_py310he5f8e37_0  \r\n",
      "tensorflow-estimator      2.11.0                   pypi_0    pypi\r\n",
      "termcolor                 2.1.0                    pypi_0    pypi\r\n",
      "terminado                 0.17.1                   pypi_0    pypi\r\n",
      "threadpoolctl             2.2.0              pyh0d69192_0  \r\n",
      "tinycss2                  1.2.1                    pypi_0    pypi\r\n",
      "tk                        8.6.12               h1ccaba5_0  \r\n",
      "toml                      0.10.2             pyhd3eb1b0_0  \r\n",
      "tomli                     2.0.1                    pypi_0    pypi\r\n",
      "tornado                   6.2                      pypi_0    pypi\r\n",
      "tqdm                      4.65.0                   pypi_0    pypi\r\n",
      "traitlets                 5.7.1                    pypi_0    pypi\r\n",
      "tweepy                    4.13.0             pyhd8ed1ab_0    conda-forge\r\n",
      "typing-extensions         4.4.0                    pypi_0    pypi\r\n",
      "typing_extensions         4.4.0           py310h06a4308_0  \r\n",
      "tzdata                    2023c                h04d1e81_0  \r\n",
      "urllib3                   1.26.15                  pypi_0    pypi\r\n",
      "wcwidth                   0.2.5              pyhd3eb1b0_0  \r\n",
      "webencodings              0.5.1                    pypi_0    pypi\r\n",
      "websocket-client          0.58.0                   pypi_0    pypi\r\n",
      "werkzeug                  2.2.3                    pypi_0    pypi\r\n",
      "wheel                     0.38.4                   pypi_0    pypi\r\n",
      "widgetsnbextension        4.0.5                    pypi_0    pypi\r\n",
      "wrapt                     1.14.1                   pypi_0    pypi\r\n",
      "xz                        5.2.10               h5eee18b_1  \r\n",
      "yarl                      1.8.1                    pypi_0    pypi\r\n",
      "zeromq                    4.3.4                h2531618_0  \r\n",
      "zlib                      1.2.13               h5eee18b_0  \r\n",
      "zstd                      1.5.5                hc292b87_0  \r\n"
     ]
    }
   ],
   "source": [
    "!conda list"
   ]
  },
  {
   "cell_type": "markdown",
   "metadata": {},
   "source": [
    "---\n",
    "### ** >>> Exercise 5 (Take home): **  \n",
    "\n",
    "How do the results from the Naive Bayes model and the Decision Tree model compare? How do you interpret these differences? Use the theoretical background covered in class to try and explain these differences."
   ]
  },
  {
   "cell_type": "markdown",
   "metadata": {},
   "source": [
    "Thus, there are several things you can try that will affect your results. In order to yield better results, you can experiment by: \n",
    "    * Trying different features (Feature engineering)\n",
    "        -Eg. Word2Vec,PCA,LDA,FastText, Clustering......\n",
    "    * Trying different models\n",
    "    * Analyzing your results and interpret them to improve your feature engineering/model building process\n",
    "    * Iterate through the steps above until finding a satisfying result\n",
    "Remember that you should also consider the task at hand and the model you'll feed the data to. "
   ]
  },
  {
   "cell_type": "markdown",
   "metadata": {},
   "source": [
    " "
   ]
  },
  {
   "cell_type": "markdown",
   "metadata": {},
   "source": [
    "---\n",
    "## 6. Deep Learning\n",
    "\n",
    "We use [Keras](https://keras.io/) to be our deep learning framwork, and follow the [Model (functional API)](https://keras.io/models/model/) to build a Deep Neural Network (DNN) model. Keras runs with Tensorflow in the backend. It's a nice abstraction to start working with NN models. \n",
    "\n",
    "Because Deep Learning is a 1-semester course, we can't talk about each detail about it in the lab session. Here, we only provide a simple template about how to build & run a DL model successfully. You can follow this template to design your model.\n",
    "\n",
    "We will begin by building a fully connected network, which looks like this:"
   ]
  },
  {
   "cell_type": "markdown",
   "metadata": {},
   "source": [
    "![Fully Connected Network](pics/pic1.png)\n",
    "\n",
    "(source: https://github.com/drewnoff/spark-notebook-ml-labs/tree/master/labs/DLFramework)\n"
   ]
  },
  {
   "cell_type": "markdown",
   "metadata": {
    "pycharm": {
     "name": "#%% md\n"
    }
   },
   "source": [
    "### 6.1 Prepare data (X, y)"
   ]
  },
  {
   "cell_type": "code",
   "execution_count": 34,
   "metadata": {
    "pycharm": {
     "name": "#%%\n"
    }
   },
   "outputs": [
    {
     "name": "stderr",
     "output_type": "stream",
     "text": [
      "2023-05-22 00:13:05.534462: I tensorflow/tsl/cuda/cudart_stub.cc:28] Could not find cuda drivers on your machine, GPU will not be used.\n",
      "2023-05-22 00:13:05.710622: I tensorflow/tsl/cuda/cudart_stub.cc:28] Could not find cuda drivers on your machine, GPU will not be used.\n",
      "2023-05-22 00:13:05.711990: I tensorflow/core/platform/cpu_feature_guard.cc:182] This TensorFlow binary is optimized to use available CPU instructions in performance-critical operations.\n",
      "To enable the following instructions: AVX2 FMA, in other operations, rebuild TensorFlow with the appropriate compiler flags.\n",
      "2023-05-22 00:13:06.552202: W tensorflow/compiler/tf2tensorrt/utils/py_utils.cc:38] TF-TRT Warning: Could not find TensorRT\n"
     ]
    },
    {
     "name": "stdout",
     "output_type": "stream",
     "text": [
      "X_train.shape:  (3613, 500)\n",
      "y_train.shape:  (3613,)\n",
      "X_test.shape:  (347, 500)\n",
      "y_test.shape:  (347,)\n"
     ]
    }
   ],
   "source": [
    "import keras\n",
    "\n",
    "# standardize name (X, y) \n",
    "X_train = BOW_500.transform(train_df['text'])\n",
    "y_train = train_df['emotion']\n",
    "\n",
    "X_test = BOW_500.transform(test_df['text'])\n",
    "y_test = test_df['emotion']\n",
    "\n",
    "## check dimension is a good habbit \n",
    "print('X_train.shape: ', X_train.shape)\n",
    "print('y_train.shape: ', y_train.shape)\n",
    "print('X_test.shape: ', X_test.shape)\n",
    "print('y_test.shape: ', y_test.shape)"
   ]
  },
  {
   "cell_type": "markdown",
   "metadata": {
    "pycharm": {
     "name": "#%% md\n"
    }
   },
   "source": [
    "### 6.2 Deal with categorical label (y)\n",
    "\n",
    "Rather than put your label `train_df['emotion']` directly into a model, we have to process these categorical (or say nominal) label by ourselves. \n",
    "\n",
    "Here, we use the basic method [one-hot encoding](https://en.wikipedia.org/wiki/One-hot) to transform our categorical  labels to numerical ones.\n"
   ]
  },
  {
   "cell_type": "code",
   "execution_count": null,
   "metadata": {
    "pycharm": {
     "name": "#%%\n"
    }
   },
   "outputs": [],
   "source": [
    "## deal with label (string -> one-hot)\n",
    "\n",
    "from sklearn.preprocessing import LabelEncoder\n",
    "\n",
    "label_encoder = LabelEncoder()\n",
    "label_encoder.fit(y_train)\n",
    "print('check label: ', label_encoder.classes_)\n",
    "print('\\n## Before convert')\n",
    "print('y_train[0:4]:\\n', y_train[0:4])\n",
    "print('\\ny_train.shape: ', y_train.shape)\n",
    "print('y_test.shape: ', y_test.shape)\n",
    "\n",
    "def label_encode(le, labels):\n",
    "    enc = le.transform(labels)\n",
    "    return keras.utils.to_categorical(enc)\n",
    "\n",
    "def label_decode(le, one_hot_label):\n",
    "    dec = np.argmax(one_hot_label, axis=1)\n",
    "    return le.inverse_transform(dec)\n",
    "\n",
    "y_train = label_encode(label_encoder, y_train)\n",
    "y_test = label_encode(label_encoder, y_test)\n",
    "\n",
    "print('\\n\\n## After convert')\n",
    "print('y_train[0:4]:\\n', y_train[0:4])\n",
    "print('\\ny_train.shape: ', y_train.shape)\n",
    "print('y_test.shape: ', y_test.shape)\n"
   ]
  },
  {
   "cell_type": "code",
   "execution_count": null,
   "metadata": {
    "pycharm": {
     "name": "#%%\n"
    }
   },
   "outputs": [],
   "source": [
    "!pip list"
   ]
  },
  {
   "cell_type": "code",
   "execution_count": 35,
   "metadata": {},
   "outputs": [
    {
     "name": "stdout",
     "output_type": "stream",
     "text": [
      "check label:  ['anger' 'fear' 'joy' 'sadness']\n",
      "\n",
      "## Before convert\n",
      "y_train[0:4]:\n",
      " 187     anger\n",
      "2524      joy\n",
      "671     anger\n",
      "1760     fear\n",
      "Name: emotion, dtype: object\n",
      "\n",
      "y_train.shape:  (3613,)\n",
      "y_test.shape:  (347,)\n",
      "\n",
      "\n",
      "## After convert\n",
      "y_train[0:4]:\n",
      " [[1. 0. 0. 0.]\n",
      " [0. 0. 1. 0.]\n",
      " [1. 0. 0. 0.]\n",
      " [0. 1. 0. 0.]]\n",
      "\n",
      "y_train.shape:  (3613, 4)\n",
      "y_test.shape:  (347, 4)\n"
     ]
    }
   ],
   "source": [
    "### 6.3 Build model"
   ]
  },
  {
   "cell_type": "code",
   "execution_count": 64,
   "metadata": {},
   "outputs": [
    {
     "name": "stdout",
     "output_type": "stream",
     "text": [
      "Package                      Version\r\n",
      "---------------------------- ---------\r\n",
      "absl-py                      1.3.0\r\n",
      "aiohttp                      3.8.3\r\n",
      "aiosignal                    1.2.0\r\n",
      "anyio                        3.5.0\r\n",
      "appdirs                      1.4.4\r\n",
      "argon2-cffi                  21.3.0\r\n",
      "argon2-cffi-bindings         21.2.0\r\n",
      "asgiref                      3.5.2\r\n",
      "asttokens                    2.0.5\r\n",
      "astunparse                   1.6.3\r\n",
      "async-timeout                4.0.2\r\n",
      "attrs                        22.1.0\r\n",
      "Babel                        2.11.0\r\n",
      "backcall                     0.2.0\r\n",
      "beautifulsoup4               4.12.0\r\n",
      "bleach                       4.1.0\r\n",
      "blinker                      1.4\r\n",
      "Bottleneck                   1.3.5\r\n",
      "brotlipy                     0.7.0\r\n",
      "cachetools                   5.2.0\r\n",
      "certifi                      2022.12.7\r\n",
      "cffi                         1.15.1\r\n",
      "charset-normalizer           2.0.4\r\n",
      "click                        8.0.4\r\n",
      "cloudpickle                  2.1.0\r\n",
      "comm                         0.1.2\r\n",
      "contextlib2                  21.6.0\r\n",
      "contourpy                    1.0.5\r\n",
      "cryptography                 39.0.1\r\n",
      "cycler                       0.11.0\r\n",
      "debugpy                      1.5.1\r\n",
      "decorator                    5.1.1\r\n",
      "defusedxml                   0.7.1\r\n",
      "diff-match-patch             20200713\r\n",
      "Django                       2.2.28\r\n",
      "django-import-export         2.9.0\r\n",
      "einops                       0.4.1\r\n",
      "entrypoints                  0.4\r\n",
      "et-xmlfile                   1.1.0\r\n",
      "execnet                      1.9.0\r\n",
      "executing                    0.8.3\r\n",
      "fairscale                    0.4.8\r\n",
      "faiss-cpu                    1.7.2\r\n",
      "faiss-gpu                    1.7.2\r\n",
      "fastjsonschema               2.16.2\r\n",
      "filelock                     3.9.0\r\n",
      "flatbuffers                  23.5.9\r\n",
      "flit_core                    3.8.0\r\n",
      "fonttools                    4.25.0\r\n",
      "frozenlist                   1.3.3\r\n",
      "gast                         0.4.0\r\n",
      "gdown                        4.7.1\r\n",
      "gensim                       4.3.1\r\n",
      "gitdb                        4.0.9\r\n",
      "GitPython                    3.1.27\r\n",
      "google-auth                  2.18.1\r\n",
      "google-auth-oauthlib         1.0.0\r\n",
      "google-pasta                 0.2.0\r\n",
      "grpcio                       1.50.0\r\n",
      "gym                          0.25.2\r\n",
      "gym-notices                  0.0.8\r\n",
      "h5py                         3.8.0\r\n",
      "idna                         3.4\r\n",
      "iniconfig                    1.1.1\r\n",
      "ipykernel                    6.19.2\r\n",
      "ipython                      8.12.0\r\n",
      "ipython-genutils             0.2.0\r\n",
      "ipywidgets                   8.0.4\r\n",
      "jax                          0.4.10\r\n",
      "jedi                         0.18.1\r\n",
      "Jinja2                       3.1.2\r\n",
      "joblib                       1.2.0\r\n",
      "json5                        0.9.6\r\n",
      "jsonschema                   4.17.3\r\n",
      "jupyter                      1.0.0\r\n",
      "jupyter_client               8.1.0\r\n",
      "jupyter-console              6.6.3\r\n",
      "jupyter_core                 5.3.0\r\n",
      "jupyter-server               1.23.4\r\n",
      "jupyterlab                   3.5.3\r\n",
      "jupyterlab-pygments          0.1.2\r\n",
      "jupyterlab_server            2.22.0\r\n",
      "jupyterlab-widgets           3.0.5\r\n",
      "keras                        2.12.0\r\n",
      "Keras-Preprocessing          1.1.2\r\n",
      "kiwisolver                   1.4.4\r\n",
      "labml                        0.4.159\r\n",
      "labml-helpers                0.4.89\r\n",
      "labml-nn                     0.4.129\r\n",
      "libclang                     16.0.0\r\n",
      "lxml                         4.9.2\r\n",
      "Markdown                     3.4.1\r\n",
      "MarkupPy                     1.14\r\n",
      "MarkupSafe                   2.1.2\r\n",
      "matplotlib                   3.7.1\r\n",
      "matplotlib-inline            0.1.6\r\n",
      "mistune                      0.8.4\r\n",
      "mkl-fft                      1.3.1\r\n",
      "mkl-random                   1.2.2\r\n",
      "mkl-service                  2.4.0\r\n",
      "ml-dtypes                    0.1.0\r\n",
      "mock                         4.0.3\r\n",
      "multidict                    6.0.2\r\n",
      "munkres                      1.1.4\r\n",
      "nbclassic                    0.5.4\r\n",
      "nbclient                     0.5.13\r\n",
      "nbconvert                    6.5.4\r\n",
      "nbformat                     5.7.0\r\n",
      "nest-asyncio                 1.5.6\r\n",
      "nltk                         3.8.1\r\n",
      "notebook                     6.5.3\r\n",
      "notebook_shim                0.2.2\r\n",
      "numexpr                      2.8.4\r\n",
      "numpy                        1.23.2\r\n",
      "oauthlib                     3.2.2\r\n",
      "odfpy                        1.4.1\r\n",
      "openpyxl                     3.0.10\r\n",
      "opt-einsum                   3.3.0\r\n",
      "packaging                    23.0\r\n",
      "pandas                       1.5.3\r\n",
      "pandocfilters                1.5.0\r\n",
      "parso                        0.8.3\r\n",
      "path                         16.2.0\r\n",
      "pexpect                      4.8.0\r\n",
      "pickleshare                  0.7.5\r\n",
      "Pillow                       9.4.0\r\n",
      "pip                          23.0.1\r\n",
      "platformdirs                 2.5.2\r\n",
      "plotly                       5.9.0\r\n",
      "pluggy                       1.0.0\r\n",
      "ply                          3.11\r\n",
      "pooch                        1.4.0\r\n",
      "prettytable                  3.5.0\r\n",
      "prometheus-client            0.14.1\r\n",
      "prompt-toolkit               3.0.36\r\n",
      "protobuf                     4.23.1\r\n",
      "psutil                       5.9.0\r\n",
      "psycopg2-binary              2.9.6\r\n",
      "ptyprocess                   0.7.0\r\n",
      "pure-eval                    0.2.2\r\n",
      "py                           1.11.0\r\n",
      "pyasn1                       0.4.8\r\n",
      "pyasn1-modules               0.2.8\r\n",
      "pycparser                    2.21\r\n",
      "Pygments                     2.11.2\r\n",
      "PyJWT                        2.4.0\r\n",
      "pyOpenSSL                    23.0.0\r\n",
      "pyparsing                    3.0.9\r\n",
      "PyQt5-sip                    12.11.0\r\n",
      "pyrsistent                   0.18.0\r\n",
      "PySocks                      1.7.1\r\n",
      "pytest                       7.1.2\r\n",
      "pytest-shutil                1.7.0\r\n",
      "python-dateutil              2.8.2\r\n",
      "pytz                         2022.7\r\n",
      "pyzmq                        23.2.0\r\n",
      "qtconsole                    5.4.2\r\n",
      "QtPy                         2.2.0\r\n",
      "regex                        2023.5.5\r\n",
      "requests                     2.28.1\r\n",
      "requests-oauthlib            1.3.1\r\n",
      "rsa                          4.9\r\n",
      "scikit-learn                 1.2.2\r\n",
      "scipy                        1.10.1\r\n",
      "seaborn                      0.12.2\r\n",
      "Send2Trash                   1.8.0\r\n",
      "setuptools                   65.6.3\r\n",
      "sip                          6.6.2\r\n",
      "six                          1.16.0\r\n",
      "sklearn                      0.0.post5\r\n",
      "smart-open                   6.3.0\r\n",
      "smmap                        5.0.0\r\n",
      "sniffio                      1.2.0\r\n",
      "soupsieve                    2.4\r\n",
      "sqlparse                     0.4.3\r\n",
      "stack-data                   0.2.0\r\n",
      "tablib                       3.2.1\r\n",
      "tenacity                     8.0.1\r\n",
      "tensorboard                  2.12.3\r\n",
      "tensorboard-data-server      0.7.0\r\n",
      "tensorboard-plugin-wit       1.8.1\r\n",
      "tensorflow                   2.12.0\r\n",
      "tensorflow-estimator         2.12.0\r\n",
      "tensorflow-io-gcs-filesystem 0.32.0\r\n",
      "termcolor                    2.3.0\r\n",
      "terminado                    0.17.1\r\n",
      "threadpoolctl                3.1.0\r\n",
      "tinycss2                     1.2.1\r\n",
      "toml                         0.10.2\r\n",
      "tomli                        2.0.1\r\n",
      "torch                        1.12.1\r\n",
      "torchtext                    0.13.1\r\n",
      "torchvision                  0.13.1\r\n",
      "tornado                      6.2\r\n",
      "tqdm                         4.64.0\r\n",
      "traitlets                    5.7.1\r\n",
      "tweepy                       4.13.0\r\n",
      "typing_extensions            4.3.0\r\n",
      "urllib3                      1.26.15\r\n",
      "wcwidth                      0.2.5\r\n",
      "webencodings                 0.5.1\r\n",
      "websocket-client             0.58.0\r\n",
      "Werkzeug                     2.2.2\r\n",
      "wheel                        0.38.4\r\n",
      "widgetsnbextension           4.0.5\r\n",
      "wrapt                        1.14.1\r\n",
      "xlrd                         2.0.1\r\n",
      "xlwt                         1.3.0\r\n",
      "yarl                         1.8.1\r\n"
     ]
    }
   ],
   "source": [
    "!pip list"
   ]
  },
  {
   "cell_type": "markdown",
   "metadata": {},
   "source": [
    "### 6.3 Build model"
   ]
  },
  {
   "cell_type": "code",
   "execution_count": 36,
   "metadata": {},
   "outputs": [
    {
     "name": "stdout",
     "output_type": "stream",
     "text": [
      "input_shape:  500\n",
      "output_shape:  4\n"
     ]
    }
   ],
   "source": [
    "# I/O check\n",
    "input_shape = X_train.shape[1]\n",
    "print('input_shape: ', input_shape)\n",
    "\n",
    "output_shape = len(label_encoder.classes_)\n",
    "print('output_shape: ', output_shape)"
   ]
  },
  {
   "cell_type": "markdown",
   "metadata": {},
   "source": [
    "![Imgur](pics/pic2.png)"
   ]
  },
  {
   "cell_type": "code",
   "execution_count": 37,
   "metadata": {},
   "outputs": [
    {
     "name": "stdout",
     "output_type": "stream",
     "text": [
      "Model: \"model\"\n",
      "_________________________________________________________________\n",
      " Layer (type)                Output Shape              Param #   \n",
      "=================================================================\n",
      " input_1 (InputLayer)        [(None, 500)]             0         \n",
      "                                                                 \n",
      " dense (Dense)               (None, 64)                32064     \n",
      "                                                                 \n",
      " re_lu (ReLU)                (None, 64)                0         \n",
      "                                                                 \n",
      " dense_1 (Dense)             (None, 64)                4160      \n",
      "                                                                 \n",
      " re_lu_1 (ReLU)              (None, 64)                0         \n",
      "                                                                 \n",
      " dense_2 (Dense)             (None, 4)                 260       \n",
      "                                                                 \n",
      " softmax (Softmax)           (None, 4)                 0         \n",
      "                                                                 \n",
      "=================================================================\n",
      "Total params: 36,484\n",
      "Trainable params: 36,484\n",
      "Non-trainable params: 0\n",
      "_________________________________________________________________\n"
     ]
    },
    {
     "name": "stderr",
     "output_type": "stream",
     "text": [
      "2023-05-22 00:13:08.743359: E tensorflow/compiler/xla/stream_executor/cuda/cuda_driver.cc:266] failed call to cuInit: CUDA_ERROR_NO_DEVICE: no CUDA-capable device is detected\n"
     ]
    }
   ],
   "source": [
    "from keras.models import Model\n",
    "from keras.layers import Input, Dense\n",
    "from keras.layers import ReLU, Softmax\n",
    "\n",
    "# input layer\n",
    "model_input = Input(shape=(input_shape, ))  # 500\n",
    "X = model_input\n",
    "\n",
    "# 1st hidden layer\n",
    "X_W1 = Dense(units=64)(X)  # 64\n",
    "H1 = ReLU()(X_W1)\n",
    "\n",
    "# 2nd hidden layer\n",
    "H1_W2 = Dense(units=64)(H1)  # 64\n",
    "H2 = ReLU()(H1_W2)\n",
    "\n",
    "# output layer\n",
    "H2_W3 = Dense(units=output_shape)(H2)  # 4\n",
    "H3 = Softmax()(H2_W3)\n",
    "\n",
    "model_output = H3\n",
    "\n",
    "# create model\n",
    "model = Model(inputs=[model_input], outputs=[model_output])\n",
    "\n",
    "# loss function & optimizer\n",
    "model.compile(optimizer='adam',\n",
    "              loss='categorical_crossentropy',\n",
    "              metrics=['accuracy'])\n",
    "\n",
    "# show model construction\n",
    "model.summary()"
   ]
  },
  {
   "cell_type": "markdown",
   "metadata": {},
   "source": [
    "### 6.4 Train"
   ]
  },
  {
   "cell_type": "code",
   "execution_count": 38,
   "metadata": {},
   "outputs": [
    {
     "name": "stdout",
     "output_type": "stream",
     "text": [
      "Epoch 1/25\n"
     ]
    },
    {
     "name": "stderr",
     "output_type": "stream",
     "text": [
      "2023-05-22 00:13:08.903244: I tensorflow/core/common_runtime/executor.cc:1197] [/device:CPU:0] (DEBUG INFO) Executor start aborting (this does not indicate an error and you can ignore this message): INVALID_ARGUMENT: You must feed a value for placeholder tensor 'Placeholder/_1' with dtype float and shape [3613,4]\n",
      "\t [[{{node Placeholder/_1}}]]\n",
      "2023-05-22 00:13:08.903511: I tensorflow/core/common_runtime/executor.cc:1197] [/device:CPU:0] (DEBUG INFO) Executor start aborting (this does not indicate an error and you can ignore this message): INVALID_ARGUMENT: You must feed a value for placeholder tensor 'Placeholder/_1' with dtype float and shape [3613,4]\n",
      "\t [[{{node Placeholder/_1}}]]\n"
     ]
    },
    {
     "name": "stdout",
     "output_type": "stream",
     "text": [
      "113/113 [==============================] - 1s 3ms/step - loss: 1.3321 - accuracy: 0.3598 - val_loss: 1.2946 - val_accuracy: 0.4467\n",
      "Epoch 2/25\n",
      "  1/113 [..............................] - ETA: 0s - loss: 1.2163 - accuracy: 0.5625"
     ]
    },
    {
     "name": "stderr",
     "output_type": "stream",
     "text": [
      "2023-05-22 00:13:09.625369: I tensorflow/core/common_runtime/executor.cc:1197] [/device:CPU:0] (DEBUG INFO) Executor start aborting (this does not indicate an error and you can ignore this message): INVALID_ARGUMENT: You must feed a value for placeholder tensor 'Placeholder/_1' with dtype float and shape [347,4]\n",
      "\t [[{{node Placeholder/_1}}]]\n"
     ]
    },
    {
     "name": "stdout",
     "output_type": "stream",
     "text": [
      "113/113 [==============================] - 0s 2ms/step - loss: 1.0102 - accuracy: 0.6418 - val_loss: 0.9473 - val_accuracy: 0.6369\n",
      "Epoch 3/25\n",
      "113/113 [==============================] - 0s 1ms/step - loss: 0.5952 - accuracy: 0.7888 - val_loss: 0.8352 - val_accuracy: 0.6888\n",
      "Epoch 4/25\n",
      "113/113 [==============================] - 0s 1ms/step - loss: 0.4227 - accuracy: 0.8414 - val_loss: 0.8087 - val_accuracy: 0.6772\n",
      "Epoch 5/25\n",
      "113/113 [==============================] - 0s 1ms/step - loss: 0.3426 - accuracy: 0.8735 - val_loss: 0.8532 - val_accuracy: 0.6830\n",
      "Epoch 6/25\n",
      "113/113 [==============================] - 0s 1ms/step - loss: 0.2753 - accuracy: 0.9004 - val_loss: 0.8941 - val_accuracy: 0.6830\n",
      "Epoch 7/25\n",
      "113/113 [==============================] - 0s 1ms/step - loss: 0.2308 - accuracy: 0.9255 - val_loss: 0.9441 - val_accuracy: 0.6974\n",
      "Epoch 8/25\n",
      "113/113 [==============================] - 0s 1ms/step - loss: 0.1927 - accuracy: 0.9366 - val_loss: 0.9794 - val_accuracy: 0.6801\n",
      "Epoch 9/25\n",
      "113/113 [==============================] - 0s 1ms/step - loss: 0.1620 - accuracy: 0.9518 - val_loss: 1.0153 - val_accuracy: 0.6801\n",
      "Epoch 10/25\n",
      "113/113 [==============================] - 0s 1ms/step - loss: 0.1395 - accuracy: 0.9560 - val_loss: 1.0770 - val_accuracy: 0.6628\n",
      "Epoch 11/25\n",
      "113/113 [==============================] - 0s 1ms/step - loss: 0.1287 - accuracy: 0.9610 - val_loss: 1.1531 - val_accuracy: 0.6686\n",
      "Epoch 12/25\n",
      "113/113 [==============================] - 0s 1ms/step - loss: 0.1155 - accuracy: 0.9646 - val_loss: 1.1928 - val_accuracy: 0.6599\n",
      "Epoch 13/25\n",
      "113/113 [==============================] - 0s 1ms/step - loss: 0.1026 - accuracy: 0.9676 - val_loss: 1.2486 - val_accuracy: 0.6744\n",
      "Epoch 14/25\n",
      "113/113 [==============================] - 0s 1ms/step - loss: 0.0935 - accuracy: 0.9673 - val_loss: 1.2814 - val_accuracy: 0.6715\n",
      "Epoch 15/25\n",
      "113/113 [==============================] - 0s 1ms/step - loss: 0.0958 - accuracy: 0.9712 - val_loss: 1.3363 - val_accuracy: 0.6657\n",
      "Epoch 16/25\n",
      "113/113 [==============================] - 0s 1ms/step - loss: 0.0870 - accuracy: 0.9743 - val_loss: 1.2755 - val_accuracy: 0.6772\n",
      "Epoch 17/25\n",
      "113/113 [==============================] - 0s 1ms/step - loss: 0.0782 - accuracy: 0.9759 - val_loss: 1.4104 - val_accuracy: 0.6686\n",
      "Epoch 18/25\n",
      "113/113 [==============================] - 0s 2ms/step - loss: 0.0768 - accuracy: 0.9740 - val_loss: 1.3922 - val_accuracy: 0.6744\n",
      "Epoch 19/25\n",
      "113/113 [==============================] - 0s 2ms/step - loss: 0.0740 - accuracy: 0.9754 - val_loss: 1.4333 - val_accuracy: 0.6686\n",
      "Epoch 20/25\n",
      "113/113 [==============================] - 0s 2ms/step - loss: 0.0817 - accuracy: 0.9737 - val_loss: 1.4304 - val_accuracy: 0.6686\n",
      "Epoch 21/25\n",
      "113/113 [==============================] - 0s 2ms/step - loss: 0.0691 - accuracy: 0.9770 - val_loss: 1.4847 - val_accuracy: 0.6801\n",
      "Epoch 22/25\n",
      "113/113 [==============================] - 0s 2ms/step - loss: 0.0668 - accuracy: 0.9776 - val_loss: 1.4429 - val_accuracy: 0.6830\n",
      "Epoch 23/25\n",
      "113/113 [==============================] - 0s 2ms/step - loss: 0.0680 - accuracy: 0.9762 - val_loss: 1.4813 - val_accuracy: 0.6859\n",
      "Epoch 24/25\n",
      "113/113 [==============================] - 0s 2ms/step - loss: 0.0670 - accuracy: 0.9773 - val_loss: 1.5116 - val_accuracy: 0.6830\n",
      "Epoch 25/25\n",
      "113/113 [==============================] - 0s 2ms/step - loss: 0.0583 - accuracy: 0.9784 - val_loss: 1.5497 - val_accuracy: 0.6772\n",
      "training finish\n"
     ]
    }
   ],
   "source": [
    "from keras.callbacks import CSVLogger\n",
    "\n",
    "csv_logger = CSVLogger('logs/training_log.csv')\n",
    "\n",
    "# training setting\n",
    "epochs = 25\n",
    "batch_size = 32\n",
    "\n",
    "# training!\n",
    "history = model.fit(X_train, y_train, \n",
    "                    epochs=epochs, \n",
    "                    batch_size=batch_size, \n",
    "                    callbacks=[csv_logger],\n",
    "                    validation_data = (X_test, y_test))\n",
    "print('training finish')"
   ]
  },
  {
   "cell_type": "markdown",
   "metadata": {},
   "source": [
    "### 6.5 Predict on testing data"
   ]
  },
  {
   "cell_type": "code",
   "execution_count": 39,
   "metadata": {},
   "outputs": [
    {
     "name": "stderr",
     "output_type": "stream",
     "text": [
      "2023-05-22 00:13:14.001958: I tensorflow/core/common_runtime/executor.cc:1197] [/device:CPU:0] (DEBUG INFO) Executor start aborting (this does not indicate an error and you can ignore this message): INVALID_ARGUMENT: You must feed a value for placeholder tensor 'Placeholder/_0' with dtype variant and shape [347,3]\n",
      "\t [[{{node Placeholder/_0}}]]\n"
     ]
    },
    {
     "name": "stdout",
     "output_type": "stream",
     "text": [
      "3/3 [==============================] - 0s 2ms/step\n"
     ]
    },
    {
     "data": {
      "text/plain": [
       "array([[2.2034149e-03, 9.8861682e-01, 7.3993360e-03, 1.7805473e-03],\n",
       "       [9.9745595e-01, 2.4504603e-03, 2.0273668e-05, 7.3237781e-05],\n",
       "       [5.9987942e-04, 4.7055760e-06, 9.9902326e-01, 3.7207970e-04],\n",
       "       [5.3462086e-06, 9.3096089e-01, 6.8821877e-02, 2.1187872e-04],\n",
       "       [9.8643774e-01, 1.3507329e-02, 6.2523040e-06, 4.8671893e-05]],\n",
       "      dtype=float32)"
      ]
     },
     "execution_count": 39,
     "metadata": {},
     "output_type": "execute_result"
    }
   ],
   "source": [
    "## predict\n",
    "pred_result = model.predict(X_test, batch_size=128)\n",
    "pred_result[:5]"
   ]
  },
  {
   "cell_type": "code",
   "execution_count": 40,
   "metadata": {},
   "outputs": [
    {
     "data": {
      "text/plain": [
       "array(['fear', 'anger', 'joy', 'fear', 'anger'], dtype=object)"
      ]
     },
     "execution_count": 40,
     "metadata": {},
     "output_type": "execute_result"
    }
   ],
   "source": [
    "pred_result = label_decode(label_encoder, pred_result)\n",
    "pred_result[:5]"
   ]
  },
  {
   "cell_type": "code",
   "execution_count": 41,
   "metadata": {},
   "outputs": [
    {
     "name": "stdout",
     "output_type": "stream",
     "text": [
      "testing accuracy: 0.68\n"
     ]
    }
   ],
   "source": [
    "from sklearn.metrics import accuracy_score\n",
    "\n",
    "print('testing accuracy: {}'.format(round(accuracy_score(label_decode(label_encoder, y_test), pred_result), 2)))"
   ]
  },
  {
   "cell_type": "code",
   "execution_count": 42,
   "metadata": {},
   "outputs": [
    {
     "data": {
      "text/html": [
       "<div>\n",
       "<style scoped>\n",
       "    .dataframe tbody tr th:only-of-type {\n",
       "        vertical-align: middle;\n",
       "    }\n",
       "\n",
       "    .dataframe tbody tr th {\n",
       "        vertical-align: top;\n",
       "    }\n",
       "\n",
       "    .dataframe thead th {\n",
       "        text-align: right;\n",
       "    }\n",
       "</style>\n",
       "<table border=\"1\" class=\"dataframe\">\n",
       "  <thead>\n",
       "    <tr style=\"text-align: right;\">\n",
       "      <th></th>\n",
       "      <th>epoch</th>\n",
       "      <th>accuracy</th>\n",
       "      <th>loss</th>\n",
       "      <th>val_accuracy</th>\n",
       "      <th>val_loss</th>\n",
       "    </tr>\n",
       "  </thead>\n",
       "  <tbody>\n",
       "    <tr>\n",
       "      <th>0</th>\n",
       "      <td>0</td>\n",
       "      <td>0.359812</td>\n",
       "      <td>1.332135</td>\n",
       "      <td>0.446686</td>\n",
       "      <td>1.294645</td>\n",
       "    </tr>\n",
       "    <tr>\n",
       "      <th>1</th>\n",
       "      <td>1</td>\n",
       "      <td>0.641849</td>\n",
       "      <td>1.010215</td>\n",
       "      <td>0.636888</td>\n",
       "      <td>0.947282</td>\n",
       "    </tr>\n",
       "    <tr>\n",
       "      <th>2</th>\n",
       "      <td>2</td>\n",
       "      <td>0.788818</td>\n",
       "      <td>0.595158</td>\n",
       "      <td>0.688761</td>\n",
       "      <td>0.835189</td>\n",
       "    </tr>\n",
       "    <tr>\n",
       "      <th>3</th>\n",
       "      <td>3</td>\n",
       "      <td>0.841406</td>\n",
       "      <td>0.422743</td>\n",
       "      <td>0.677233</td>\n",
       "      <td>0.808691</td>\n",
       "    </tr>\n",
       "    <tr>\n",
       "      <th>4</th>\n",
       "      <td>4</td>\n",
       "      <td>0.873512</td>\n",
       "      <td>0.342632</td>\n",
       "      <td>0.682997</td>\n",
       "      <td>0.853218</td>\n",
       "    </tr>\n",
       "    <tr>\n",
       "      <th>5</th>\n",
       "      <td>5</td>\n",
       "      <td>0.900360</td>\n",
       "      <td>0.275347</td>\n",
       "      <td>0.682997</td>\n",
       "      <td>0.894081</td>\n",
       "    </tr>\n",
       "    <tr>\n",
       "      <th>6</th>\n",
       "      <td>6</td>\n",
       "      <td>0.925547</td>\n",
       "      <td>0.230845</td>\n",
       "      <td>0.697406</td>\n",
       "      <td>0.944090</td>\n",
       "    </tr>\n",
       "    <tr>\n",
       "      <th>7</th>\n",
       "      <td>7</td>\n",
       "      <td>0.936618</td>\n",
       "      <td>0.192684</td>\n",
       "      <td>0.680115</td>\n",
       "      <td>0.979417</td>\n",
       "    </tr>\n",
       "    <tr>\n",
       "      <th>8</th>\n",
       "      <td>8</td>\n",
       "      <td>0.951841</td>\n",
       "      <td>0.162006</td>\n",
       "      <td>0.680115</td>\n",
       "      <td>1.015284</td>\n",
       "    </tr>\n",
       "    <tr>\n",
       "      <th>9</th>\n",
       "      <td>9</td>\n",
       "      <td>0.955992</td>\n",
       "      <td>0.139488</td>\n",
       "      <td>0.662824</td>\n",
       "      <td>1.076972</td>\n",
       "    </tr>\n",
       "    <tr>\n",
       "      <th>10</th>\n",
       "      <td>10</td>\n",
       "      <td>0.960974</td>\n",
       "      <td>0.128661</td>\n",
       "      <td>0.668588</td>\n",
       "      <td>1.153089</td>\n",
       "    </tr>\n",
       "    <tr>\n",
       "      <th>11</th>\n",
       "      <td>11</td>\n",
       "      <td>0.964572</td>\n",
       "      <td>0.115461</td>\n",
       "      <td>0.659942</td>\n",
       "      <td>1.192850</td>\n",
       "    </tr>\n",
       "    <tr>\n",
       "      <th>12</th>\n",
       "      <td>12</td>\n",
       "      <td>0.967617</td>\n",
       "      <td>0.102643</td>\n",
       "      <td>0.674352</td>\n",
       "      <td>1.248579</td>\n",
       "    </tr>\n",
       "    <tr>\n",
       "      <th>13</th>\n",
       "      <td>13</td>\n",
       "      <td>0.967340</td>\n",
       "      <td>0.093485</td>\n",
       "      <td>0.671470</td>\n",
       "      <td>1.281415</td>\n",
       "    </tr>\n",
       "    <tr>\n",
       "      <th>14</th>\n",
       "      <td>14</td>\n",
       "      <td>0.971215</td>\n",
       "      <td>0.095844</td>\n",
       "      <td>0.665706</td>\n",
       "      <td>1.336254</td>\n",
       "    </tr>\n",
       "    <tr>\n",
       "      <th>15</th>\n",
       "      <td>15</td>\n",
       "      <td>0.974260</td>\n",
       "      <td>0.087033</td>\n",
       "      <td>0.677233</td>\n",
       "      <td>1.275543</td>\n",
       "    </tr>\n",
       "    <tr>\n",
       "      <th>16</th>\n",
       "      <td>16</td>\n",
       "      <td>0.975920</td>\n",
       "      <td>0.078233</td>\n",
       "      <td>0.668588</td>\n",
       "      <td>1.410361</td>\n",
       "    </tr>\n",
       "    <tr>\n",
       "      <th>17</th>\n",
       "      <td>17</td>\n",
       "      <td>0.973983</td>\n",
       "      <td>0.076778</td>\n",
       "      <td>0.674352</td>\n",
       "      <td>1.392192</td>\n",
       "    </tr>\n",
       "    <tr>\n",
       "      <th>18</th>\n",
       "      <td>18</td>\n",
       "      <td>0.975367</td>\n",
       "      <td>0.073950</td>\n",
       "      <td>0.668588</td>\n",
       "      <td>1.433344</td>\n",
       "    </tr>\n",
       "    <tr>\n",
       "      <th>19</th>\n",
       "      <td>19</td>\n",
       "      <td>0.973706</td>\n",
       "      <td>0.081711</td>\n",
       "      <td>0.668588</td>\n",
       "      <td>1.430391</td>\n",
       "    </tr>\n",
       "    <tr>\n",
       "      <th>20</th>\n",
       "      <td>20</td>\n",
       "      <td>0.977027</td>\n",
       "      <td>0.069063</td>\n",
       "      <td>0.680115</td>\n",
       "      <td>1.484717</td>\n",
       "    </tr>\n",
       "    <tr>\n",
       "      <th>21</th>\n",
       "      <td>21</td>\n",
       "      <td>0.977581</td>\n",
       "      <td>0.066788</td>\n",
       "      <td>0.682997</td>\n",
       "      <td>1.442855</td>\n",
       "    </tr>\n",
       "    <tr>\n",
       "      <th>22</th>\n",
       "      <td>22</td>\n",
       "      <td>0.976197</td>\n",
       "      <td>0.068006</td>\n",
       "      <td>0.685879</td>\n",
       "      <td>1.481307</td>\n",
       "    </tr>\n",
       "    <tr>\n",
       "      <th>23</th>\n",
       "      <td>23</td>\n",
       "      <td>0.977304</td>\n",
       "      <td>0.067026</td>\n",
       "      <td>0.682997</td>\n",
       "      <td>1.511577</td>\n",
       "    </tr>\n",
       "    <tr>\n",
       "      <th>24</th>\n",
       "      <td>24</td>\n",
       "      <td>0.978411</td>\n",
       "      <td>0.058344</td>\n",
       "      <td>0.677233</td>\n",
       "      <td>1.549710</td>\n",
       "    </tr>\n",
       "  </tbody>\n",
       "</table>\n",
       "</div>"
      ],
      "text/plain": [
       "    epoch  accuracy      loss  val_accuracy  val_loss\n",
       "0       0  0.359812  1.332135      0.446686  1.294645\n",
       "1       1  0.641849  1.010215      0.636888  0.947282\n",
       "2       2  0.788818  0.595158      0.688761  0.835189\n",
       "3       3  0.841406  0.422743      0.677233  0.808691\n",
       "4       4  0.873512  0.342632      0.682997  0.853218\n",
       "5       5  0.900360  0.275347      0.682997  0.894081\n",
       "6       6  0.925547  0.230845      0.697406  0.944090\n",
       "7       7  0.936618  0.192684      0.680115  0.979417\n",
       "8       8  0.951841  0.162006      0.680115  1.015284\n",
       "9       9  0.955992  0.139488      0.662824  1.076972\n",
       "10     10  0.960974  0.128661      0.668588  1.153089\n",
       "11     11  0.964572  0.115461      0.659942  1.192850\n",
       "12     12  0.967617  0.102643      0.674352  1.248579\n",
       "13     13  0.967340  0.093485      0.671470  1.281415\n",
       "14     14  0.971215  0.095844      0.665706  1.336254\n",
       "15     15  0.974260  0.087033      0.677233  1.275543\n",
       "16     16  0.975920  0.078233      0.668588  1.410361\n",
       "17     17  0.973983  0.076778      0.674352  1.392192\n",
       "18     18  0.975367  0.073950      0.668588  1.433344\n",
       "19     19  0.973706  0.081711      0.668588  1.430391\n",
       "20     20  0.977027  0.069063      0.680115  1.484717\n",
       "21     21  0.977581  0.066788      0.682997  1.442855\n",
       "22     22  0.976197  0.068006      0.685879  1.481307\n",
       "23     23  0.977304  0.067026      0.682997  1.511577\n",
       "24     24  0.978411  0.058344      0.677233  1.549710"
      ]
     },
     "execution_count": 42,
     "metadata": {},
     "output_type": "execute_result"
    }
   ],
   "source": [
    "#Let's take a look at the training log\n",
    "training_log = pd.DataFrame()\n",
    "training_log = pd.read_csv(\"logs/training_log.csv\")\n",
    "training_log"
   ]
  },
  {
   "cell_type": "markdown",
   "metadata": {},
   "source": [
    "---\n",
    "### ** >>> Exercise 6 (Take home): **  \n",
    "\n",
    "Plot the Training and Validation Accuracy and Loss (different plots), just like the images below (Note: the pictures below are an example from a different model). How to interpret the graphs you got? How are they related to the concept of overfitting/underfitting covered in class?\n",
    "<table><tr>\n",
    "    <td><img src=\"pics/pic3.png\" style=\"width: 300px;\"/> </td>\n",
    "    <td><img src=\"pics/pic4.png\" style=\"width: 300px;\"/> </td>\n",
    "</tr></table>"
   ]
  },
  {
   "cell_type": "code",
   "execution_count": 43,
   "metadata": {},
   "outputs": [],
   "source": [
    "# Answer here\n",
    "import pandas as pd\n",
    "import matplotlib.pyplot as plt\n",
    "\n",
    "# Load the training log data\n",
    "training_log = pd.read_csv(\"logs/training_log.csv\")\n",
    "\n",
    "# Extract the accuracy and loss values\n",
    "train_acc = training_log['accuracy']\n",
    "val_acc = training_log['val_accuracy']\n",
    "train_loss = training_log['loss']\n",
    "val_loss = training_log['val_loss']\n",
    "\n",
    "# Plot the training and validation accuracy\n",
    "plt.plot(train_acc, label='Training Accuracy')\n",
    "plt.plot(val_acc, label='Validation Accuracy')\n",
    "plt.title('Training and Validation Accuracy')\n",
    "plt.xlabel('Epochs')\n",
    "plt.ylabel('Accuracy')\n",
    "plt.legend()\n",
    "plt.show()\n",
    "\n",
    "# Plot the training and validation loss\n",
    "plt.plot(train_loss, label='Training Loss')\n",
    "plt.plot(val_loss, label='Validation Loss')\n",
    "plt.title('Training and Validation Loss')\n",
    "plt.xlabel('Epochs')\n",
    "plt.ylabel('Loss')\n",
    "plt.legend()\n",
    "plt.show()\n"
   ]
  },
  {
   "cell_type": "markdown",
   "metadata": {},
   "source": [
    "---"
   ]
  },
  {
   "cell_type": "markdown",
   "metadata": {},
   "source": [
    "### Note\n",
    "\n",
    "If you don't have a GPU (level is higher than GTX 1060) or you are not good at setting lots of things about computer, we recommend you to use the [kaggle kernel](https://www.kaggle.com/kernels) to do deep learning model training. They have already installed all the librarys and provided free GPU for you to use.\n",
    "\n",
    "Note however that you will only be able to run a kernel for 6 hours. After 6 hours of inactivity, your Kaggle kernel will shut down (meaning if your model takes more than 6 hours to train, you can't train it at once).\n",
    "\n",
    "\n",
    "### More Information for your reference\n",
    "\n",
    "* Keras document: https://keras.io/\n",
    "* Keras GitHub example: https://github.com/keras-team/keras/tree/master/examples\n",
    "* CS229: Machine Learning: http://cs229.stanford.edu/syllabus.html\n",
    "* Deep Learning cheatsheet: https://stanford.edu/~shervine/teaching/cs-229/cheatsheet-deep-learning\n",
    "* If you want to try TensorFlow or PyTorch: https://pytorch.org/tutorials/\n",
    "https://www.tensorflow.org/tutorials/quickstart/beginner"
   ]
  },
  {
   "cell_type": "markdown",
   "metadata": {},
   "source": [
    "---\n",
    "## 7. Word2Vector\n",
    "\n",
    "We will introduce how to use `gensim` to train your word2vec model and how to load a pre-trained model.\n",
    "\n",
    "https://radimrehurek.com/gensim/index.html"
   ]
  },
  {
   "cell_type": "markdown",
   "metadata": {},
   "source": [
    "### 7.1 Prepare training corpus"
   ]
  },
  {
   "cell_type": "code",
   "execution_count": 44,
   "metadata": {},
   "outputs": [
    {
     "data": {
      "text/html": [
       "<div>\n",
       "<style scoped>\n",
       "    .dataframe tbody tr th:only-of-type {\n",
       "        vertical-align: middle;\n",
       "    }\n",
       "\n",
       "    .dataframe tbody tr th {\n",
       "        vertical-align: top;\n",
       "    }\n",
       "\n",
       "    .dataframe thead th {\n",
       "        text-align: right;\n",
       "    }\n",
       "</style>\n",
       "<table border=\"1\" class=\"dataframe\">\n",
       "  <thead>\n",
       "    <tr style=\"text-align: right;\">\n",
       "      <th></th>\n",
       "      <th>id</th>\n",
       "      <th>text</th>\n",
       "      <th>text_tokenized</th>\n",
       "    </tr>\n",
       "  </thead>\n",
       "  <tbody>\n",
       "    <tr>\n",
       "      <th>187</th>\n",
       "      <td>10187.0</td>\n",
       "      <td>@deshbhakthoon always unhappy and easily offen...</td>\n",
       "      <td>[@, deshbhakthoon, always, unhappy, and, easil...</td>\n",
       "    </tr>\n",
       "    <tr>\n",
       "      <th>2524</th>\n",
       "      <td>30520.0</td>\n",
       "      <td>@88Palouseriver @ABC @NRA I rejoice everything...</td>\n",
       "      <td>[@, 88Palouseriver, @, ABC, @, NRA, I, rejoice...</td>\n",
       "    </tr>\n",
       "    <tr>\n",
       "      <th>671</th>\n",
       "      <td>10671.0</td>\n",
       "      <td>Prayers &amp;amp; Protection to our brothers and s...</td>\n",
       "      <td>[Prayers, &amp;, amp, ;, Protection, to, our, brot...</td>\n",
       "    </tr>\n",
       "    <tr>\n",
       "      <th>1760</th>\n",
       "      <td>20903.0</td>\n",
       "      <td>#aliens #zombie #gore #slash #ghost #sith #hor...</td>\n",
       "      <td>[#, aliens, #, zombie, #, gore, #, slash, #, g...</td>\n",
       "    </tr>\n",
       "    <tr>\n",
       "      <th>1585</th>\n",
       "      <td>20728.0</td>\n",
       "      <td>courage the cowardly dog is like american horr...</td>\n",
       "      <td>[courage, the, cowardly, dog, is, like, americ...</td>\n",
       "    </tr>\n",
       "  </tbody>\n",
       "</table>\n",
       "</div>"
      ],
      "text/plain": [
       "           id                                               text  \\\n",
       "187   10187.0  @deshbhakthoon always unhappy and easily offen...   \n",
       "2524  30520.0  @88Palouseriver @ABC @NRA I rejoice everything...   \n",
       "671   10671.0  Prayers &amp; Protection to our brothers and s...   \n",
       "1760  20903.0  #aliens #zombie #gore #slash #ghost #sith #hor...   \n",
       "1585  20728.0  courage the cowardly dog is like american horr...   \n",
       "\n",
       "                                         text_tokenized  \n",
       "187   [@, deshbhakthoon, always, unhappy, and, easil...  \n",
       "2524  [@, 88Palouseriver, @, ABC, @, NRA, I, rejoice...  \n",
       "671   [Prayers, &, amp, ;, Protection, to, our, brot...  \n",
       "1760  [#, aliens, #, zombie, #, gore, #, slash, #, g...  \n",
       "1585  [courage, the, cowardly, dog, is, like, americ...  "
      ]
     },
     "execution_count": 44,
     "metadata": {},
     "output_type": "execute_result"
    }
   ],
   "source": [
    "## check library\n",
    "import gensim\n",
    "\n",
    "## ignore warnings\n",
    "import warnings\n",
    "warnings.filterwarnings('ignore')\n",
    "\n",
    "# # if you want to see the training messages, you can use it\n",
    "# import logging\n",
    "# logging.basicConfig(format='%(asctime)s : %(levelname)s : %(message)s', level=logging.INFO)\n",
    "\n",
    "## the input type\n",
    "train_df['text_tokenized'] = train_df['text'].apply(lambda x: nltk.word_tokenize(x))\n",
    "train_df[['id', 'text', 'text_tokenized']].head()"
   ]
  },
  {
   "cell_type": "code",
   "execution_count": 45,
   "metadata": {},
   "outputs": [
    {
     "data": {
      "text/plain": [
       "array([list(['@', 'deshbhakthoon', 'always', 'unhappy', 'and', 'easily', 'offended', '.']),\n",
       "       list(['@', '88Palouseriver', '@', 'ABC', '@', 'NRA', 'I', 'rejoice', 'everything', 'time', 'some', 'moron', 'is', 'taken', 'out', 'of', 'the', 'genetics', 'pool', '.']),\n",
       "       list(['Prayers', '&', 'amp', ';', 'Protection', 'to', 'our', 'brothers', 'and', 'sisters', 'fighting', 'in', '#', 'Charlotte', '#', 'rage', '#', 'against', '#', 'machines'])],\n",
       "      dtype=object)"
      ]
     },
     "execution_count": 45,
     "metadata": {},
     "output_type": "execute_result"
    }
   ],
   "source": [
    "## create the training corpus\n",
    "training_corpus = train_df['text_tokenized'].values\n",
    "training_corpus[:3]"
   ]
  },
  {
   "cell_type": "markdown",
   "metadata": {},
   "source": [
    "### 7.2 Training our model\n",
    "\n",
    "You can try to train your own model. More details: https://radimrehurek.com/gensim/models/word2vec.html"
   ]
  },
  {
   "cell_type": "code",
   "execution_count": 46,
   "metadata": {},
   "outputs": [
    {
     "data": {
      "text/html": [
       "<div>\n",
       "<style scoped>\n",
       "    .dataframe tbody tr th:only-of-type {\n",
       "        vertical-align: middle;\n",
       "    }\n",
       "\n",
       "    .dataframe tbody tr th {\n",
       "        vertical-align: top;\n",
       "    }\n",
       "\n",
       "    .dataframe thead th {\n",
       "        text-align: right;\n",
       "    }\n",
       "</style>\n",
       "<table border=\"1\" class=\"dataframe\">\n",
       "  <thead>\n",
       "    <tr style=\"text-align: right;\">\n",
       "      <th></th>\n",
       "      <th>id</th>\n",
       "      <th>text</th>\n",
       "      <th>text_tokenized</th>\n",
       "    </tr>\n",
       "  </thead>\n",
       "  <tbody>\n",
       "    <tr>\n",
       "      <th>187</th>\n",
       "      <td>10187.0</td>\n",
       "      <td>@deshbhakthoon always unhappy and easily offen...</td>\n",
       "      <td>[@, deshbhakthoon, always, unhappy, and, easil...</td>\n",
       "    </tr>\n",
       "    <tr>\n",
       "      <th>2524</th>\n",
       "      <td>30520.0</td>\n",
       "      <td>@88Palouseriver @ABC @NRA I rejoice everything...</td>\n",
       "      <td>[@, 88Palouseriver, @, ABC, @, NRA, I, rejoice...</td>\n",
       "    </tr>\n",
       "    <tr>\n",
       "      <th>671</th>\n",
       "      <td>10671.0</td>\n",
       "      <td>Prayers &amp;amp; Protection to our brothers and s...</td>\n",
       "      <td>[Prayers, &amp;, amp, ;, Protection, to, our, brot...</td>\n",
       "    </tr>\n",
       "    <tr>\n",
       "      <th>1760</th>\n",
       "      <td>20903.0</td>\n",
       "      <td>#aliens #zombie #gore #slash #ghost #sith #hor...</td>\n",
       "      <td>[#, aliens, #, zombie, #, gore, #, slash, #, g...</td>\n",
       "    </tr>\n",
       "    <tr>\n",
       "      <th>1585</th>\n",
       "      <td>20728.0</td>\n",
       "      <td>courage the cowardly dog is like american horr...</td>\n",
       "      <td>[courage, the, cowardly, dog, is, like, americ...</td>\n",
       "    </tr>\n",
       "  </tbody>\n",
       "</table>\n",
       "</div>"
      ],
      "text/plain": [
       "           id                                               text  \\\n",
       "187   10187.0  @deshbhakthoon always unhappy and easily offen...   \n",
       "2524  30520.0  @88Palouseriver @ABC @NRA I rejoice everything...   \n",
       "671   10671.0  Prayers &amp; Protection to our brothers and s...   \n",
       "1760  20903.0  #aliens #zombie #gore #slash #ghost #sith #hor...   \n",
       "1585  20728.0  courage the cowardly dog is like american horr...   \n",
       "\n",
       "                                         text_tokenized  \n",
       "187   [@, deshbhakthoon, always, unhappy, and, easil...  \n",
       "2524  [@, 88Palouseriver, @, ABC, @, NRA, I, rejoice...  \n",
       "671   [Prayers, &, amp, ;, Protection, to, our, brot...  \n",
       "1760  [#, aliens, #, zombie, #, gore, #, slash, #, g...  \n",
       "1585  [courage, the, cowardly, dog, is, like, americ...  "
      ]
     },
     "execution_count": 46,
     "metadata": {},
     "output_type": "execute_result"
    }
   ],
   "source": [
    "## the input type\n",
    "train_df['text_tokenized'] = train_df['text'].apply(lambda x: nltk.word_tokenize(x))\n",
    "train_df[['id', 'text', 'text_tokenized']].head()"
   ]
  },
  {
   "cell_type": "code",
   "execution_count": 47,
   "metadata": {
    "scrolled": true
   },
   "outputs": [],
   "source": [
    "from gensim.models import Word2Vec\n",
    "\n",
    "## setting\n",
    "vector_dim = 100\n",
    "window_size = 5\n",
    "min_count = 1\n",
    "training_iter = 20\n",
    "\n",
    "## model\n",
    "word2vec_model = Word2Vec(sentences=training_corpus, \n",
    "                          vector_size=vector_dim, window=window_size, \n",
    "                          min_count=min_count, epochs=training_iter)"
   ]
  },
  {
   "cell_type": "markdown",
   "metadata": {},
   "source": [
    "![Imgur](https://i.imgur.com/Fca3MCs.png)"
   ]
  },
  {
   "cell_type": "markdown",
   "metadata": {},
   "source": [
    "### 7.3 Generating word vector (embeddings)"
   ]
  },
  {
   "cell_type": "code",
   "execution_count": 48,
   "metadata": {},
   "outputs": [
    {
     "data": {
      "text/plain": [
       "array([ 0.52135634,  0.17599455,  0.03360422,  0.01025453,  0.25398064,\n",
       "       -1.2909724 ,  0.35727662,  1.1949292 , -0.27392998, -0.8371836 ,\n",
       "       -0.3747086 , -1.0357339 ,  0.08067263,  0.76960444, -0.1622279 ,\n",
       "       -0.37169215,  0.5539252 , -0.6003494 ,  0.5746731 , -1.1213126 ,\n",
       "        0.5059831 ,  1.018902  ,  0.58036375,  0.0078295 ,  0.13926074,\n",
       "        0.04872673, -0.6515528 ,  0.78502035, -0.6566488 ,  0.02525922,\n",
       "        0.41668296,  0.05139142,  0.29796758, -0.56811637, -0.3318578 ,\n",
       "        0.23426703,  0.27207422, -0.12552914, -0.18785062, -0.48437497,\n",
       "        0.10098006, -0.0059643 , -0.40717545,  0.45538142,  0.38431934,\n",
       "       -0.0989233 , -0.7234475 , -0.06197263,  0.24192013,  0.31299564,\n",
       "       -0.32162082, -0.44420695,  0.14930712, -0.27396196, -0.21720989,\n",
       "       -0.65197086,  0.31832904, -0.26936117, -0.04688222,  0.36226276,\n",
       "       -0.09130552, -0.04053706,  0.31327096,  0.20432515, -0.5682625 ,\n",
       "        0.9560811 ,  0.06603941,  0.3281618 , -1.2117894 ,  0.6342409 ,\n",
       "        0.04915866,  0.68975383,  0.86097157, -0.48818278,  0.7574014 ,\n",
       "        0.05495175,  0.4228891 , -0.15747453, -0.20735858, -0.1263704 ,\n",
       "       -0.95126474, -0.00658493, -0.89213353,  0.6632262 ,  0.09331357,\n",
       "       -0.55047214,  0.35154384,  0.17278951,  0.22103542,  0.6978457 ,\n",
       "        0.9944581 ,  0.13462324,  0.25884554,  0.15748158,  0.85602033,\n",
       "       -0.30582997,  0.03070843, -0.19805665,  0.45250466,  0.07844548],\n",
       "      dtype=float32)"
      ]
     },
     "execution_count": 48,
     "metadata": {},
     "output_type": "execute_result"
    }
   ],
   "source": [
    "# get the corresponding vector of a word\n",
    "word_vec = word2vec_model.wv['happy']\n",
    "word_vec"
   ]
  },
  {
   "cell_type": "code",
   "execution_count": 49,
   "metadata": {},
   "outputs": [
    {
     "data": {
      "text/plain": [
       "[(\"'you\", 0.9298132658004761),\n",
       " ('ship', 0.9218499064445496),\n",
       " ('Be', 0.9152469038963318),\n",
       " ('Online', 0.9139770269393921),\n",
       " ('birthday', 0.9112827181816101),\n",
       " ('blessing', 0.9096512794494629),\n",
       " (\"'this\", 0.9066929221153259),\n",
       " ('depress', 0.9060410261154175),\n",
       " ('Kik', 0.9040958881378174),\n",
       " ('hope', 0.9017580151557922)]"
      ]
     },
     "execution_count": 49,
     "metadata": {},
     "output_type": "execute_result"
    }
   ],
   "source": [
    "# Get the most similar words\n",
    "word = 'happy'\n",
    "topn = 10\n",
    "word2vec_model.wv.most_similar(word, topn=topn)"
   ]
  },
  {
   "cell_type": "markdown",
   "metadata": {},
   "source": [
    "### 7.4 Using a pre-trained w2v model\n",
    "\n",
    "Instead of training your own model ,you can use a model that has already been trained. Here, we see 2 ways of doing that:\n",
    "\n",
    "\n",
    "#### (1) Download model by yourself\n",
    "\n",
    "source: [GoogleNews-vectors-negative300](https://code.google.com/archive/p/word2vec/)\n",
    "\n",
    "more details: https://radimrehurek.com/gensim/models/keyedvectors.html"
   ]
  },
  {
   "cell_type": "code",
   "execution_count": 50,
   "metadata": {},
   "outputs": [
    {
     "name": "stdout",
     "output_type": "stream",
     "text": [
      "/home/danieldu/Desktop/github/FJCU_DataMining/Lab2/GoogleNews/GoogleNews-vectors-negative300.bin\n",
      "File exists.\n"
     ]
    }
   ],
   "source": [
    "import os \n",
    "cwd = os.getcwd()\n",
    "path = cwd + \"/GoogleNews/GoogleNews-vectors-negative300.bin\"\n",
    "print(path)\n",
    "if os.path.isfile(path):\n",
    "    print(\"File exists.\")\n",
    "else:\n",
    "    print(\"File does not exist.\")"
   ]
  },
  {
   "cell_type": "code",
   "execution_count": 51,
   "metadata": {},
   "outputs": [
    {
     "name": "stdout",
     "output_type": "stream",
     "text": [
      "load ok\n"
     ]
    },
    {
     "data": {
      "text/plain": [
       "[('glad', 0.7408890724182129),\n",
       " ('pleased', 0.6632170677185059),\n",
       " ('ecstatic', 0.6626912355422974),\n",
       " ('overjoyed', 0.6599286794662476),\n",
       " ('thrilled', 0.6514049172401428),\n",
       " ('satisfied', 0.6437949538230896),\n",
       " ('proud', 0.636042058467865),\n",
       " ('delighted', 0.627237856388092),\n",
       " ('disappointed', 0.6269949674606323),\n",
       " ('excited', 0.6247665286064148)]"
      ]
     },
     "execution_count": 51,
     "metadata": {},
     "output_type": "execute_result"
    }
   ],
   "source": [
    "from gensim.models import KeyedVectors\n",
    "## Note: this model is very huge, this will take some time ...\n",
    "w2v_google_model = KeyedVectors.load_word2vec_format(path, binary=True)\n",
    "print('load ok')\n",
    "w2v_google_model.most_similar('happy', topn=10)"
   ]
  },
  {
   "cell_type": "code",
   "execution_count": 52,
   "metadata": {},
   "outputs": [
    {
     "name": "stdout",
     "output_type": "stream",
     "text": [
      "load ok\n"
     ]
    },
    {
     "data": {
      "text/plain": [
       "[('glad', 0.7408890724182129),\n",
       " ('pleased', 0.6632170677185059),\n",
       " ('ecstatic', 0.6626912355422974),\n",
       " ('overjoyed', 0.6599286794662476),\n",
       " ('thrilled', 0.6514049172401428),\n",
       " ('satisfied', 0.6437949538230896),\n",
       " ('proud', 0.636042058467865),\n",
       " ('delighted', 0.627237856388092),\n",
       " ('disappointed', 0.6269949674606323),\n",
       " ('excited', 0.6247665286064148)]"
      ]
     },
     "execution_count": 52,
     "metadata": {},
     "output_type": "execute_result"
    }
   ],
   "source": [
    "from gensim.models import KeyedVectors\n",
    "\n",
    "## Note: this model is very huge, this will take some time ...\n",
    "w2v_google_model = KeyedVectors.load_word2vec_format(path, binary=True)\n",
    "print('load ok')\n",
    "\n",
    "w2v_google_model.most_similar('happy', topn=10)"
   ]
  },
  {
   "cell_type": "markdown",
   "metadata": {},
   "source": [
    "#### (2) Using gensim api\n",
    "\n",
    "Other pretrained models are available here: https://github.com/RaRe-Technologies/gensim-data"
   ]
  },
  {
   "cell_type": "code",
   "execution_count": 53,
   "metadata": {},
   "outputs": [
    {
     "name": "stdout",
     "output_type": "stream",
     "text": [
      "load ok\n"
     ]
    },
    {
     "data": {
      "text/plain": [
       "[('birthday', 0.9577818512916565),\n",
       " ('thank', 0.937666654586792),\n",
       " ('welcome', 0.93361496925354),\n",
       " ('love', 0.9176183342933655),\n",
       " ('miss', 0.9164500832557678),\n",
       " ('hello', 0.9158351421356201),\n",
       " ('thanks', 0.915008544921875),\n",
       " ('merry', 0.9053249359130859),\n",
       " ('bless', 0.902732253074646),\n",
       " ('wish', 0.9013164043426514)]"
      ]
     },
     "execution_count": 53,
     "metadata": {},
     "output_type": "execute_result"
    }
   ],
   "source": [
    "import gensim.downloader as api\n",
    "\n",
    "## If you see `SSL: CERTIFICATE_VERIFY_FAILED` error, use this:\n",
    "import ssl\n",
    "import urllib.request\n",
    "ssl._create_default_https_context = ssl._create_unverified_context\n",
    "\n",
    "glove_twitter_25_model = api.load(\"glove-twitter-25\")\n",
    "print('load ok')\n",
    "\n",
    "glove_twitter_25_model.most_similar('happy', topn=10)"
   ]
  },
  {
   "cell_type": "markdown",
   "metadata": {},
   "source": [
    "### 7.5 king + woman - man = ?"
   ]
  },
  {
   "cell_type": "markdown",
   "metadata": {},
   "source": [
    "Let's run one of the most famous examples for Word2Vec and compute the similarity between these 3 words:"
   ]
  },
  {
   "cell_type": "code",
   "execution_count": 54,
   "metadata": {},
   "outputs": [
    {
     "data": {
      "text/plain": [
       "[('queen', 0.7118193507194519),\n",
       " ('monarch', 0.6189674139022827),\n",
       " ('princess', 0.5902431011199951),\n",
       " ('crown_prince', 0.5499460697174072),\n",
       " ('prince', 0.5377321839332581),\n",
       " ('kings', 0.5236844420433044),\n",
       " ('Queen_Consort', 0.5235945582389832),\n",
       " ('queens', 0.5181134343147278),\n",
       " ('sultan', 0.5098593831062317),\n",
       " ('monarchy', 0.5087411999702454)]"
      ]
     },
     "execution_count": 54,
     "metadata": {},
     "output_type": "execute_result"
    }
   ],
   "source": [
    "w2v_google_model.most_similar(positive=['king', 'woman'], negative=['man'])"
   ]
  },
  {
   "cell_type": "markdown",
   "metadata": {},
   "source": [
    "---\n",
    "### ** >>> Exercise 7 (Take home): **  \n",
    "\n",
    "Now, we have the word vectors, but our input data is a sequence of words (or say sentence). \n",
    "How can we utilize these \"word\" vectors to represent the sentence data and train our model?\n"
   ]
  },
  {
   "cell_type": "code",
   "execution_count": 55,
   "metadata": {},
   "outputs": [],
   "source": [
    "# Answer here\n",
    "\n",
    "# Another approach to obtain a fixed-length vector representation for a sentence is by averaging the word vectors within the sentence.\n",
    "# This method involves summing up all the word vectors in the sentence and dividing the sum by the total number of words.\n",
    "# For instance, if a sentence consists of three words with corresponding word vectors: [v1, v2, v3], the sentence vector would \n",
    "# be calculated as (v1 + v2 + v3) / 3.\n",
    "# Although this approach disregards the specific word order, it captures the overall meaning of the sentence.\n"
   ]
  },
  {
   "cell_type": "markdown",
   "metadata": {},
   "source": [
    "### 8. Clustering: k-means\n",
    "\n",
    "Here we introduce how to use `sklearn` to do the basic **unsupervised learning** approach, k-means.    \n",
    "\n",
    "more details: http://scikit-learn.org/stable/modules/generated/sklearn.cluster.KMeans.html\n"
   ]
  },
  {
   "cell_type": "markdown",
   "metadata": {},
   "source": [
    "#### Basic concept\n",
    "\n",
    "![Image](https://i.imgur.com/PEdUf54.png)\n",
    "\n",
    "(img source: https://towardsdatascience.com/k-means-clustering-identifying-f-r-i-e-n-d-s-in-the-world-of-strangers-695537505d)"
   ]
  },
  {
   "cell_type": "code",
   "execution_count": 56,
   "metadata": {},
   "outputs": [
    {
     "name": "stdout",
     "output_type": "stream",
     "text": [
      "target words:  ['happy', 'fear', 'angry', 'car', 'teacher', 'computer']\n"
     ]
    }
   ],
   "source": [
    "# clustering target\n",
    "target_list = ['happy', 'fear', 'angry', 'car', 'teacher', 'computer']\n",
    "print('target words: ', target_list)\n",
    "\n",
    "# convert to word vector\n",
    "X = [word2vec_model.wv[word] for word in target_list]"
   ]
  },
  {
   "cell_type": "code",
   "execution_count": 57,
   "metadata": {},
   "outputs": [
    {
     "name": "stdout",
     "output_type": "stream",
     "text": [
      "word: happy \t cluster: 1\n",
      "word: fear \t cluster: 1\n",
      "word: angry \t cluster: 1\n",
      "word: car \t cluster: 0\n",
      "word: teacher \t cluster: 0\n",
      "word: computer \t cluster: 0\n"
     ]
    }
   ],
   "source": [
    "from sklearn.cluster import KMeans\n",
    "\n",
    "# we have to decide how many cluster (k) we want\n",
    "k = 2\n",
    "\n",
    "# k-means model\n",
    "kmeans_model = KMeans(n_clusters=k)\n",
    "kmeans_model.fit(X)\n",
    "\n",
    "# cluster result\n",
    "cluster_result = kmeans_model.labels_\n",
    "\n",
    "# show\n",
    "for i in range(len(target_list)):\n",
    "    print('word: {} \\t cluster: {}'.format(target_list[i], cluster_result[i]))"
   ]
  },
  {
   "cell_type": "markdown",
   "metadata": {},
   "source": [
    "![Imgur](pics/pic6.png)"
   ]
  },
  {
   "cell_type": "code",
   "execution_count": 58,
   "metadata": {},
   "outputs": [
    {
     "data": {
      "text/plain": [
       "array([0], dtype=int32)"
      ]
     },
     "execution_count": 58,
     "metadata": {},
     "output_type": "execute_result"
    }
   ],
   "source": [
    "#check cluster membership\n",
    "word = 'student'\n",
    "word_vec = word2vec_model.wv[word]\n",
    "kmeans_model.predict([word_vec])"
   ]
  },
  {
   "cell_type": "code",
   "execution_count": 59,
   "metadata": {},
   "outputs": [
    {
     "data": {
      "text/plain": [
       "array([1], dtype=int32)"
      ]
     },
     "execution_count": 59,
     "metadata": {},
     "output_type": "execute_result"
    }
   ],
   "source": [
    "#check cluster membership\n",
    "word = 'sad'\n",
    "word_vec = word2vec_model.wv[word]\n",
    "kmeans_model.predict([word_vec])"
   ]
  },
  {
   "cell_type": "markdown",
   "metadata": {},
   "source": [
    "\n",
    "## 9. High-dimension Visualization: t-SNE\n",
    "\n",
    "No matter if you use the Bag-of-words, tf-idf, or word2vec, it's very hard to see the embedding result, because the dimension is larger than 3.  \n",
    "\n",
    "In Lab 1, we already talked about PCA. We can use PCA to reduce the dimension of our data, then visualize it. However, if you dig deeper into the result, you'd find it is insufficient...\n",
    "\n",
    "Our aim will be to create a visualization similar to the one below:"
   ]
  },
  {
   "cell_type": "markdown",
   "metadata": {},
   "source": [
    "![Image](pics/pic7.png)\n",
    "source: https://www.fabian-keller.de/research/high-dimensional-data-visualization "
   ]
  },
  {
   "cell_type": "markdown",
   "metadata": {},
   "source": [
    "Here we would like to introduce another visualization method called t-SNE.  \n",
    "http://scikit-learn.org/stable/modules/generated/sklearn.manifold.TSNE.html "
   ]
  },
  {
   "cell_type": "markdown",
   "metadata": {},
   "source": [
    "### 9.1 Prepare visualizing target"
   ]
  },
  {
   "cell_type": "markdown",
   "metadata": {},
   "source": [
    "Let's repare data lists like:\n",
    "    - happpy words\n",
    "    - angry words\n",
    "    - data words\n",
    "    - mining words"
   ]
  },
  {
   "cell_type": "code",
   "execution_count": 60,
   "metadata": {
    "pycharm": {
     "name": "#%%\n"
    }
   },
   "outputs": [
    {
     "name": "stdout",
     "output_type": "stream",
     "text": [
      "happy_words:  ['happy', 'glad', 'pleased', 'ecstatic', 'overjoyed', 'thrilled']\n",
      "angry_words:  ['angry', 'irate', 'enraged', 'indignant', 'incensed', 'annoyed']\n",
      "data_words:  ['data', 'Data', 'datasets', 'dataset', 'databases', 'statistics']\n",
      "mining_words:  ['mining', 'Mining', 'mines', 'coal_mining', 'mine', 'miner']\n",
      "\n",
      "target words: \n",
      "['happy', 'glad', 'pleased', 'ecstatic', 'overjoyed', 'thrilled', 'angry', 'irate', 'enraged', 'indignant', 'incensed', 'annoyed', 'data', 'Data', 'datasets', 'dataset', 'databases', 'statistics', 'mining', 'Mining', 'mines', 'coal_mining', 'mine', 'miner']\n",
      "\n",
      "color list:\n",
      "['b', 'b', 'b', 'b', 'b', 'b', 'g', 'g', 'g', 'g', 'g', 'g', 'r', 'r', 'r', 'r', 'r', 'r', 'y', 'y', 'y', 'y', 'y', 'y']\n"
     ]
    }
   ],
   "source": [
    "word_list = ['happy', 'angry', 'data', 'mining']\n",
    "\n",
    "topn = 5\n",
    "happy_words = ['happy'] + [word_ for word_, sim_ in w2v_google_model.most_similar('happy', topn=topn)]\n",
    "angry_words = ['angry'] + [word_ for word_, sim_ in w2v_google_model.most_similar('angry', topn=topn)]        \n",
    "data_words = ['data'] + [word_ for word_, sim_ in w2v_google_model.most_similar('data', topn=topn)]        \n",
    "mining_words = ['mining'] + [word_ for word_, sim_ in w2v_google_model.most_similar('mining', topn=topn)]        \n",
    "\n",
    "print('happy_words: ', happy_words)\n",
    "print('angry_words: ', angry_words)\n",
    "print('data_words: ', data_words)\n",
    "print('mining_words: ', mining_words)\n",
    "\n",
    "target_words = happy_words + angry_words + data_words + mining_words\n",
    "print('\\ntarget words: ')\n",
    "print(target_words)\n",
    "\n",
    "print('\\ncolor list:')\n",
    "cn = topn + 1\n",
    "color = ['b'] * cn + ['g'] * cn + ['r'] * cn + ['y'] * cn\n",
    "print(color)"
   ]
  },
  {
   "cell_type": "markdown",
   "metadata": {},
   "source": [
    "### 9.1 Plot using t-SNE (2-dimension)"
   ]
  },
  {
   "cell_type": "code",
   "execution_count": 61,
   "metadata": {},
   "outputs": [
    {
     "data": {
      "image/png": "[encoded data removed]",
      "text/plain": [
       "<Figure size 862.5x862.5 with 1 Axes>"
      ]
     },
     "metadata": {},
     "output_type": "display_data"
    }
   ],
   "source": [
    "%matplotlib inline\n",
    "import matplotlib.pyplot as plt\n",
    "from sklearn.manifold import TSNE\n",
    "\n",
    "## w2v model\n",
    "model = w2v_google_model\n",
    "\n",
    "## prepare training word vectors\n",
    "size = 200\n",
    "target_size = len(target_words)\n",
    "all_word = list(model.index_to_key)\n",
    "word_train = target_words + all_word[:size]\n",
    "X_train = model[word_train]\n",
    "\n",
    "## t-SNE model\n",
    "tsne = TSNE(n_components=2, metric='cosine', random_state=28)\n",
    "\n",
    "## training\n",
    "X_tsne = tsne.fit_transform(X_train)\n",
    "\n",
    "## plot the result\n",
    "plt.figure(figsize=(7.5, 7.5), dpi=115)\n",
    "plt.scatter(X_tsne[:target_size, 0], X_tsne[:target_size, 1], c=color)\n",
    "for label, x, y in zip(target_words, X_tsne[:target_size, 0], X_tsne[:target_size, 1]):\n",
    "    plt.annotate(label, xy=(x,y), xytext=(0,0),  textcoords='offset points')\n",
    "plt.show()"
   ]
  },
  {
   "cell_type": "markdown",
   "metadata": {},
   "source": [
    "---\n",
    "### ** >>> Exercise 8 (Take home): **  \n",
    "\n",
    "Generate a t-SNE visualization to show the 15 words most related to the words \"angry\", \"happy\", \"sad\", \"fear\" (60 words total)."
   ]
  },
  {
   "cell_type": "code",
   "execution_count": 63,
   "metadata": {},
   "outputs": [
    {
     "name": "stdout",
     "output_type": "stream",
     "text": [
      "angry_words:  ['angry', 'irate', 'enraged', 'indignant', 'incensed', 'annoyed', 'agitated', 'frustrated', 'furious', 'unhappy', 'outraged', 'livid', 'irritated', 'exasperated', 'angrier']\n",
      "happy_words:  ['happy', 'glad', 'pleased', 'ecstatic', 'overjoyed', 'thrilled', 'satisfied', 'proud', 'delighted', 'disappointed', 'excited', 'happier', 'Said_Hirschbeck', 'elated', 'thankful']\n",
      "sad_words:  ['sad', 'saddening', 'Sad', 'saddened', 'heartbreaking', 'disheartening', 'Meny_Friedman', 'parishioner_Pat_Patello', 'saddens_me', 'distressing', 'reminders_bobbing', 'Turkoman_Shiites', 'saddest', 'unfortunate', 'sorry']\n",
      "fear_words:  ['fear', 'fearful', 'fears', 'Fear', 'fearing', 'worry', 'dread', 'feared', 'anxiety', 'apprehension', 'afraid', 'worries', 'concern', 'distrust', 'worried']\n",
      "\n",
      "target words: \n",
      "['angry', 'irate', 'enraged', 'indignant', 'incensed', 'annoyed', 'agitated', 'frustrated', 'furious', 'unhappy', 'outraged', 'livid', 'irritated', 'exasperated', 'angrier', 'happy', 'glad', 'pleased', 'ecstatic', 'overjoyed', 'thrilled', 'satisfied', 'proud', 'delighted', 'disappointed', 'excited', 'happier', 'Said_Hirschbeck', 'elated', 'thankful', 'sad', 'saddening', 'Sad', 'saddened', 'heartbreaking', 'disheartening', 'Meny_Friedman', 'parishioner_Pat_Patello', 'saddens_me', 'distressing', 'reminders_bobbing', 'Turkoman_Shiites', 'saddest', 'unfortunate', 'sorry', 'fear', 'fearful', 'fears', 'Fear', 'fearing', 'worry', 'dread', 'feared', 'anxiety', 'apprehension', 'afraid', 'worries', 'concern', 'distrust', 'worried']\n",
      "\n",
      "color list:\n",
      "['b', 'b', 'b', 'b', 'b', 'b', 'b', 'b', 'b', 'b', 'b', 'b', 'b', 'b', 'b', 'g', 'g', 'g', 'g', 'g', 'g', 'g', 'g', 'g', 'g', 'g', 'g', 'g', 'g', 'g', 'r', 'r', 'r', 'r', 'r', 'r', 'r', 'r', 'r', 'r', 'r', 'r', 'r', 'r', 'r', 'y', 'y', 'y', 'y', 'y', 'y', 'y', 'y', 'y', 'y', 'y', 'y', 'y', 'y', 'y']\n"
     ]
    }
   ],
   "source": [
    "# Answer here\n",
    "word_list = ['angry', 'happy', 'sad', 'fear']\n",
    "\n",
    "topn = 14 # 0~14: total 15\n",
    "angry_words = ['angry'] + [word_ for word_, sim_ in w2v_google_model.most_similar('angry', topn=topn)]\n",
    "happy_words = ['happy'] + [word_ for word_, sim_ in w2v_google_model.most_similar('happy', topn=topn)]        \n",
    "sad_words = ['sad'] + [word_ for word_, sim_ in w2v_google_model.most_similar('sad', topn=topn)]        \n",
    "fear_words = ['fear'] + [word_ for word_, sim_ in w2v_google_model.most_similar('fear', topn=topn)]        \n",
    "\n",
    "print('angry_words: ', angry_words)\n",
    "print('happy_words: ', happy_words)\n",
    "print('sad_words: ', sad_words)\n",
    "print('fear_words: ', fear_words)\n",
    "\n",
    "target_words_ = angry_words + happy_words + sad_words + fear_words\n",
    "print('\\ntarget words: ')\n",
    "print(target_words_)\n",
    "\n",
    "print('\\ncolor list:')\n",
    "cn = topn + 1\n",
    "color = ['b'] * cn + ['g'] * cn + ['r'] * cn + ['y'] * cn\n",
    "print(color)"
   ]
  }
 ],
 "metadata": {
  "kernelspec": {
   "display_name": "Python 3 (ipykernel)",
   "language": "python",
   "name": "python3"
  },
  "language_info": {
   "codemirror_mode": {
    "name": "ipython",
    "version": 3
   },
   "file_extension": ".py",
   "mimetype": "text/x-python",
   "name": "python",
   "nbconvert_exporter": "python",
   "pygments_lexer": "ipython3",
   "version": "3.10.10"
  },
  "varInspector": {
   "cols": {
    "lenName": 16,
    "lenType": 16,
    "lenVar": 40
   },
   "kernels_config": {
    "python": {
     "delete_cmd_postfix": "",
     "delete_cmd_prefix": "del ",
     "library": "var_list.py",
     "varRefreshCmd": "print(var_dic_list())"
    },
    "r": {
     "delete_cmd_postfix": ") ",
     "delete_cmd_prefix": "rm(",
     "library": "var_list.r",
     "varRefreshCmd": "cat(var_dic_list()) "
    }
   },
   "oldHeight": 594.85,
   "position": {
    "height": "40px",
    "left": "723px",
    "right": "20px",
    "top": "80px",
    "width": "250px"
   },
   "types_to_exclude": [
    "module",
    "function",
    "builtin_function_or_method",
    "instance",
    "_Feature"
   ],
   "varInspector_section_display": "none",
   "window_display": true
  }
 },
 "nbformat": 4,
 "nbformat_minor": 2
}